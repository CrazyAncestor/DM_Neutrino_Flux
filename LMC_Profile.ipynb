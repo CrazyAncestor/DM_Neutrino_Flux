{
  "nbformat": 4,
  "nbformat_minor": 0,
  "metadata": {
    "colab": {
      "name": "LMC_Profile.ipynb",
      "provenance": [],
      "authorship_tag": "ABX9TyNIn4Bn9YFrivSFeiqL9DOX",
      "include_colab_link": true
    },
    "kernelspec": {
      "name": "python3",
      "display_name": "Python 3"
    },
    "language_info": {
      "name": "python"
    }
  },
  "cells": [
    {
      "cell_type": "markdown",
      "metadata": {
        "id": "view-in-github",
        "colab_type": "text"
      },
      "source": [
        "<a href=\"https://colab.research.google.com/github/CrazyAncestor/DM_Neutrino_Flux/blob/master/LMC_Profile.ipynb\" target=\"_parent\"><img src=\"https://colab.research.google.com/assets/colab-badge.svg\" alt=\"Open In Colab\"/></a>"
      ]
    },
    {
      "cell_type": "code",
      "execution_count": 1,
      "metadata": {
        "id": "u1eX5Wy-c5KJ"
      },
      "outputs": [],
      "source": [
        "import numpy as np\n",
        "import scipy.integrate as integrate\n",
        "import matplotlib.pyplot as plt\n",
        "from scipy.optimize import minimize"
      ]
    },
    {
      "cell_type": "code",
      "source": [
        "# Different models' profiles\n",
        "def NFW_dens(x):\n",
        "    return (1/((1+x)*(1+x)*x))\n",
        "def Burkert_dens(x):\n",
        "    return ((1/((1+x)*(1+x*x))))\n",
        "def Hernquist_dens(x):\n",
        "    return (1/((1+x)*(1+x)*(1+x)*x))\n",
        "def Plummer_dens(x):\n",
        "    return (1+x*x)**(-2.5)"
      ],
      "metadata": {
        "id": "7lifZpKUc-1s"
      },
      "execution_count": 2,
      "outputs": []
    },
    {
      "cell_type": "code",
      "source": [
        "def EnclosedMass(r_cut,rho_s,rs,model_name):\n",
        "    # r_cut is the cutoff radius, rho_s is the scaling density, rs is the scaling radius,and model_name is the type of the model.\n",
        "    x = r_cut/rs\n",
        "    def massbase(x):\n",
        "        if model_name ==\"Burkert\":\n",
        "            return 4*np.pi*x*x*(rs**3) *Burkert_dens(x)\n",
        "        elif model_name ==\"NFW\":\n",
        "            return 4*np.pi*x*x*(rs**3) *NFW_dens(x)\n",
        "        elif model_name ==\"Plummer\":\n",
        "            return 4*np.pi*x*x*(rs**3) *Plummer_dens(x)\n",
        "        elif model_name ==\"Hernquist\":\n",
        "            return 4*np.pi*x*x*(rs**3) *Hernquist_dens(x)\n",
        "    f = integrate.nquad(massbase, [[0,x]])[0] *rho_s\n",
        "    return f"
      ],
      "metadata": {
        "id": "hwTGHJsTdF1-"
      },
      "execution_count": 3,
      "outputs": []
    },
    {
      "cell_type": "code",
      "source": [
        "def FindScalingDens(mass,rs,r_cut,model_name):\n",
        "    # Given a mass, the scaling radius, cutoff radius, and the type of model, we can calculate the corresponding scaling density.\n",
        "    rho_0 =1.0\n",
        "    mass_init = EnclosedMass(r_cut,rho_0,rs,model_name)\n",
        "    rho_0 = rho_0*mass/mass_init\n",
        "    return rho_0"
      ],
      "metadata": {
        "id": "rs4PBApLiVw_"
      },
      "execution_count": 4,
      "outputs": []
    },
    {
      "cell_type": "code",
      "source": [
        "def FindScalingRadius(ra,rb,ma,mb,model_name):\n",
        "    # Given a set of (ra,ma) and (rb,mb), calculate the corresponding scaling radius.\n",
        "    # ra and rb are the cutoff radii, and ma and mb are their corresponding cutoff masses.\n",
        "    # We iterate over different scaling radius rs to find if the cutoff masses can correspond to the given values ra, rb.\n",
        "    def f(rs):\n",
        "        ma2 = EnclosedMass(ra,1.0,rs,model_name)\n",
        "        mb2 = EnclosedMass(rb,1.0,rs,model_name)\n",
        "        return np.abs(mb2/ma2 - mb/ma)\n",
        "    rs = ra\n",
        "    res = minimize(f, rs, method='nelder-mead')\n",
        "    return res.x"
      ],
      "metadata": {
        "id": "RSNS4KxXjZfm"
      },
      "execution_count": 5,
      "outputs": []
    },
    {
      "cell_type": "markdown",
      "source": [
        "From Erkal et al. (2019), we know that the enclosed mass of LMC within radius 8.7 kpc is 1.7e10 MSun, and now we adopt the pro. rMW+LMC model setup in Erkal et al. (2019)'s paper. The total mass of the model is 1.38e11 MSun. We now want to first determine this LMC model's cutoff radius and scaling radius."
      ],
      "metadata": {
        "id": "7qBev0r9k7vb"
      }
    },
    {
      "cell_type": "code",
      "source": [
        "# First set up LMC's parameters\n",
        "ra = 8.7 # unit kpc\n",
        "ma = 1.7e10 # enclosed mass within 8.7 kpc, unit: MSun\n",
        "r_cut =  np.linspace(30,50,100) # possible cutoff radius of LMC\n",
        "m_tot = 1.38e11 # total mass of LMC\n",
        "model_type = \"Hernquist\" # We chose Hernquist profile"
      ],
      "metadata": {
        "id": "QfVmSvcwk1eE"
      },
      "execution_count": 6,
      "outputs": []
    },
    {
      "cell_type": "code",
      "source": [
        "rs = [] # scaling radius corresponding to specific enclosed masses and cutoff radii\n",
        "for i in range(len(r_cut)):\n",
        "  rs.append(FindScalingRadius(ra,r_cut[i],ma,m_tot,model_type))\n",
        "plt.plot(r_cut,rs)\n",
        "plt.xlabel('cutoff radius (kpc)')\n",
        "plt.ylabel('scaling radius (kpc)')\n",
        "plt.show()"
      ],
      "metadata": {
        "colab": {
          "base_uri": "https://localhost:8080/",
          "height": 279
        },
        "id": "oY7GiyZNngMP",
        "outputId": "f12bd17b-9a95-472e-edf0-97eef606efaf"
      },
      "execution_count": 7,
      "outputs": [
        {
          "output_type": "display_data",
          "data": {
            "image/png": "[encoded data removed]",
            "text/plain": [
              "<Figure size 432x288 with 1 Axes>"
            ]
          },
          "metadata": {
            "needs_background": "light"
          }
        }
      ]
    },
    {
      "cell_type": "markdown",
      "source": [
        "We can see that the corresponding scaling radius varies a lot with different choice of cutoff radius. The maximum cutoff radius is 50 kpc, which is the distance from LMC to Earth."
      ],
      "metadata": {
        "id": "Jw7yC7BvoHD_"
      }
    },
    {
      "cell_type": "markdown",
      "source": [
        "Now we choose 50 kpc to be the cutoff radius and calculate its corresponding scaling radius and density, and then obtain its density profile."
      ],
      "metadata": {
        "id": "zr-e0TUAohMS"
      }
    },
    {
      "cell_type": "code",
      "source": [
        "r_cut = 50\n",
        "rs = FindScalingRadius(ra,r_cut,ma,m_tot,model_type)\n",
        "rho_s = FindScalingDens(m_tot,rs,r_cut,model_type)\n",
        "r = np.linspace(0.01,50,100) # unit: kpc\n",
        "m = []\n",
        "for i in range(len(r)):\n",
        "  m.append(EnclosedMass(r[i],rho_s,rs,model_type))"
      ],
      "metadata": {
        "id": "vqxX2WFFoF5K"
      },
      "execution_count": 11,
      "outputs": []
    },
    {
      "cell_type": "code",
      "source": [
        "plt.plot(r,m)\n",
        "plt.xlabel('Radius (kpc)')\n",
        "plt.ylabel('Enclosed mass (MSun)')\n",
        "plt.show()"
      ],
      "metadata": {
        "colab": {
          "base_uri": "https://localhost:8080/",
          "height": 290
        },
        "id": "IDAm69EApMCe",
        "outputId": "00417dad-d0f0-4ee4-cd12-4a7d68c9ebee"
      },
      "execution_count": 12,
      "outputs": [
        {
          "output_type": "display_data",
          "data": {
            "image/png": "[encoded data removed]",
            "text/plain": [
              "<Figure size 432x288 with 1 Axes>"
            ]
          },
          "metadata": {
            "needs_background": "light"
          }
        }
      ]
    }
  ]
}