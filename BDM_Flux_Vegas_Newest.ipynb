{
  "cells": [
    {
      "cell_type": "markdown",
      "metadata": {
        "id": "view-in-github",
        "colab_type": "text"
      },
      "source": [
        "<a href=\"https://colab.research.google.com/github/CrazyAncestor/DM_Neutrino_Flux/blob/master/BDM_Flux_Vegas_Newest.ipynb\" target=\"_parent\"><img src=\"https://colab.research.google.com/assets/colab-badge.svg\" alt=\"Open In Colab\"/></a>"
      ]
    },
    {
      "cell_type": "code",
      "execution_count": 1,
      "metadata": {
        "id": "_MRCpbP-Hfdf",
        "colab": {
          "base_uri": "https://localhost:8080/"
        },
        "outputId": "ebea48b5-0188-4635-9133-b6c531c4ff17"
      },
      "outputs": [
        {
          "output_type": "stream",
          "name": "stdout",
          "text": [
            "Collecting vegas\n",
            "  Downloading vegas-5.1.1.tar.gz (1.3 MB)\n",
            "\u001b[K     |████████████████████████████████| 1.3 MB 4.3 MB/s \n",
            "\u001b[?25hRequirement already satisfied: numpy>=1.7 in /usr/local/lib/python3.7/dist-packages (from vegas) (1.21.5)\n",
            "Collecting gvar>=8.0\n",
            "  Downloading gvar-11.9.5.tar.gz (1.8 MB)\n",
            "\u001b[K     |████████████████████████████████| 1.8 MB 42.0 MB/s \n",
            "\u001b[?25hRequirement already satisfied: scipy in /usr/local/lib/python3.7/dist-packages (from gvar>=8.0->vegas) (1.4.1)\n",
            "Building wheels for collected packages: vegas, gvar\n",
            "  Building wheel for vegas (setup.py) ... \u001b[?25l\u001b[?25hdone\n",
            "  Created wheel for vegas: filename=vegas-5.1.1-cp37-cp37m-linux_x86_64.whl size=1501858 sha256=4f14699c05a9a10228446ca8c97a2f93fbc069ccd31cd195ebf4ef582824f94f\n",
            "  Stored in directory: /root/.cache/pip/wheels/5c/e4/05/3bcde90bc37d2c2b77a85b376b36926daee5516139fa9cd610\n",
            "  Building wheel for gvar (setup.py) ... \u001b[?25l\u001b[?25hdone\n",
            "  Created wheel for gvar: filename=gvar-11.9.5-cp37-cp37m-linux_x86_64.whl size=3932967 sha256=11f7ce5212ee22568e1af670fdc759bce815b419273376ffda8b5dbe2ce12189\n",
            "  Stored in directory: /root/.cache/pip/wheels/74/6d/86/61d8c751b1a5cb7a3ec8b31659442208a8fc07fb1632fc61dc\n",
            "Successfully built vegas gvar\n",
            "Installing collected packages: gvar, vegas\n",
            "Successfully installed gvar-11.9.5 vegas-5.1.1\n"
          ]
        }
      ],
      "source": [
        "import numpy as np\n",
        "import math as mt\n",
        "import matplotlib.pyplot as plt\n",
        "import scipy.integrate as integrate\n",
        "import scipy.optimize as opt\n",
        "!pip install vegas\n",
        "import vegas"
      ]
    },
    {
      "cell_type": "code",
      "execution_count": 2,
      "metadata": {
        "id": "W9gJdTv7IVAB"
      },
      "outputs": [],
      "source": [
        "# Global constants\n",
        "# light speed, cm\n",
        "c = 3*1e10\n",
        "# kpc to cm\n",
        "kpc2cm = 3.08*1e21\n",
        "# erg to MeV\n",
        "erg2MeV = 624150.913\n",
        "# year in seconds\n",
        "yr = 31536000\n",
        "# Neutrino lumonisity, single specie\n",
        "Lv = 3e52/6"
      ]
    },
    {
      "cell_type": "markdown",
      "source": [
        "# **SN neutrino and DM halo profile**\n",
        "The neutrino number density per energy\n",
        "$\\frac{dn_\\nu}{dE_\\nu}(r,E_\\nu) = \\sum_\\beta \\frac{L_{\\nu_{\\beta}}}{4\\pi r^2 c \\langle E_{\\nu_\\beta}\\rangle}f_{\\nu_\\beta}(E_{\\nu_\\beta})$ \\\\\n",
        "where $\\beta$ indicates the neutrino flavor and\n",
        "$f_{\\nu_\\beta}(E_{\\nu_\\beta}) = \\frac{1}{F_2(\\eta_\\nu)}\\frac{1}{T_{\\nu_\\beta}^3}\\frac{E_{\\nu_\\beta}^2}{\\exp(E_{\\nu_\\beta}/T_{\\nu_\\beta} -\\eta_\\nu)+1}$ \\\\\n",
        "and in general $\\eta_{\\nu}=3$ for all flavor $\\beta$ and $F_2(\\eta_{\\nu})\\approx18.96$. \\\\\n",
        " \\\\\n",
        "For Milky Way (MW), we adopt NFW DM density profile\n",
        "$n_\\chi(r)=\\frac{\\rho_\\chi}{m_\\chi}\\frac{1}{\\frac{r}{r_s}(1+\\frac{r}{r_s})^2}$ \\\\\n",
        "where $\\rho_\\chi = 184\\,{\\rm MeV/cm}^3$ and $r_s=24.42\\,{\\rm kpc}$.\n",
        " \\\\\n",
        "For Large Magellanic Cloud (LMC), we adopt Hernquist DM density profile\n",
        "$n_\\chi(r)=\\frac{\\rho_\\chi}{m_\\chi}\\frac{1}{\\frac{r}{r_s}(1+\\frac{r}{r_s})^3}$ \\\\\n",
        "where $\\rho_\\chi = 68\\,{\\rm MeV/cm}^3$ and $r_s=31.9\\,{\\rm kpc}$.\n"
      ],
      "metadata": {
        "id": "gYjmmDYXYie0"
      }
    },
    {
      "cell_type": "code",
      "execution_count": 3,
      "metadata": {
        "id": "gipowkm3IYBw"
      },
      "outputs": [],
      "source": [
        "def dnvdEv(r,Ev,Lv=Lv):\n",
        "    \"\"\"\n",
        "    Neutrino number density per energy at r\n",
        "    \n",
        "    Input\n",
        "    ------\n",
        "    Enu: Neutrino energy in MeV\n",
        "    r: Distance to the SN explosion site, in kpc\n",
        "    Lv: Neutrino luminosity, default is 1e52 erg/s, total time is 10 second\n",
        "    \n",
        "    Output\n",
        "    ------\n",
        "    Neutrino flux at r: # per Enu per cm**3 per second\n",
        "    \"\"\"\n",
        "    Lv = Lv*erg2MeV\n",
        "    r = r*kpc2cm\n",
        "    \n",
        "    def _fv(Ev,Tv):\n",
        "        \"\"\"\n",
        "        Fermi-Dirac distribution\n",
        "        \"\"\"\n",
        "        return (1/18.9686)*(1/Tv**3)*(Ev**2/(np.exp(Ev/Tv - 3)+1))\n",
        "    \n",
        "    nue_dist = _fv(Ev,2.76)/11\n",
        "    nueb_dist = _fv(Ev,4.01)/16\n",
        "    # total 4 species for x\n",
        "    nux_dist = _fv(Ev,6.26)/25\n",
        "    \n",
        "    L=Lv/(4*np.pi*r**2*c)\n",
        "    return L*(nue_dist+nueb_dist+4*nux_dist)\n",
        "\n",
        "def nx(r,mx,type='LMC'):\n",
        "    \"\"\"\n",
        "    DM number density at r\n",
        "    \n",
        "    Input\n",
        "    ------\n",
        "    r: distance to GC, in kpc\n",
        "    mx: DM mass in MeV\n",
        "    rho: characteristic density, 184 MeV/cm^3 for Milky Way, 68 MeV/cm^3 for LMC\n",
        "    rs: characteristic length, 24.42 kpc for Milky Way, 31.90 kpc for LMC\n",
        "    type: density profile type, like NFW (Milky Way) or Hernquist (LMC) profile\n",
        "    \n",
        "    Output\n",
        "    ------\n",
        "    DM number density, #/cm^3 at r\n",
        "    \"\"\"\n",
        "    if type=='MW':\n",
        "        rho = 184\n",
        "        rs = 24.42\n",
        "        x = r/rs\n",
        "        rho_num = rho/mx\n",
        "        return rho_num/(x*(1+x)**2)\n",
        "    elif type=='MW_Simplified':\n",
        "        return 4488/mx\n",
        "    elif type=='LMC':\n",
        "        rho = 68\n",
        "        rs = 31.9\n",
        "        x = r/rs\n",
        "        rho_num = rho/mx\n",
        "        return rho_num/(x*(1+x)**3)"
      ]
    },
    {
      "cell_type": "markdown",
      "source": [
        "# **Upscattered DM emissivity** \n",
        "$j_\\chi^N(r,T_\\chi,\\alpha)=\\frac{dn_\\chi}{dtdT_\\chi d\\Omega_\\alpha}=\\frac{dn_\\chi}{dtdE_\\nu d\\Omega_\\alpha}\\frac{dE_\\nu}{dT_\\chi}=c\\sigma_{\\chi \\nu}n_\\chi(r)\\frac{dn_\\nu}{dE_\\nu}g(\\alpha,E_\\nu)\\frac{dE_\\nu}{dT_\\chi},$ \\\\\n",
        "where $g(\\alpha,E_\\nu)$ is the angular distribution of the upscattered DM, $dT_\\chi$ the upscattered DM kinetic energy and $\\alpha$ the scattering angle. \\\\\n",
        "The angluar distribution is given by\n",
        "$g(\\alpha,E_\\nu)=\\frac{dn_\\chi}{d\\Omega_\\alpha}=\\frac{\\sin[2\\tan^{-1}(\\gamma \\tan\\alpha)]}{2\\pi \\sin\\alpha}\\frac{\\gamma \\sec^2\\alpha}{1+\\gamma^2\\tan^2\\alpha}=\\frac{\\gamma^2}{\\pi}\\frac{\\sec^3\\alpha}{(1+\\gamma^2\\tan^2\\alpha)^2} = \\frac{\\gamma^2}{\\pi}\\frac{r^3\\sqrt{r^2-R^2\\sin^2\\theta}}{(r^2+R^2(\\gamma^2-1)\\sin^2\\theta)^2}$ \\\\\n",
        "and satisfies the normalization condiation \\\\\n",
        "$\\int g(\\alpha,E_\\nu)d\\cos\\alpha d\\phi =1$ \\\\\n",
        "where $\\alpha$ runs from $0$ to $\\pi/2$ and $\\gamma=E_\\chi/m_\\chi$. As a matter of fact, the above condition is irrelevant to $\\gamma$. \\\\\n"
      ],
      "metadata": {
        "id": "EqjFMZVVbU91"
      }
    },
    {
      "cell_type": "markdown",
      "source": [
        "**Find $E_\\nu$ with given $T_\\chi$ and $\\alpha$** \\\\\n",
        "$T_\\chi = \\frac{E_\\nu^2}{E_\\nu+m_\\chi/2}\\left(\\frac{1+\\cos\\theta_c}{2}\\right)$ \\\\\n",
        "and \\\\\n",
        "$\\theta_c = 2\\tan^{-1}(\\gamma \\tan\\alpha)$ \\\\\n",
        "Thus we have the differential \\\\\n",
        "$\\frac{dE_\\nu}{dT_\\chi}= \\frac{m_{\\chi}^{2}\\sec\\alpha(2\\sec\\alpha\\sqrt{T_{\\chi}(2m_{\\chi}+T_{\\chi})}+2m_{\\chi}+T_{\\chi}\\sec^{2}\\alpha+T_{\\chi})}{(T_{\\chi}\\tan^{2}\\alpha-2m_{\\chi})^2\\sqrt{T_{\\chi}(2m_{\\chi}+T_{\\chi})}}=\\frac{m_{\\chi}^{2}\\left(\\frac{2\\sqrt{T_{\\chi}\\left(2m_{\\chi}+T_{\\chi}\\right)}}{\\sqrt{1-\\frac{R^{2}\\sin^{2}\\theta}{r^{2}}}}+2m_{\\chi}+\\frac{T_{\\chi}}{1-\\frac{R^{2}\\sin^{2}\\theta}{r^{2}}}+2T_{\\chi}\\right)}{\\sqrt{T_{\\chi}\\left(2m_{\\chi}+T_{\\chi}\\right)}\\sqrt{1-\\frac{R^{2}\\sin^{2}\\theta}{r^{2}}}\\left(\\frac{R^{2}\\sin^{2}\\theta T_{\\chi}}{r^{2}-R^{2}\\sin^{2}\\theta}-2m_{\\chi}\\right){}^{2}}$ \\\\\n"
      ],
      "metadata": {
        "id": "6Nr8bH93dnPk"
      }
    },
    {
      "cell_type": "code",
      "execution_count": 4,
      "metadata": {
        "id": "xWYyFs35IayJ"
      },
      "outputs": [],
      "source": [
        "def gamma(Ev,mx):\n",
        "    \"\"\"\n",
        "    Calculate gamma factor in CM frame\n",
        "    \"\"\"\n",
        "    if np.isnan((Ev + mx)/((mx**2+2*mx*Ev)**0.5)):\n",
        "        print(Ev,mx,mx**2+2*mx*Ev)\n",
        "    return (Ev + mx)/((mx**2+2*mx*Ev)**0.5)\n",
        "def g(Ev,mx,alpha):\n",
        "    \"\"\"\n",
        "    Calculate BDM angular distribution\n",
        "    \n",
        "    Input\n",
        "    ------\n",
        "    Ev: Neutrino energy\n",
        "    mx: DM mass\n",
        "    alpha: lab frame scattering angle in [0,Pi/2]\n",
        "    \n",
        "    Output\n",
        "    ------\n",
        "    g: PDF of scattering angle alpha\n",
        "    \"\"\"\n",
        "    # From Wen-Hua's note\n",
        "    if 0 <= alpha <= np.pi/2 and Ev>0: \n",
        "        gm = gamma(Ev,mx)\n",
        "        sec = 1/np.cos(alpha)\n",
        "        dndOmega = gm**2*sec**3/np.pi/(1+gm**2*np.tan(alpha)**2)**2\n",
        "        return dndOmega\n",
        "    else:\n",
        "        return 0\n",
        "\n",
        "def Tx(Ev,mx,alpha):\n",
        "    \"\"\"\n",
        "    Calculate DM kinetic energy, Eq. (28), and velocity, Eq. (30),\n",
        "    in terms of lab frame scattering angle\n",
        "    \n",
        "    Input\n",
        "    ------\n",
        "    Ev: Neutrino energy\n",
        "    mx: DM mass\n",
        "    alpha: lab frame scattering angle in [0,Pi/2]\n",
        "    \n",
        "    Output\n",
        "    ------\n",
        "    Tx: DM kinetic energy at alpha after scattering\n",
        "    \"\"\"\n",
        "    # gamma factor in CM frame\n",
        "    gm = gamma(Ev,mx)\n",
        "    # CM frame scattering angle\n",
        "    theta_c = 2*np.arctan(gm*np.tan(alpha))\n",
        "    \n",
        "    # Tmax in lab frame\n",
        "    Tmax = Ev**2/(Ev+0.5*mx)\n",
        "    Tchi = 0.5*Tmax*(1+np.cos(theta_c))\n",
        "    return Tchi\n",
        "\n",
        "\n",
        "def Ev(Tx,mx,alpha):\n",
        "    \"\"\"\n",
        "    Calculate the neutrino energy to produce DM kinetic energy at\n",
        "    lab frame scattering angle alpha via analytical expression.\n",
        "    Note that if Ev is negative then it is unphysical\n",
        "    \n",
        "    Input\n",
        "    ------\n",
        "    Tx: DM kinetic energy\n",
        "    mx: DM mass\n",
        "    alpha: scattering angle in lab frame\n",
        "    \n",
        "    Output\n",
        "    Ev: the corresponding neutrino energy\n",
        "    \"\"\"\n",
        "    sec = 1/np.cos(alpha)\n",
        "    enu = (Tx*sec**2 + sec*np.sqrt(Tx*(2*mx + Tx)))/(2 - Tx*np.tan(alpha)**2/mx)\n",
        "    return enu\n",
        "\n",
        "\n",
        "def dEvdTx(Tx,mx,alpha):\n",
        "    \"\"\"\n",
        "    Calculate dEv/dTx via analytical expression. Note that the given\n",
        "    inputs must lead to positive Ev or the corresponding dEvdTx would\n",
        "    be unphysical\n",
        "    \n",
        "    Input\n",
        "    ------\n",
        "    Tx: DM kinetic energy\n",
        "    mx: DM mass\n",
        "    alpha: scattering angle in lab frame\n",
        "    dTx: arbitrarity small number, default 1e-5\n",
        "    \n",
        "    Output\n",
        "    ------\n",
        "    dEv/dTx: the derivative of Ev over Tx\n",
        "    \"\"\"\n",
        "    sec = 1/np.cos(alpha)\n",
        "    numerator = mx**2*sec*(2*sec*np.sqrt(Tx*(2*mx + Tx)) + 2*mx + Tx*sec**2 + Tx)\n",
        "    denominator = (Tx*np.tan(alpha)**2 - 2*mx)**2*np.sqrt(Tx*(2*mx + Tx))\n",
        "    return numerator/denominator\n",
        "\n",
        "\n",
        "def vx(Tx,mx):\n",
        "    \"\"\"\n",
        "    The dimensionless DM velocity. To restore the physical unit, just\n",
        "    times the speed of light c\n",
        "    \n",
        "    Input\n",
        "    ------\n",
        "    Tx: DM kinetic energy\n",
        "    mx: DM mass\n",
        "    \n",
        "    Output\n",
        "    ------\n",
        "    vx: dimensionless DM velocity\n",
        "    \"\"\"\n",
        "    return np.sqrt(Tx*(Tx+2*mx))/(Tx+mx)\n",
        "\n",
        "def xemissivity(Tx,mx,alpha,r,Lv=Lv,type='LMC'):\n",
        "    \"\"\"\n",
        "    Upscattered DM emissivity, note the returned result is divided by sigxv and light velocity\n",
        "    \n",
        "    Input\n",
        "    ------\n",
        "    Tx: DM kinetic energy, MeV\n",
        "    mx: DM mass, MeV\n",
        "    alpha: the scattering angle in lab frame\n",
        "    vx: the DM dimensionless velocity in terms of Tx and mx\n",
        "    r: the distance from the scattering point to GC, kpc\n",
        "    tau: the duration of SN explosion, default 10 s\n",
        "    Lv: neutrino luminosity during the SN explosion, default 1e52 erg/s\n",
        "        note that the total luminosity released by a single SN explosion\n",
        "        should be Lv times the duration of that explosion, where the unit\n",
        "        per second will be eliminated from this procedure\n",
        "    \n",
        "    Output\n",
        "    ------\n",
        "    BDM emissivity: in the unit of per cm^3 per second\n",
        "    \"\"\"\n",
        "    # if Tx >= 2mx/tan(a)^2, Ev will turn negative (diverge at equal) which is unphysical\n",
        "    Enu = Ev(Tx,mx,alpha)\n",
        "    \n",
        "    if alpha!=0.:\n",
        "        if Tx < 2*mx/np.tan(alpha)**2 and Enu >= 0:    \n",
        "            dEdT = dEvdTx(Tx,mx,alpha)\n",
        "            jx = dnvdEv(r,Enu,Lv)*c *nx(r,mx,type=type)*g(Enu,mx,alpha)*dEdT\n",
        "        else:\n",
        "            jx = 0\n",
        "    else:\n",
        "        jx = 0\n",
        "    return jx"
      ]
    },
    {
      "cell_type": "code",
      "source": [
        "def dNdEv(Ev):\n",
        "        \n",
        "    def _fv(Ev,Tv):\n",
        "        \"\"\"\n",
        "        Fermi-Dirac distribution\n",
        "        \"\"\"\n",
        "        return (1/18.9686)*(1/Tv**3)*(Ev**2/(np.exp(Ev/Tv - 3)+1))\n",
        "    \n",
        "    nue_dist = _fv(Ev,2.76)/11\n",
        "    nueb_dist = _fv(Ev,4.01)/16\n",
        "    # total 4 species for x\n",
        "    nux_dist = _fv(Ev,6.26)/25\n",
        "    return (nue_dist+nueb_dist+4*nux_dist)\n",
        "\n",
        "alpha = np.linspace(0,np.pi/2.,100)\n",
        "Txs = np.linspace(1,60,50)\n",
        "Evs = np.linspace(1,60,50)\n",
        "mx = 1e-2\n",
        "g_Tx = []\n",
        "g_Ev = []\n",
        "\n",
        "for j in range(len(Txs)):\n",
        "  N = 0.\n",
        "  def f(a):\n",
        "    _Ev = Ev(Txs[j],mx,a)\n",
        "    if (_Ev>0)==False:\n",
        "      return 0\n",
        "    return dNdEv(_Ev)*dEvdTx(Txs[j],mx,a)*g(_Ev,mx,a)*np.sin(a)\n",
        "  N = integrate.quad(f,0,np.pi/2.)[0]\n",
        "  g_Tx.append(N)\n",
        "\n",
        "for j in range(len(Evs)):\n",
        "  N = 0.\n",
        "  def f(a):\n",
        "    return dNdEv(Evs[j])*g(Evs[j],mx,a)*np.sin(a)\n",
        "  N = integrate.quad(f,0,np.pi/2.)[0]\n",
        "  g_Ev.append(N)\n",
        "\n",
        "plt.plot(Evs, g_Ev,label='Ev Spectrum')\n",
        "plt.plot(Txs, g_Tx,label='Tx Spectrum')\n",
        "\n",
        "plt.xlabel('Energy (MeV)')\n",
        "plt.ylabel('N ')\n",
        "plt.legend(loc='best')"
      ],
      "metadata": {
        "colab": {
          "base_uri": "https://localhost:8080/",
          "height": 333
        },
        "id": "jbnDr_50sNQt",
        "outputId": "f9c36570-a076-4837-f6da-4c7b640dbcf9"
      },
      "execution_count": 5,
      "outputs": [
        {
          "output_type": "stream",
          "name": "stderr",
          "text": [
            "/usr/local/lib/python3.7/dist-packages/ipykernel_launcher.py:7: RuntimeWarning: overflow encountered in exp\n",
            "  import sys\n"
          ]
        },
        {
          "output_type": "execute_result",
          "data": {
            "text/plain": [
              "<matplotlib.legend.Legend at 0x7f2d69026810>"
            ]
          },
          "metadata": {},
          "execution_count": 5
        },
        {
          "output_type": "display_data",
          "data": {
            "image/png": "[encoded data removed]",
            "text/plain": [
              "<Figure size 432x288 with 1 Axes>"
            ]
          },
          "metadata": {
            "needs_background": "light"
          }
        }
      ]
    },
    {
      "cell_type": "code",
      "source": [
        "print(np.sum(Evs*g_Ev)/np.sum(g_Ev))\n",
        "print(np.sum(Txs*g_Tx)/np.sum(g_Tx))"
      ],
      "metadata": {
        "colab": {
          "base_uri": "https://localhost:8080/"
        },
        "id": "0lINGjMyzLrp",
        "outputId": "67125e75-004c-44a8-95fe-c4eb6ab464f8"
      },
      "execution_count": 6,
      "outputs": [
        {
          "output_type": "stream",
          "name": "stdout",
          "text": [
            "18.955724083275214\n",
            "9.845193920613458\n"
          ]
        }
      ]
    },
    {
      "cell_type": "code",
      "execution_count": 7,
      "metadata": {
        "id": "3v3W4UI5IxA0"
      },
      "outputs": [],
      "source": [
        "def Root_Finding(theta, t,vx,R = 50,r_cut=1e-6):\n",
        "    \"\"\"\n",
        "    Find l, r and alpha when t, cos\\theta, R and vx are given\n",
        "    \n",
        "    Input\n",
        "    ------\n",
        "    t: timing in seconds, 0 starts from the first arrival of the SN neutrino at Earth\n",
        "    theta: in rad\n",
        "    vx: dimensionless DM velocity, v/c\n",
        "    R: R in kpc, default 8.5 kpc\n",
        "    r_cut: the inner most galactic region should be considered, default is 0.001 kpc\n",
        "    \n",
        "    Output\n",
        "    ------\n",
        "    tuple: (l,r,alpha,flag)\n",
        "           flag is a string label, physical/unphysical, where unphysical\n",
        "           result should be considered zero contribution to the emissivity\n",
        "    \"\"\"\n",
        "    cos = np.cos(theta)\n",
        "    zeta = c*t/kpc2cm + R\n",
        "    k = zeta/R\n",
        "    l = (-2*zeta*vx+2*cos*R*vx**2 + np.sqrt(vx**2*(2*zeta-2*cos*R*vx)**2 + 4*(-R**2+zeta**2)*vx**2*(-1+vx**2)))/(2*(-1+vx**2))\n",
        "    tv = R*kpc2cm/c\n",
        "    t_crit =  tv*(1/vx-1)\n",
        "    \n",
        "    r = 0.0\n",
        "    if l**2 + R**2 - 2*l*R*cos<0.:\n",
        "        r = 0.0\n",
        "    else:\n",
        "        r = np.sqrt(l**2 + R**2 - 2*l*R*cos)\n",
        "    \n",
        "    alpha = 0.0\n",
        "\n",
        "    if r>0 and l>0.:\n",
        "        if (R**2-r**2-l**2)/(2*r*l)>1.0:\n",
        "            alpha = 0.0\n",
        "        elif (R**2-r**2-l**2)/(2*r*l)<-1.0:\n",
        "            alpha = np.pi\n",
        "        else:\n",
        "            alpha = np.arccos((R**2-r**2-l**2)/(2*r*l))\n",
        "        if(np.isnan(alpha)):\n",
        "            print(r,l,(R**2-r**2-l**2)/(2*r*l))\n",
        "    else:\n",
        "        alpha = 0.0\n",
        "    # Avoid Unphysical Geometry\n",
        "\n",
        "    if l > 0 and r > 0 and r > r_cut and 0 <= alpha <= 0.5*np.pi:\n",
        "        flag = 'physical'\n",
        "    else:\n",
        "        flag = 'unphysical'\n",
        "\n",
        "    return l,r,alpha,flag"
      ]
    },
    {
      "cell_type": "markdown",
      "source": [
        "The upscattered DM flux is given by \\\\\n",
        "$\\frac{d\\Phi^{N}(T_{\\chi},t)}{dT_{\\chi}dt}=2\\pi \\mathcal{J}\\tau\\int_{\\cos\\theta_{{\\rm min}}}^{\\cos\\theta_{{\\rm max}}}d\\cos\\theta \\left. j_{\\chi}^{N}(r,T_{\\chi},\\alpha)\\right|_{\\frac{r}{c}+\\frac{\\ell}{v_{\\chi}}=t}$\n",
        "where $\\theta \\in [0,\\pi/2]$ and $\\mathcal{J}$ is a Jacobian. \\\\\n",
        "$d\\left(\\frac{r}{c}+\\frac{\\ell}{v_\\chi}\\right)=dt\\to \\left(\\frac{\\ell- R\\cos\\theta}{rc} +\\frac{1}{v_\\chi}\\right)d\\ell = dt,$ \\\\\n",
        "Thus, \\\\\n",
        "$\\mathcal{J}=\\left(\\frac{\\ell- R\\cos\\theta}{rc} +\\frac{1}{v_\\chi}\\right)^{-1}.$\n"
      ],
      "metadata": {
        "id": "iMwTEXJNfNIR"
      }
    },
    {
      "cell_type": "markdown",
      "source": [
        "![image.png](data:image/png;base64,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)"
      ],
      "metadata": {
        "id": "0JR924XBg0fk"
      }
    },
    {
      "cell_type": "markdown",
      "source": [
        "# **Simplified expression for $\\ell$**\n",
        "We can have more simplified expression for $\\ell$ with \\\\\n",
        "$r + \\frac{\\ell}{v_\\chi} = ct \\equiv\\zeta$ \\\\\n",
        "where $r$, $\\ell$ and $\\zeta$ are in kpc and \n",
        "$v_\\chi$ is dimensionless velocity. Thus, \\\\\n",
        "$\\ell = \\frac{-\\sqrt{4 \\left(\\zeta ^2-R^2\\right) \\left(v_{\\chi }^2-1\\right) v_{\\chi }^2+v_{\\chi }^2 \\left(2 \\zeta -2 R \\cos \\theta  v_{\\chi }\\right){}^2}+2 R \\cos \\theta  v_{\\chi }^2-2 \\zeta  v_{\\chi }}{2 \\left(v_{\\chi }^2-1\\right)}.$\n",
        "Note that $t$ is the total propagation time timing from the upscattering point. \\\\\n",
        "\n"
      ],
      "metadata": {
        "id": "vKlbLGLUg6IG"
      }
    },
    {
      "cell_type": "code",
      "execution_count": 8,
      "metadata": {
        "id": "SjTFsXVtIySz"
      },
      "outputs": [],
      "source": [
        "def bdmflux(t,Tx,mx,tau=10,sigxv=1e-45,Lv=Lv,R=50.0,r_cut=1e-6,type='LMC'):\n",
        "    \"\"\"\n",
        "    Boosted DM flux at Earth, per cm^2 per second\n",
        "    \n",
        "    Input\n",
        "    ------\n",
        "    t: time in second, 0 starts from the arrival of SN neutrino\n",
        "    Tx: DM kinetic energy, in MeV\n",
        "    mx: DM mass, in MeV\n",
        "    tau: the duration of SN explosion, default 10 s\n",
        "    sigxv: DM-neutrino scattering cross section, default 1e-45 cm^2\n",
        "    Lv: SN neutrino luminosity, default 1e52 erg/s\n",
        "    R: distance between Sun and GC, default 8.5 kpc\n",
        "    r_cut: the inner most galactic region should be considered, default is 0.001 kpc\n",
        "    \n",
        "    Output\n",
        "    ------\n",
        "    BDM flux: in the unit of per cm^2 per second for a given t\n",
        "    \"\"\"\n",
        "\n",
        "    # find DM velocity\n",
        "    beta = vx(Tx,mx)\n",
        "\n",
        "    def f(theta): \n",
        "        l,r,alpha,flag = Root_Finding(theta,t,beta,R,r_cut) # solve geometry\n",
        "        \n",
        "        if flag == 'unphysical':\n",
        "            return 0\n",
        "        \n",
        "        # Geometric Terms\n",
        "        geometric_terms = np.sin(theta) *2*np.pi \n",
        "\n",
        "        # Physical terms\n",
        "        physical_terms = sigxv*tau*xemissivity(Tx,mx,alpha,r,Lv,type=type)\n",
        "        \n",
        "        physical_terms /= (l-R*np.cos(theta))/r*beta+1\n",
        "        \n",
        "        return geometric_terms*physical_terms\n",
        "    \n",
        "    result = integrate.quad(f,0.1,np.pi/2)[0]\n",
        "    result += integrate.quad(f,0.01,0.1)[0]\n",
        "    result += integrate.quad(f,0.001,0.01)[0]\n",
        "    result += integrate.quad(f,0.0001,0.001)[0]\n",
        "    result += integrate.quad(f,0.00001,0.0001)[0]\n",
        "    result += integrate.quad(f,1e-6,0.00001)[0]\n",
        "    result += integrate.quad(f,0,1e-6)[0]\n",
        "    \n",
        "    return result*beta*c"
      ]
    },
    {
      "cell_type": "code",
      "execution_count": 9,
      "metadata": {
        "id": "Ief-OZLpaa5T"
      },
      "outputs": [],
      "source": [
        "def Jacobian_Quad(f,a,b):\n",
        "  ua = np.log(a)\n",
        "  ub = np.log(b)\n",
        "  def s(z):\n",
        "    return f(np.exp(z))*np.exp(z)\n",
        "  return integrate.quad(s,ua,ub)[0]\n",
        "def Get_Theta_Crit(f,a,b):\n",
        "  thetas = np.logspace(np.log10(a),np.log10(b),10)\n",
        "  fs = []\n",
        "  for i in range(len(thetas)):\n",
        "    fs.append(f(thetas[i]))\n",
        "  idx = np.argmax(fs)\n",
        "  return thetas[idx]\n",
        "\n",
        "def bdmflux_new(t,Tx,mx,tau=10,sigxv=1e-45,Lv=Lv,R=50.0,r_cut=1e-6,type='LMC'):\n",
        "    \"\"\"\n",
        "    Boosted DM flux at Earth, per cm^2 per second\n",
        "    \n",
        "    Input\n",
        "    ------\n",
        "    t: time in second, 0 starts from the arrival of SN neutrino\n",
        "    Tx: DM kinetic energy, in MeV\n",
        "    mx: DM mass, in MeV\n",
        "    tau: the duration of SN explosion, default 10 s\n",
        "    sigxv: DM-neutrino scattering cross section, default 1e-45 cm^2\n",
        "    rho: NFW halo profile characteristic density, default 184 MeV/cm^3\n",
        "    rs: NFW halo profile characteristic length, default 24.42 kpc\n",
        "    Lv: SN neutrino luminosity, default 1e52 erg/s\n",
        "    R: distance between Sun and GC, default 8.5 kpc\n",
        "    r_cut: the inner most galactic region should be considered, default is 0.001 kpc\n",
        "    \n",
        "    Output\n",
        "    ------\n",
        "    BDM flux: in the unit of per cm^2 per second for a given t\n",
        "    \"\"\"    \n",
        "    # find DM velocity\n",
        "    beta = vx(Tx,mx)\n",
        "    tv = R*kpc2cm/c\n",
        "    t_crit =  tv*(1/beta-1)\n",
        "\n",
        "    def f(theta): \n",
        "        l,r,alpha,flag = Root_Finding(theta,t,beta,R,r_cut) # solve geometry\n",
        "        if flag == 'unphysical':\n",
        "            return 0\n",
        "        \n",
        "        # Geometric Terms\n",
        "        geometric_terms = np.sin(theta) *2*np.pi \n",
        "\n",
        "        # Physical terms\n",
        "        physical_terms = sigxv*tau*xemissivity(Tx,mx,alpha,r,Lv,type=type)\n",
        "        physical_terms /= (l-R*np.cos(theta))/r*beta+1\n",
        "        \n",
        "        return geometric_terms*physical_terms\n",
        "    theta_crit = Get_Theta_Crit(f,1e-8,np.pi/2.)\n",
        "    result = Jacobian_Quad(f,theta_crit,np.pi/2)\n",
        "    result += Jacobian_Quad(f,0.1*theta_crit,theta_crit)\n",
        "    result += integrate.quad(f,0.,0.1*theta_crit)[0]\n",
        "\n",
        "    return result*beta*c"
      ]
    },
    {
      "cell_type": "code",
      "execution_count": null,
      "metadata": {
        "colab": {
          "base_uri": "https://localhost:8080/"
        },
        "id": "H4sGoZx1I22K",
        "outputId": "adb9125b-173d-4f01-a3e1-178a850f3078"
      },
      "outputs": [
        {
          "output_type": "stream",
          "name": "stderr",
          "text": [
            "/usr/local/lib/python3.7/dist-packages/ipykernel_launcher.py:22: RuntimeWarning: overflow encountered in exp\n"
          ]
        }
      ],
      "source": [
        "# All in MeV\n",
        "mx1 = 0.001\n",
        "mx2 = 0.01\n",
        "mx3 = 0.1\n",
        "mx4 = 1\n",
        "Tx = 10\n",
        "\n",
        "# years\n",
        "yrls=np.logspace(-6,3,1000)\n",
        "\n",
        "fluxmx1_20=[]\n",
        "for y in yrls:\n",
        "    fluxmx1_20.append(bdmflux_new(y*yr,Tx,mx1))\n",
        "\n",
        "fluxmx2_20=[]\n",
        "for y in yrls:\n",
        "    fluxmx2_20.append(bdmflux_new(y*yr,Tx,mx2))\n",
        "\n",
        "fluxmx3_20=[]\n",
        "for y in yrls:\n",
        "    fluxmx3_20.append(bdmflux_new(y*yr,Tx,mx3))\n",
        "\n",
        "fluxmx4_20=[]\n",
        "for y in yrls:\n",
        "    fluxmx4_20.append(bdmflux_new(y*yr,Tx,mx4))"
      ]
    },
    {
      "cell_type": "code",
      "execution_count": null,
      "metadata": {
        "colab": {
          "base_uri": "https://localhost:8080/",
          "height": 300
        },
        "id": "OOXMongfayiS",
        "outputId": "8a39fd2a-c8f6-40f3-908a-d2bafd97780a"
      },
      "outputs": [
        {
          "output_type": "display_data",
          "data": {
            "image/png": "[encoded data removed]",
            "text/plain": [
              "<Figure size 432x288 with 1 Axes>"
            ]
          },
          "metadata": {
            "needs_background": "light"
          }
        }
      ],
      "source": [
        "plt.plot(yrls,fluxmx1_20,label='$m_\\chi=$' +str(mx1)+' MeV')\n",
        "plt.plot(yrls,fluxmx2_20,label='$m_\\chi=$' +str(mx2)+' MeV')\n",
        "plt.plot(yrls,fluxmx3_20,label='$m_\\chi=$' +str(mx3)+' MeV')\n",
        "plt.plot(yrls,fluxmx4_20,label='$m_\\chi=$' +str(mx4)+' MeV')\n",
        "plt.xscale('log')\n",
        "plt.yscale('log')\n",
        "plt.xlabel('yr')\n",
        "plt.ylabel(r'$d\\Phi_{B\\chi}/dT_\\chi~[{\\rm MeV^{-1}\\,cm^{-2}\\,s^{-1}}]$')\n",
        "plt.title(r'$T_\\chi =$'+str(Tx)+' MeV')\n",
        "plt.legend(loc='best')\n",
        "plt.ylim(1e-28,1e-10)\n",
        "plt.savefig('time_dependent_flux_10MeV.pdf',facecolor='white',bbox_inches='tight')\n",
        "plt.show()"
      ]
    },
    {
      "cell_type": "code",
      "source": [
        "# All in MeV\n",
        "mx1 = 0.001\n",
        "mx2 = 0.01\n",
        "mx3 = 0.1\n",
        "mx4 = 1\n",
        "Tx = 10\n",
        "\n",
        "# years\n",
        "yrls=np.logspace(-6,3,1000)\n",
        "\n",
        "fluxmx1_20=[]\n",
        "for y in yrls:\n",
        "    fluxmx1_20.append(bdmflux_new(y*yr,Tx,mx1))\n",
        "\n",
        "fluxmx2_20=[]\n",
        "for y in yrls:\n",
        "    fluxmx2_20.append(bdmflux_new(y*yr,Tx,mx2))\n",
        "\n",
        "fluxmx3_20=[]\n",
        "for y in yrls:\n",
        "    fluxmx3_20.append(bdmflux_new(y*yr,Tx,mx3))\n",
        "\n",
        "\"\"\"fluxmx4_20=[]\n",
        "for y in yrls:\n",
        "    fluxmx4_20.append(bdmflux_new(y*yr,Tx,mx4))\"\"\""
      ],
      "metadata": {
        "colab": {
          "base_uri": "https://localhost:8080/",
          "height": 53
        },
        "id": "XNw2qlTXBGoW",
        "outputId": "65aa0926-ff5d-4357-c54d-ecde19e1bfd7"
      },
      "execution_count": null,
      "outputs": [
        {
          "output_type": "stream",
          "name": "stderr",
          "text": [
            "/usr/local/lib/python3.7/dist-packages/ipykernel_launcher.py:22: RuntimeWarning: overflow encountered in exp\n"
          ]
        },
        {
          "output_type": "execute_result",
          "data": {
            "application/vnd.google.colaboratory.intrinsic+json": {
              "type": "string"
            },
            "text/plain": [
              "'fluxmx4_20=[]\\nfor y in yrls:\\n    fluxmx4_20.append(bdmflux_new(y*yr,Tx,mx4))'"
            ]
          },
          "metadata": {},
          "execution_count": 21
        }
      ]
    },
    {
      "cell_type": "code",
      "source": [
        "plt.plot(yrls,fluxmx1_20,label='$m_\\chi=$' +str(mx1)+' MeV')\n",
        "plt.plot(yrls,fluxmx2_20,label='$m_\\chi=$' +str(mx2)+' MeV')\n",
        "plt.plot(yrls,fluxmx3_20,label='$m_\\chi=$' +str(mx3)+' MeV')\n",
        "\"\"\"plt.plot(yrls,fluxmx4_20,label='$m_\\chi=$' +str(mx4)+' MeV')\"\"\"\n",
        "plt.xscale('log')\n",
        "plt.yscale('log')\n",
        "plt.xlabel('yr')\n",
        "plt.ylabel(r'$d\\Phi_{B\\chi}/dT_\\chi~[{\\rm MeV^{-1}\\,cm^{-2}\\,s^{-1}}]$')\n",
        "plt.title(r'$T_\\chi =$'+str(Tx)+' MeV')\n",
        "plt.legend(loc='best')\n",
        "plt.ylim(1e-28,1e-9)\n",
        "plt.savefig('time_dependent_flux_10MeV.pdf',facecolor='white',bbox_inches='tight')\n",
        "plt.show()"
      ],
      "metadata": {
        "colab": {
          "base_uri": "https://localhost:8080/",
          "height": 300
        },
        "id": "KAPr6pVEBNkV",
        "outputId": "dd631c19-35e4-49d0-cc8b-ca3313ca2693"
      },
      "execution_count": null,
      "outputs": [
        {
          "output_type": "display_data",
          "data": {
            "image/png": "[encoded data removed]",
            "text/plain": [
              "<Figure size 432x288 with 1 Axes>"
            ]
          },
          "metadata": {
            "needs_background": "light"
          }
        }
      ]
    },
    {
      "cell_type": "code",
      "execution_count": 82,
      "metadata": {
        "id": "Sm9MDe70gsG4"
      },
      "outputs": [],
      "source": [
        "def Vegas_Jacobian_Integration(f,a,b):\n",
        "    ua = np.log(a)\n",
        "    ub = np.log(b)\n",
        "    def fg(z):\n",
        "        return f([np.exp(z[0])])*np.exp(z[0])\n",
        "    integ = vegas.Integrator([[ua, ub]])\n",
        "    result = integ(fg, nitn=1, neval=1000)\n",
        "\n",
        "    return result.mean\n",
        "\n",
        "def VJI(f,a,b,inv=False,eval_num=1000):\n",
        "  if inv==False:\n",
        "    ua = np.log(a)\n",
        "    ub = np.log(b)\n",
        "    def fg(z):\n",
        "        return f([np.exp(z[0])])*np.exp(z[0])\n",
        "    integ = vegas.Integrator([[ua, ub]])\n",
        "    result = integ(fg, nitn=1, neval=eval_num)\n",
        "\n",
        "    return result.mean\n",
        "  if inv==True:\n",
        "    ua = -np.log(a)\n",
        "    ub = -np.log(b)\n",
        "    def fg(z):\n",
        "        return f([np.exp(-z[0])])*np.exp(-z[0])\n",
        "    integ = vegas.Integrator([[ub, ua]])\n",
        "    result = integ(fg, nitn=1, neval=eval_num)\n",
        "\n",
        "    return result.mean\n",
        "\n",
        "def bdmflux_vegas(t,Tx,mx,tau=10,sigxv=1e-45,Lv=Lv,R=50.0,r_cut=1e-6,type='LMC'):\n",
        "    \"\"\"\n",
        "    Boosted DM flux at Earth, per cm^2 per second\n",
        "    \n",
        "    Input\n",
        "    ------\n",
        "    t: time in second, 0 starts from the arrival of SN neutrino\n",
        "    Tx: DM kinetic energy, in MeV\n",
        "    mx: DM mass, in MeV\n",
        "    tau: the duration of SN explosion, default 10 s\n",
        "    sigxv: DM-neutrino scattering cross section, default 1e-45 cm^2\n",
        "    rho: NFW halo profile characteristic density, default 184 MeV/cm^3\n",
        "    rs: NFW halo profile characteristic length, default 24.42 kpc\n",
        "    Lv: SN neutrino luminosity, default 1e52 erg/s\n",
        "    R: distance between Sun and GC, default 8.5 kpc\n",
        "    r_cut: the inner most galactic region should be considered, default is 0.001 kpc\n",
        "    \n",
        "    Output\n",
        "    ------\n",
        "    BDM flux: in the unit of per cm^2 per second for a given t\n",
        "    \"\"\"\n",
        "    \n",
        "    # find DM velocity\n",
        "    beta = vx(Tx,mx)\n",
        "\n",
        "    def f(theta): \n",
        "        #return test.bdmflux_f(theta,t,R,Tx,mx)\n",
        "        l,r,alpha,flag = Root_Finding(theta[0],t,beta,R,r_cut=r_cut) # solve geometry\n",
        "        \n",
        "        if flag == 'unphysical':\n",
        "            return 0\n",
        "        \n",
        "        # Geometric Terms\n",
        "        geometric_terms = np.sin(theta[0]) *2*np.pi \n",
        "\n",
        "        # Physical terms\n",
        "        physical_terms = sigxv*tau*xemissivity(Tx,mx,alpha,r,Lv,type=type)\n",
        "        physical_terms /= (l-R*np.cos(theta[0]))/r*beta+1\n",
        "        \n",
        "        return geometric_terms*physical_terms\n",
        "    def Get_Theta_Crit_Vegas(f,a,b):\n",
        "        thetas = np.logspace(np.log10(a),np.log10(b),10)\n",
        "        fs = []\n",
        "        for i in range(len(thetas)):\n",
        "            fs.append(f([thetas[i]]))\n",
        "        idx = np.argmax(fs)\n",
        "        return thetas[idx]\n",
        "\n",
        "    theta_crit = Get_Theta_Crit_Vegas(f,1e-8,np.pi/2.)\n",
        "    result = VJI(f,theta_crit, np.pi/2.,eval_num=100)\n",
        "    result += VJI(f,1e-8, theta_crit,inv=True,eval_num=100)\n",
        "    return result*beta*c\n",
        "\n",
        "    result = Vegas_Jacobian_Integration(f,theta_crit, np.pi/2.)\n",
        "    result += Vegas_Jacobian_Integration(f,1e-8, theta_crit)\n",
        "    return result*beta*c\n"
      ]
    },
    {
      "cell_type": "code",
      "execution_count": 63,
      "metadata": {
        "colab": {
          "base_uri": "https://localhost:8080/",
          "height": 53
        },
        "id": "WZKF1xY7gsG6",
        "outputId": "abfce492-d8f9-4682-f4f4-a00a86e01e0c"
      },
      "outputs": [
        {
          "output_type": "stream",
          "name": "stderr",
          "text": [
            "/usr/local/lib/python3.7/dist-packages/ipykernel_launcher.py:22: RuntimeWarning: overflow encountered in exp\n"
          ]
        },
        {
          "output_type": "execute_result",
          "data": {
            "application/vnd.google.colaboratory.intrinsic+json": {
              "type": "string"
            },
            "text/plain": [
              "'fluxmx4_20=[]\\nfor y in yrls:\\n    fluxmx4_20.append(bdmflux_vegas(y*yr,Tx,mx4))'"
            ]
          },
          "metadata": {},
          "execution_count": 63
        }
      ],
      "source": [
        "# All in MeV\n",
        "mx1 = 0.001\n",
        "mx2 = 0.01\n",
        "mx3 = 0.1\n",
        "mx4 = 1\n",
        "Tx = 10\n",
        "# years\n",
        "yrls=np.logspace(-6,3,100)\n",
        "\n",
        "fluxmx1_20=[]\n",
        "for y in yrls:\n",
        "    fluxmx1_20.append(bdmflux_vegas(y*yr,Tx,mx1))\n",
        "\n",
        "fluxmx2_20=[]\n",
        "for y in yrls:\n",
        "    fluxmx2_20.append(bdmflux_vegas(y*yr,Tx,mx2))\n",
        "    \n",
        "fluxmx3_20=[]\n",
        "for y in yrls:\n",
        "    fluxmx3_20.append(bdmflux_vegas(y*yr,Tx,mx3))\n",
        "\n",
        "\"\"\"fluxmx4_20=[]\n",
        "for y in yrls:\n",
        "    fluxmx4_20.append(bdmflux_vegas(y*yr,Tx,mx4))\"\"\""
      ]
    },
    {
      "cell_type": "code",
      "execution_count": 64,
      "metadata": {
        "scrolled": false,
        "colab": {
          "base_uri": "https://localhost:8080/",
          "height": 300
        },
        "id": "g-F8yW4ygsG7",
        "outputId": "6fde28f7-fc7f-4d44-d888-df91595220fa"
      },
      "outputs": [
        {
          "output_type": "display_data",
          "data": {
            "image/png": "[encoded data removed]",
            "text/plain": [
              "<Figure size 432x288 with 1 Axes>"
            ]
          },
          "metadata": {
            "needs_background": "light"
          }
        }
      ],
      "source": [
        "#plt.figure(dpi=400)\n",
        "plt.plot(yrls,fluxmx1_20,label='$m_\\chi=$'+str(mx1)+' MeV')\n",
        "plt.plot(yrls,fluxmx2_20,label='$m_\\chi=$' +str(mx2)+' MeV')\n",
        "plt.plot(yrls,fluxmx3_20,label='$m_\\chi=$' +str(mx3)+' MeV')\n",
        "#plt.plot(yrls,fluxmx4_20,label='$m_\\chi=$' +str(mx4)+' MeV')\n",
        "plt.xscale('log')\n",
        "plt.yscale('log')\n",
        "plt.xlabel('time[yr]')\n",
        "plt.ylabel(r'$d\\Phi^{N}/dT_\\chi dt~[{\\rm MeV^{-1}\\,cm^{-2}\\,s^{-1}}]$')\n",
        "plt.title(r'$T_\\chi =$'+str(Tx)+' MeV')\n",
        "plt.legend(loc='best')\n",
        "plt.xlim(1e-6,1e3)\n",
        "plt.ylim(1e-25,1e-9)\n",
        "#plt.savefig('time_dependent_flux_20MeV_2.pdf',facecolor='white',bbox_inches='tight')\n",
        "plt.show()"
      ]
    },
    {
      "cell_type": "code",
      "source": [
        "# All in MeV\n",
        "mx1 = 0.001\n",
        "mx2 = 0.01\n",
        "mx3 = 0.1\n",
        "\n",
        "# Time (Unit: Years)\n",
        "t = np.logspace(-6.4989407377,np.log10(5),100)\n",
        "\n",
        "# DM kinetic energy (Unit: MeV)\n",
        "Tx = np.linspace(5,100,100)\n",
        "\n",
        "x,y = np.meshgrid(t,Tx)\n",
        "\n",
        "flux=[]\n",
        "for i in range(len(x)):\n",
        "  temp = []\n",
        "  for j in range(len(x[0])):\n",
        "    temp.append(bdmflux_vegas(x[i][j]*yr,y[i][j],mx1,r_cut=1e-3))\n",
        "  flux.append(temp)\n",
        "flux = np.array(flux)\n",
        "\n",
        "\n",
        "\"\"\"fluxmx2_20=[]\n",
        "for y in yrls:\n",
        "    fluxmx2_20.append(bdmflux_vegas(y*yr,Tx,mx2))\n",
        "    \n",
        "fluxmx3_20=[]\n",
        "for y in yrls:\n",
        "    fluxmx3_20.append(bdmflux_vegas(y*yr,Tx,mx3))\"\"\""
      ],
      "metadata": {
        "colab": {
          "base_uri": "https://localhost:8080/",
          "height": 89
        },
        "id": "dd6FWeaLifAA",
        "outputId": "0fc6caf5-aaac-4051-8c9c-4e4456c0260d"
      },
      "execution_count": null,
      "outputs": [
        {
          "output_type": "stream",
          "name": "stderr",
          "text": [
            "/usr/local/lib/python3.7/dist-packages/ipykernel_launcher.py:22: RuntimeWarning: overflow encountered in exp\n",
            "/usr/local/lib/python3.7/dist-packages/ipykernel_launcher.py:22: RuntimeWarning: invalid value encountered in sqrt\n"
          ]
        },
        {
          "output_type": "execute_result",
          "data": {
            "application/vnd.google.colaboratory.intrinsic+json": {
              "type": "string"
            },
            "text/plain": [
              "'fluxmx2_20=[]\\nfor y in yrls:\\n    fluxmx2_20.append(bdmflux_vegas(y*yr,Tx,mx2))\\n    \\nfluxmx3_20=[]\\nfor y in yrls:\\n    fluxmx3_20.append(bdmflux_vegas(y*yr,Tx,mx3))'"
            ]
          },
          "metadata": {},
          "execution_count": 19
        }
      ]
    },
    {
      "cell_type": "code",
      "source": [
        "from matplotlib import ticker, cm\n",
        "lev_exp = np.linspace(-40,-10,100)\n",
        "levs = np.power(10, lev_exp)\n",
        "fig, axes = plt.subplots(figsize = (7,5))\n",
        "C = axes.contourf(x, y, flux, levs,\n",
        "\t\t\t\tcmap = plt.cm.winter,\n",
        "\t\t\t\torigin = 'upper',locator=ticker.LogLocator())\n",
        "fig.colorbar(C, ax=axes,ticks=np.logspace(-40,-10,10))\n",
        "plt.xscale('log')\n",
        "plt.xlabel('time (yr)')\n",
        "plt.ylabel('Tx (MeV)')"
      ],
      "metadata": {
        "colab": {
          "base_uri": "https://localhost:8080/",
          "height": 417
        },
        "id": "hnMk2XmjmHhb",
        "outputId": "a3153204-3471-4487-e969-a1aad44ceeaf"
      },
      "execution_count": null,
      "outputs": [
        {
          "output_type": "stream",
          "name": "stderr",
          "text": [
            "/usr/local/lib/python3.7/dist-packages/ipykernel_launcher.py:7: UserWarning: Log scale: values of z <= 0 have been masked\n",
            "  import sys\n"
          ]
        },
        {
          "output_type": "execute_result",
          "data": {
            "text/plain": [
              "Text(0, 0.5, 'Tx (MeV)')"
            ]
          },
          "metadata": {},
          "execution_count": 20
        },
        {
          "output_type": "display_data",
          "data": {
            "image/png": "[encoded data removed]",
            "text/plain": [
              "<Figure size 504x360 with 2 Axes>"
            ]
          },
          "metadata": {
            "needs_background": "light"
          }
        }
      ]
    },
    {
      "cell_type": "code",
      "execution_count": null,
      "metadata": {
        "id": "1_z8shhTKOcW"
      },
      "outputs": [],
      "source": [
        "def Jacobian_Method(func,a,b,n):\n",
        "  \n",
        "  def gp(z):\n",
        "    return func(np.exp(z))\n",
        "  def Jacobian_Simpson_Method(func,a,b,n):\n",
        "    dx = (b-a)/n\n",
        "    sum = 0\n",
        "    for i in range(n):\n",
        "      sum += (func(a+i*dx) + 4*func(a+(i+1/2)*dx) + func(a+(i+1)*dx))/6*dx *np.exp(a+(i+1/2)*dx)\n",
        "    return sum\n",
        "  sum = Jacobian_Simpson_Method(gp,np.log(a),np.log(b),n)\n",
        "  return sum\n",
        "def Jacobian_dblQuad(f,a,b,c,d):\n",
        "  ua = np.log(a)\n",
        "  ub = np.log(b)\n",
        "  uc = np.log(c)\n",
        "  ud = np.log(d)\n",
        "  def s(u,v):\n",
        "    return f(np.exp(u),np.exp(v))*np.exp(u)*np.exp(v)\n",
        "  return integrate.dblquad(s, uc, ud, lambda x: ua, lambda x: ub)[0]\n",
        "def Special_dblQuad(f,theta1,theta2,t1,t2):\n",
        "  utheta1 = np.log(theta1)\n",
        "  utheta2 = np.log(theta2)\n",
        "  ut1 = np.log(t1)\n",
        "  ut2 = np.log(t2)\n",
        "  \n",
        "  def s(u,v):\n",
        "    return f(np.exp(u),np.exp(v))*np.exp(u)*np.exp(v)\n",
        "  def Get_Theta_at_T(ut):\n",
        "    t = np.exp(ut)\n",
        "    thetas = np.logspace(-8,np.log10(np.pi/2.),10)\n",
        "    fs = []\n",
        "    for i in range(len(thetas)):\n",
        "      fs.append(f(thetas[i],t))\n",
        "    idx = np.argmax(fs)\n",
        "    return np.log(thetas[idx])\n",
        "  \n",
        "  result = integrate.dblquad(s, ut1, ut2, lambda ut: Get_Theta_at_T(ut), lambda ut: utheta2)[0]\n",
        "  result += integrate.dblquad(s, ut1, ut2, lambda ut: Get_Theta_at_T(ut)-np.log(10), lambda ut: Get_Theta_at_T(ut))[0]\n",
        "  result += integrate.dblquad(f, t1, t2, lambda ut: 0., lambda ut: np.exp(Get_Theta_at_T(ut)-np.log(10)))[0]\n",
        "  return result\n",
        "def Vegas_Jacobian_dblIntegration(f,a,b,c,d):\n",
        "    ua = np.log(a)\n",
        "    ub = np.log(b)\n",
        "    uc = np.log(c)\n",
        "    ud = np.log(d)\n",
        "    def g(z):\n",
        "        return f([np.exp(z[0]),np.exp(z[1])])*np.exp(z[0])*np.exp(z[1])\n",
        "    integ = vegas.Integrator([[ua, ub],[uc, ud]])\n",
        "    result = integ(g, nitn=1, neval=10000)\n",
        "    return result.mean\n",
        "def Accumulated_bdmnumber(Tx,mx,tau=10,sigxv=1e-45,Lv=Lv,R=50.,r_cut=1e-6):\n",
        "    def f(t):\n",
        "        return bdmflux(t,Tx,mx,tau,sigxv,Lv,R,r_cut)\n",
        "    vdm = vx(Tx,mx)\n",
        "    tv = R*kpc2cm/c\n",
        "    t_crit =  tv*(1/vdm-1)\n",
        "    tmax = np.min([t_crit*10**(1-np.log10(mx)),30*yr])\n",
        "    return integrate.quad(f,0,tmax)[0]\n",
        "\n",
        "\n",
        "def Accumulated_bdmnumber_new(Tx,mx,sigxv=1e-45,tau=10,Lv=Lv,R=50.,r_cut=1e-6):\n",
        "    \n",
        "    beta = vx(Tx,mx)\n",
        "    tv = R*kpc2cm/c\n",
        "    t_crit =  tv*(1/beta-1)\n",
        "    tmax = t_crit*10**(1-np.log10(mx))\n",
        "    def f(theta,t): \n",
        "        #return test.bdmflux_f(theta,t,R,Tx,mx)\n",
        "        l,r,alpha,flag = Root_Finding(theta,t,beta,R) # solve geometry     \n",
        "        if flag == 'unphysical':\n",
        "            return 0\n",
        "        \n",
        "        # Geometric Terms\n",
        "        geometric_terms = np.sin(theta) *2*np.pi \n",
        "\n",
        "        # Physical terms\n",
        "        physical_terms = sigxv*tau*xemissivity(Tx,mx,alpha,r,Lv,type='LMC')\n",
        "        \n",
        "        physical_terms /= (l-R*np.cos(theta))/r*beta+1\n",
        "        \n",
        "        return geometric_terms*physical_terms\n",
        "    #return (Jacobian_dblQuad(f,1e-8,np.pi/2.,t_crit*1e-3,tmax))*beta*c\n",
        "    return (Special_dblQuad(f,1e-8,np.pi/2.,t_crit*1e-3,tmax))*beta*c\n",
        "\n",
        "def Accumulated_bdmnumber_vegas(Tx,mx,sigxv=1e-45,tau=10,Lv=Lv,R=50.,r_cut=1e-6):\n",
        "    \n",
        "    beta = vx(Tx,mx)\n",
        "    tv = R*kpc2cm/c\n",
        "    t_crit =  tv*(1/beta-1)\n",
        "    tmax = t_crit*10**(1-np.log10(mx))\n",
        "    def f(para):\n",
        "        theta = para[0]\n",
        "        t     = para[1]\n",
        "        #return test.bdmflux_f(theta,t,R,Tx,mx)\n",
        "        l,r,alpha,flag = Root_Finding(theta,t,beta,R) # solve geometry\n",
        "        \n",
        "        if flag == 'unphysical':\n",
        "            return 0\n",
        "        \n",
        "        # Geometric Terms\n",
        "        geometric_terms = np.sin(theta) *2*np.pi \n",
        "\n",
        "        # Physical terms\n",
        "        physical_terms = sigxv*tau*xemissivity(Tx,mx,alpha,r,Lv,type='LMC')\n",
        "        \n",
        "        physical_terms /= (l-R*np.cos(theta))/r*beta+1\n",
        "        \n",
        "        return geometric_terms*physical_terms\n",
        "    \n",
        "    result = Vegas_Jacobian_dblIntegration(f,1e-5,np.pi/2.,t_crit,tmax)\n",
        "    result += Vegas_Jacobian_dblIntegration(f,1e-8,1e-5,t_crit,tmax)\n",
        "    result += Vegas_Jacobian_dblIntegration(f,1e-5,np.pi/2.,t_crit*1e-3,t_crit)\n",
        "    result += Vegas_Jacobian_dblIntegration(f,1e-8,1e-5,t_crit*1e-3,t_crit)\n",
        "\n",
        "    return result*beta*c\n"
      ]
    },
    {
      "cell_type": "code",
      "source": [
        "def Jacobian_Method(func,a,b,n):\n",
        "  \n",
        "  def gp(z):\n",
        "    return func(np.exp(z))\n",
        "  def Jacobian_Simpson_Method(func,a,b,n):\n",
        "    dx = (b-a)/n\n",
        "    sum = 0\n",
        "    for i in range(n):\n",
        "      sum += (func(a+i*dx) + 4*func(a+(i+1/2)*dx) + func(a+(i+1)*dx))/6*dx *np.exp(a+(i+1/2)*dx)\n",
        "    return sum\n",
        "  sum = Jacobian_Simpson_Method(gp,np.log(a),np.log(b),n)\n",
        "  return sum\n",
        "def Jacobian_dblQuad(f,a,b,c,d):\n",
        "  ua = np.log(a)\n",
        "  ub = np.log(b)\n",
        "  uc = np.log(c)\n",
        "  ud = np.log(d)\n",
        "  def s(u,v):\n",
        "    return f(np.exp(u),np.exp(v))*np.exp(u)*np.exp(v)\n",
        "  return integrate.dblquad(s, uc, ud, lambda x: ua, lambda x: ub)[0]\n",
        "def Special_dblQuad(f,theta1,theta2,t1,t2):\n",
        "  utheta1 = np.log(theta1)\n",
        "  utheta2 = np.log(theta2)\n",
        "  ut1 = np.log(t1)\n",
        "  ut2 = np.log(t2)\n",
        "  \n",
        "  def s(u,v):\n",
        "    return f(np.exp(u),np.exp(v))*np.exp(u)*np.exp(v)\n",
        "  def Get_Theta_at_T(ut):\n",
        "    t = np.exp(ut)\n",
        "    thetas = np.logspace(-8,np.log10(np.pi/2.),10)\n",
        "    fs = []\n",
        "    for i in range(len(thetas)):\n",
        "      fs.append(f(thetas[i],t))\n",
        "    idx = np.argmax(fs)\n",
        "    return np.log(thetas[idx])\n",
        "  \n",
        "  result = integrate.dblquad(s, ut1, ut2, lambda ut: Get_Theta_at_T(ut), lambda ut: utheta2)[0]\n",
        "  result += integrate.dblquad(s, ut1, ut2, lambda ut: Get_Theta_at_T(ut)-np.log(10), lambda ut: Get_Theta_at_T(ut))[0]\n",
        "  result += integrate.dblquad(f, t1, t2, lambda ut: 0., lambda ut: np.exp(Get_Theta_at_T(ut)-np.log(10)))[0]\n",
        "  return result\n",
        "def Vegas_Jacobian_dblIntegration(f,a,b,c,d):\n",
        "    ua = np.log(a)\n",
        "    ub = np.log(b)\n",
        "    uc = np.log(c)\n",
        "    ud = np.log(d)\n",
        "    def g(z):\n",
        "        return f([np.exp(z[0]),np.exp(z[1])])*np.exp(z[0])*np.exp(z[1])\n",
        "    integ = vegas.Integrator([[ua, ub],[uc, ud]])\n",
        "    result = integ(g, nitn=1, neval=10000)\n",
        "    return result.mean\n",
        "\n",
        "def VJDBI(f,a,b,c,d,invx=False,invy=False):\n",
        "  sgnx=1\n",
        "  sgny=1\n",
        "  if invx==True:\n",
        "    sgnx = -1\n",
        "  if invy==True:\n",
        "    sgny = -1\n",
        "\n",
        "  ua = sgnx*np.log(a)\n",
        "  ub = sgnx*np.log(b)\n",
        "  uc = sgny*np.log(c)\n",
        "  ud = sgny*np.log(d)\n",
        "  def g(z):\n",
        "      return sgnx*sgny*f([np.exp(sgnx*z[0]),np.exp(sgny*z[1])])*np.exp(sgnx*z[0])*np.exp(sgny*z[1])\n",
        "  integ = vegas.Integrator([[ua, ub],[uc, ud]])\n",
        "  result = integ(g, nitn=1, neval=100000)\n",
        "  return result.mean\n",
        "\n",
        "def Accumulated_bdmnumber(Tx,mx,tau=10,sigxv=1e-45,Lv=Lv,R=50.,r_cut=1e-3):\n",
        "    def f(t):\n",
        "      result = bdmflux_vegas(t,Tx,mx,r_cut=r_cut)\n",
        "      return result\n",
        "    vdm = vx(Tx,mx)\n",
        "    tv = R*kpc2cm/c\n",
        "    t_crit =  tv*(1/vdm-1)\n",
        "    tmax = np.min([t_crit*10**(1-np.log10(mx)),30*yr])\n",
        "    return Jacobian_Method(f,t_crit*1e-3,t_crit,100)\n",
        "    return Jacobian_Method(f,t_crit,tmax,100)\n",
        "    return integrate.quad(f,t_crit,tmax)[0]\n",
        "\n",
        "def Jacobian_Quad(f,a,b):\n",
        "  ua = np.log(a)\n",
        "  ub = np.log(b)\n",
        "  def s(z):\n",
        "    return f(np.exp(z))*np.exp(z)\n",
        "  return integrate.quad(s,ua,ub)[0]\n",
        "def Accumulated_bdmnumber_int(Tx,mx,tau=10,sigxv=1e-45,Lv=Lv,R=50.,r_cut=1e-3):\n",
        "    def f(t):\n",
        "      result = bdmflux_vegas(t,Tx,mx,r_cut=r_cut)\n",
        "      return result\n",
        "    vdm = vx(Tx,mx)\n",
        "    tv = R*kpc2cm/c\n",
        "    t_crit =  tv*(1/vdm-1)\n",
        "    tmax = np.min([t_crit*10**(1-np.log10(mx)),30*yr])\n",
        "    return Jacobian_Quad(f,t_crit*1e-1,t_crit) + Jacobian_Quad(f,t_crit,t_crit*10) + Jacobian_Quad(f,t_crit*10,tmax)\n",
        "\n",
        "def Accumulated_bdmnumber_dbl_vegas(Tx,mx,tau=10,sigxv=1e-45,Lv=Lv,R=50.,r_cut=1e-3):\n",
        "    beta = vx(Tx,mx)\n",
        "    tv = R*kpc2cm/c\n",
        "    t_crit =  tv*(1/beta-1)\n",
        "    tmax = t_crit*10**(1-np.log10(mx))\n",
        "    def f(para):\n",
        "        theta = para[0]\n",
        "        t     = para[1]\n",
        "        #return test.bdmflux_f(theta,t,R,Tx,mx)\n",
        "        l,r,alpha,flag = Root_Finding(theta,t,beta,R) # solve geometry\n",
        "        \n",
        "        if flag == 'unphysical':\n",
        "            return 0\n",
        "        \n",
        "        # Geometric Terms\n",
        "        geometric_terms = np.sin(theta) *2*np.pi \n",
        "\n",
        "        # Physical terms\n",
        "        physical_terms = sigxv*tau*xemissivity(Tx,mx,alpha,r,Lv)\n",
        "        \n",
        "        physical_terms /= (l-R*np.cos(theta))/r*beta+1\n",
        "        \n",
        "        return geometric_terms*physical_terms\n",
        "    \n",
        "    result = VJDBI(f,1e-5,np.pi/2.,t_crit,tmax)\n",
        "    result += VJDBI(f,1e-8,1e-5,t_crit,tmax,invx=True)\n",
        "    result += VJDBI(f,1e-5,np.pi/2.,t_crit*1e-3,t_crit,invy=True)\n",
        "    result += VJDBI(f,1e-8,1e-5,t_crit*1e-3,t_crit,invx=True,invy=True)\n",
        "\n",
        "    return result*beta*c\n"
      ],
      "metadata": {
        "id": "TvbGdNQfXmXV"
      },
      "execution_count": 79,
      "outputs": []
    },
    {
      "cell_type": "code",
      "source": [
        "Accumulated_BDMflux_DBL_mx1 = []\n",
        "\n",
        "\n",
        "Tx1=np.linspace(5,100,10)\n",
        "mx1 = 1e-3\n",
        "mx2 = 1e-2\n",
        "mx3 = 1e-1\n",
        "\n",
        "\n",
        "for i in range(len(Tx1)):\n",
        "  Accumulated_BDMflux_DBL_mx1.append(Accumulated_bdmnumber_dbl_vegas(Tx1[i],mx1,r_cut=1e-3))\n",
        "  print(i)"
      ],
      "metadata": {
        "colab": {
          "base_uri": "https://localhost:8080/",
          "height": 464
        },
        "id": "_H5k36DLHkQD",
        "outputId": "e9724148-c3cf-4759-e600-920684cc5700"
      },
      "execution_count": 81,
      "outputs": [
        {
          "output_type": "stream",
          "name": "stderr",
          "text": [
            "/usr/local/lib/python3.7/dist-packages/ipykernel_launcher.py:22: RuntimeWarning: overflow encountered in exp\n"
          ]
        },
        {
          "output_type": "error",
          "ename": "KeyboardInterrupt",
          "evalue": "ignored",
          "traceback": [
            "\u001b[0;31m---------------------------------------------------------------------------\u001b[0m",
            "\u001b[0;31mKeyboardInterrupt\u001b[0m                         Traceback (most recent call last)",
            "\u001b[0;32m<ipython-input-81-ac0d9d89c2d6>\u001b[0m in \u001b[0;36m<module>\u001b[0;34m()\u001b[0m\n\u001b[1;32m      9\u001b[0m \u001b[0;34m\u001b[0m\u001b[0m\n\u001b[1;32m     10\u001b[0m \u001b[0;32mfor\u001b[0m \u001b[0mi\u001b[0m \u001b[0;32min\u001b[0m \u001b[0mrange\u001b[0m\u001b[0;34m(\u001b[0m\u001b[0mlen\u001b[0m\u001b[0;34m(\u001b[0m\u001b[0mTx1\u001b[0m\u001b[0;34m)\u001b[0m\u001b[0;34m)\u001b[0m\u001b[0;34m:\u001b[0m\u001b[0;34m\u001b[0m\u001b[0;34m\u001b[0m\u001b[0m\n\u001b[0;32m---> 11\u001b[0;31m   \u001b[0mAccumulated_BDMflux_DBL_mx1\u001b[0m\u001b[0;34m.\u001b[0m\u001b[0mappend\u001b[0m\u001b[0;34m(\u001b[0m\u001b[0mAccumulated_bdmnumber_dbl_vegas\u001b[0m\u001b[0;34m(\u001b[0m\u001b[0mTx1\u001b[0m\u001b[0;34m[\u001b[0m\u001b[0mi\u001b[0m\u001b[0;34m]\u001b[0m\u001b[0;34m,\u001b[0m\u001b[0mmx1\u001b[0m\u001b[0;34m,\u001b[0m\u001b[0mr_cut\u001b[0m\u001b[0;34m=\u001b[0m\u001b[0;36m1e-3\u001b[0m\u001b[0;34m)\u001b[0m\u001b[0;34m)\u001b[0m\u001b[0;34m\u001b[0m\u001b[0;34m\u001b[0m\u001b[0m\n\u001b[0m\u001b[1;32m     12\u001b[0m   \u001b[0mprint\u001b[0m\u001b[0;34m(\u001b[0m\u001b[0mi\u001b[0m\u001b[0;34m)\u001b[0m\u001b[0;34m\u001b[0m\u001b[0;34m\u001b[0m\u001b[0m\n",
            "\u001b[0;32m<ipython-input-79-4a151b67d158>\u001b[0m in \u001b[0;36mAccumulated_bdmnumber_dbl_vegas\u001b[0;34m(Tx, mx, tau, sigxv, Lv, R, r_cut)\u001b[0m\n\u001b[1;32m    121\u001b[0m         \u001b[0;32mreturn\u001b[0m \u001b[0mgeometric_terms\u001b[0m\u001b[0;34m*\u001b[0m\u001b[0mphysical_terms\u001b[0m\u001b[0;34m\u001b[0m\u001b[0;34m\u001b[0m\u001b[0m\n\u001b[1;32m    122\u001b[0m \u001b[0;34m\u001b[0m\u001b[0m\n\u001b[0;32m--> 123\u001b[0;31m     \u001b[0mresult\u001b[0m \u001b[0;34m=\u001b[0m \u001b[0mVJDBI\u001b[0m\u001b[0;34m(\u001b[0m\u001b[0mf\u001b[0m\u001b[0;34m,\u001b[0m\u001b[0;36m1e-5\u001b[0m\u001b[0;34m,\u001b[0m\u001b[0mnp\u001b[0m\u001b[0;34m.\u001b[0m\u001b[0mpi\u001b[0m\u001b[0;34m/\u001b[0m\u001b[0;36m2.\u001b[0m\u001b[0;34m,\u001b[0m\u001b[0mt_crit\u001b[0m\u001b[0;34m,\u001b[0m\u001b[0mtmax\u001b[0m\u001b[0;34m)\u001b[0m\u001b[0;34m\u001b[0m\u001b[0;34m\u001b[0m\u001b[0m\n\u001b[0m\u001b[1;32m    124\u001b[0m     \u001b[0mresult\u001b[0m \u001b[0;34m+=\u001b[0m \u001b[0mVJDBI\u001b[0m\u001b[0;34m(\u001b[0m\u001b[0mf\u001b[0m\u001b[0;34m,\u001b[0m\u001b[0;36m1e-8\u001b[0m\u001b[0;34m,\u001b[0m\u001b[0;36m1e-5\u001b[0m\u001b[0;34m,\u001b[0m\u001b[0mt_crit\u001b[0m\u001b[0;34m,\u001b[0m\u001b[0mtmax\u001b[0m\u001b[0;34m,\u001b[0m\u001b[0minvx\u001b[0m\u001b[0;34m=\u001b[0m\u001b[0;32mTrue\u001b[0m\u001b[0;34m)\u001b[0m\u001b[0;34m\u001b[0m\u001b[0;34m\u001b[0m\u001b[0m\n\u001b[1;32m    125\u001b[0m     \u001b[0mresult\u001b[0m \u001b[0;34m+=\u001b[0m \u001b[0mVJDBI\u001b[0m\u001b[0;34m(\u001b[0m\u001b[0mf\u001b[0m\u001b[0;34m,\u001b[0m\u001b[0;36m1e-5\u001b[0m\u001b[0;34m,\u001b[0m\u001b[0mnp\u001b[0m\u001b[0;34m.\u001b[0m\u001b[0mpi\u001b[0m\u001b[0;34m/\u001b[0m\u001b[0;36m2.\u001b[0m\u001b[0;34m,\u001b[0m\u001b[0mt_crit\u001b[0m\u001b[0;34m*\u001b[0m\u001b[0;36m1e-3\u001b[0m\u001b[0;34m,\u001b[0m\u001b[0mt_crit\u001b[0m\u001b[0;34m,\u001b[0m\u001b[0minvy\u001b[0m\u001b[0;34m=\u001b[0m\u001b[0;32mTrue\u001b[0m\u001b[0;34m)\u001b[0m\u001b[0;34m\u001b[0m\u001b[0;34m\u001b[0m\u001b[0m\n",
            "\u001b[0;32m<ipython-input-79-4a151b67d158>\u001b[0m in \u001b[0;36mVJDBI\u001b[0;34m(f, a, b, c, d, invx, invy)\u001b[0m\n\u001b[1;32m     66\u001b[0m       \u001b[0;32mreturn\u001b[0m \u001b[0msgnx\u001b[0m\u001b[0;34m*\u001b[0m\u001b[0msgny\u001b[0m\u001b[0;34m*\u001b[0m\u001b[0mf\u001b[0m\u001b[0;34m(\u001b[0m\u001b[0;34m[\u001b[0m\u001b[0mnp\u001b[0m\u001b[0;34m.\u001b[0m\u001b[0mexp\u001b[0m\u001b[0;34m(\u001b[0m\u001b[0msgnx\u001b[0m\u001b[0;34m*\u001b[0m\u001b[0mz\u001b[0m\u001b[0;34m[\u001b[0m\u001b[0;36m0\u001b[0m\u001b[0;34m]\u001b[0m\u001b[0;34m)\u001b[0m\u001b[0;34m,\u001b[0m\u001b[0mnp\u001b[0m\u001b[0;34m.\u001b[0m\u001b[0mexp\u001b[0m\u001b[0;34m(\u001b[0m\u001b[0msgny\u001b[0m\u001b[0;34m*\u001b[0m\u001b[0mz\u001b[0m\u001b[0;34m[\u001b[0m\u001b[0;36m1\u001b[0m\u001b[0;34m]\u001b[0m\u001b[0;34m)\u001b[0m\u001b[0;34m]\u001b[0m\u001b[0;34m)\u001b[0m\u001b[0;34m*\u001b[0m\u001b[0mnp\u001b[0m\u001b[0;34m.\u001b[0m\u001b[0mexp\u001b[0m\u001b[0;34m(\u001b[0m\u001b[0msgnx\u001b[0m\u001b[0;34m*\u001b[0m\u001b[0mz\u001b[0m\u001b[0;34m[\u001b[0m\u001b[0;36m0\u001b[0m\u001b[0;34m]\u001b[0m\u001b[0;34m)\u001b[0m\u001b[0;34m*\u001b[0m\u001b[0mnp\u001b[0m\u001b[0;34m.\u001b[0m\u001b[0mexp\u001b[0m\u001b[0;34m(\u001b[0m\u001b[0msgny\u001b[0m\u001b[0;34m*\u001b[0m\u001b[0mz\u001b[0m\u001b[0;34m[\u001b[0m\u001b[0;36m1\u001b[0m\u001b[0;34m]\u001b[0m\u001b[0;34m)\u001b[0m\u001b[0;34m\u001b[0m\u001b[0;34m\u001b[0m\u001b[0m\n\u001b[1;32m     67\u001b[0m   \u001b[0minteg\u001b[0m \u001b[0;34m=\u001b[0m \u001b[0mvegas\u001b[0m\u001b[0;34m.\u001b[0m\u001b[0mIntegrator\u001b[0m\u001b[0;34m(\u001b[0m\u001b[0;34m[\u001b[0m\u001b[0;34m[\u001b[0m\u001b[0mua\u001b[0m\u001b[0;34m,\u001b[0m \u001b[0mub\u001b[0m\u001b[0;34m]\u001b[0m\u001b[0;34m,\u001b[0m\u001b[0;34m[\u001b[0m\u001b[0muc\u001b[0m\u001b[0;34m,\u001b[0m \u001b[0mud\u001b[0m\u001b[0;34m]\u001b[0m\u001b[0;34m]\u001b[0m\u001b[0;34m)\u001b[0m\u001b[0;34m\u001b[0m\u001b[0;34m\u001b[0m\u001b[0m\n\u001b[0;32m---> 68\u001b[0;31m   \u001b[0mresult\u001b[0m \u001b[0;34m=\u001b[0m \u001b[0minteg\u001b[0m\u001b[0;34m(\u001b[0m\u001b[0mg\u001b[0m\u001b[0;34m,\u001b[0m \u001b[0mnitn\u001b[0m\u001b[0;34m=\u001b[0m\u001b[0;36m1\u001b[0m\u001b[0;34m,\u001b[0m \u001b[0mneval\u001b[0m\u001b[0;34m=\u001b[0m\u001b[0;36m100000\u001b[0m\u001b[0;34m)\u001b[0m\u001b[0;34m\u001b[0m\u001b[0;34m\u001b[0m\u001b[0m\n\u001b[0m\u001b[1;32m     69\u001b[0m   \u001b[0;32mreturn\u001b[0m \u001b[0mresult\u001b[0m\u001b[0;34m.\u001b[0m\u001b[0mmean\u001b[0m\u001b[0;34m\u001b[0m\u001b[0;34m\u001b[0m\u001b[0m\n\u001b[1;32m     70\u001b[0m \u001b[0;34m\u001b[0m\u001b[0m\n",
            "\u001b[0;32m_vegas.pyx\u001b[0m in \u001b[0;36mvegas._vegas.Integrator.__call__\u001b[0;34m()\u001b[0m\n",
            "\u001b[0;32m_vegas.pyx\u001b[0m in \u001b[0;36mvegas._vegas._BatchIntegrand_from_NonBatch.__call__\u001b[0;34m()\u001b[0m\n",
            "\u001b[0;32m<ipython-input-79-4a151b67d158>\u001b[0m in \u001b[0;36mg\u001b[0;34m(z)\u001b[0m\n\u001b[1;32m     64\u001b[0m   \u001b[0mud\u001b[0m \u001b[0;34m=\u001b[0m \u001b[0msgny\u001b[0m\u001b[0;34m*\u001b[0m\u001b[0mnp\u001b[0m\u001b[0;34m.\u001b[0m\u001b[0mlog\u001b[0m\u001b[0;34m(\u001b[0m\u001b[0md\u001b[0m\u001b[0;34m)\u001b[0m\u001b[0;34m\u001b[0m\u001b[0;34m\u001b[0m\u001b[0m\n\u001b[1;32m     65\u001b[0m   \u001b[0;32mdef\u001b[0m \u001b[0mg\u001b[0m\u001b[0;34m(\u001b[0m\u001b[0mz\u001b[0m\u001b[0;34m)\u001b[0m\u001b[0;34m:\u001b[0m\u001b[0;34m\u001b[0m\u001b[0;34m\u001b[0m\u001b[0m\n\u001b[0;32m---> 66\u001b[0;31m       \u001b[0;32mreturn\u001b[0m \u001b[0msgnx\u001b[0m\u001b[0;34m*\u001b[0m\u001b[0msgny\u001b[0m\u001b[0;34m*\u001b[0m\u001b[0mf\u001b[0m\u001b[0;34m(\u001b[0m\u001b[0;34m[\u001b[0m\u001b[0mnp\u001b[0m\u001b[0;34m.\u001b[0m\u001b[0mexp\u001b[0m\u001b[0;34m(\u001b[0m\u001b[0msgnx\u001b[0m\u001b[0;34m*\u001b[0m\u001b[0mz\u001b[0m\u001b[0;34m[\u001b[0m\u001b[0;36m0\u001b[0m\u001b[0;34m]\u001b[0m\u001b[0;34m)\u001b[0m\u001b[0;34m,\u001b[0m\u001b[0mnp\u001b[0m\u001b[0;34m.\u001b[0m\u001b[0mexp\u001b[0m\u001b[0;34m(\u001b[0m\u001b[0msgny\u001b[0m\u001b[0;34m*\u001b[0m\u001b[0mz\u001b[0m\u001b[0;34m[\u001b[0m\u001b[0;36m1\u001b[0m\u001b[0;34m]\u001b[0m\u001b[0;34m)\u001b[0m\u001b[0;34m]\u001b[0m\u001b[0;34m)\u001b[0m\u001b[0;34m*\u001b[0m\u001b[0mnp\u001b[0m\u001b[0;34m.\u001b[0m\u001b[0mexp\u001b[0m\u001b[0;34m(\u001b[0m\u001b[0msgnx\u001b[0m\u001b[0;34m*\u001b[0m\u001b[0mz\u001b[0m\u001b[0;34m[\u001b[0m\u001b[0;36m0\u001b[0m\u001b[0;34m]\u001b[0m\u001b[0;34m)\u001b[0m\u001b[0;34m*\u001b[0m\u001b[0mnp\u001b[0m\u001b[0;34m.\u001b[0m\u001b[0mexp\u001b[0m\u001b[0;34m(\u001b[0m\u001b[0msgny\u001b[0m\u001b[0;34m*\u001b[0m\u001b[0mz\u001b[0m\u001b[0;34m[\u001b[0m\u001b[0;36m1\u001b[0m\u001b[0;34m]\u001b[0m\u001b[0;34m)\u001b[0m\u001b[0;34m\u001b[0m\u001b[0;34m\u001b[0m\u001b[0m\n\u001b[0m\u001b[1;32m     67\u001b[0m   \u001b[0minteg\u001b[0m \u001b[0;34m=\u001b[0m \u001b[0mvegas\u001b[0m\u001b[0;34m.\u001b[0m\u001b[0mIntegrator\u001b[0m\u001b[0;34m(\u001b[0m\u001b[0;34m[\u001b[0m\u001b[0;34m[\u001b[0m\u001b[0mua\u001b[0m\u001b[0;34m,\u001b[0m \u001b[0mub\u001b[0m\u001b[0;34m]\u001b[0m\u001b[0;34m,\u001b[0m\u001b[0;34m[\u001b[0m\u001b[0muc\u001b[0m\u001b[0;34m,\u001b[0m \u001b[0mud\u001b[0m\u001b[0;34m]\u001b[0m\u001b[0;34m]\u001b[0m\u001b[0;34m)\u001b[0m\u001b[0;34m\u001b[0m\u001b[0;34m\u001b[0m\u001b[0m\n\u001b[1;32m     68\u001b[0m   \u001b[0mresult\u001b[0m \u001b[0;34m=\u001b[0m \u001b[0minteg\u001b[0m\u001b[0;34m(\u001b[0m\u001b[0mg\u001b[0m\u001b[0;34m,\u001b[0m \u001b[0mnitn\u001b[0m\u001b[0;34m=\u001b[0m\u001b[0;36m1\u001b[0m\u001b[0;34m,\u001b[0m \u001b[0mneval\u001b[0m\u001b[0;34m=\u001b[0m\u001b[0;36m100000\u001b[0m\u001b[0;34m)\u001b[0m\u001b[0;34m\u001b[0m\u001b[0;34m\u001b[0m\u001b[0m\n",
            "\u001b[0;32m<ipython-input-79-4a151b67d158>\u001b[0m in \u001b[0;36mf\u001b[0;34m(para)\u001b[0m\n\u001b[1;32m    106\u001b[0m         \u001b[0mt\u001b[0m     \u001b[0;34m=\u001b[0m \u001b[0mpara\u001b[0m\u001b[0;34m[\u001b[0m\u001b[0;36m1\u001b[0m\u001b[0;34m]\u001b[0m\u001b[0;34m\u001b[0m\u001b[0;34m\u001b[0m\u001b[0m\n\u001b[1;32m    107\u001b[0m         \u001b[0;31m#return test.bdmflux_f(theta,t,R,Tx,mx)\u001b[0m\u001b[0;34m\u001b[0m\u001b[0;34m\u001b[0m\u001b[0;34m\u001b[0m\u001b[0m\n\u001b[0;32m--> 108\u001b[0;31m         \u001b[0ml\u001b[0m\u001b[0;34m,\u001b[0m\u001b[0mr\u001b[0m\u001b[0;34m,\u001b[0m\u001b[0malpha\u001b[0m\u001b[0;34m,\u001b[0m\u001b[0mflag\u001b[0m \u001b[0;34m=\u001b[0m \u001b[0mRoot_Finding\u001b[0m\u001b[0;34m(\u001b[0m\u001b[0mtheta\u001b[0m\u001b[0;34m,\u001b[0m\u001b[0mt\u001b[0m\u001b[0;34m,\u001b[0m\u001b[0mbeta\u001b[0m\u001b[0;34m,\u001b[0m\u001b[0mR\u001b[0m\u001b[0;34m)\u001b[0m \u001b[0;31m# solve geometry\u001b[0m\u001b[0;34m\u001b[0m\u001b[0;34m\u001b[0m\u001b[0m\n\u001b[0m\u001b[1;32m    109\u001b[0m \u001b[0;34m\u001b[0m\u001b[0m\n\u001b[1;32m    110\u001b[0m         \u001b[0;32mif\u001b[0m \u001b[0mflag\u001b[0m \u001b[0;34m==\u001b[0m \u001b[0;34m'unphysical'\u001b[0m\u001b[0;34m:\u001b[0m\u001b[0;34m\u001b[0m\u001b[0;34m\u001b[0m\u001b[0m\n",
            "\u001b[0;32m<ipython-input-7-8067a889c390>\u001b[0m in \u001b[0;36mRoot_Finding\u001b[0;34m(theta, t, vx, R, r_cut)\u001b[0m\n\u001b[1;32m     39\u001b[0m         \u001b[0;32melse\u001b[0m\u001b[0;34m:\u001b[0m\u001b[0;34m\u001b[0m\u001b[0;34m\u001b[0m\u001b[0m\n\u001b[1;32m     40\u001b[0m             \u001b[0malpha\u001b[0m \u001b[0;34m=\u001b[0m \u001b[0mnp\u001b[0m\u001b[0;34m.\u001b[0m\u001b[0marccos\u001b[0m\u001b[0;34m(\u001b[0m\u001b[0;34m(\u001b[0m\u001b[0mR\u001b[0m\u001b[0;34m**\u001b[0m\u001b[0;36m2\u001b[0m\u001b[0;34m-\u001b[0m\u001b[0mr\u001b[0m\u001b[0;34m**\u001b[0m\u001b[0;36m2\u001b[0m\u001b[0;34m-\u001b[0m\u001b[0ml\u001b[0m\u001b[0;34m**\u001b[0m\u001b[0;36m2\u001b[0m\u001b[0;34m)\u001b[0m\u001b[0;34m/\u001b[0m\u001b[0;34m(\u001b[0m\u001b[0;36m2\u001b[0m\u001b[0;34m*\u001b[0m\u001b[0mr\u001b[0m\u001b[0;34m*\u001b[0m\u001b[0ml\u001b[0m\u001b[0;34m)\u001b[0m\u001b[0;34m)\u001b[0m\u001b[0;34m\u001b[0m\u001b[0;34m\u001b[0m\u001b[0m\n\u001b[0;32m---> 41\u001b[0;31m         \u001b[0;32mif\u001b[0m\u001b[0;34m(\u001b[0m\u001b[0mnp\u001b[0m\u001b[0;34m.\u001b[0m\u001b[0misnan\u001b[0m\u001b[0;34m(\u001b[0m\u001b[0malpha\u001b[0m\u001b[0;34m)\u001b[0m\u001b[0;34m)\u001b[0m\u001b[0;34m:\u001b[0m\u001b[0;34m\u001b[0m\u001b[0;34m\u001b[0m\u001b[0m\n\u001b[0m\u001b[1;32m     42\u001b[0m             \u001b[0mprint\u001b[0m\u001b[0;34m(\u001b[0m\u001b[0mr\u001b[0m\u001b[0;34m,\u001b[0m\u001b[0ml\u001b[0m\u001b[0;34m,\u001b[0m\u001b[0;34m(\u001b[0m\u001b[0mR\u001b[0m\u001b[0;34m**\u001b[0m\u001b[0;36m2\u001b[0m\u001b[0;34m-\u001b[0m\u001b[0mr\u001b[0m\u001b[0;34m**\u001b[0m\u001b[0;36m2\u001b[0m\u001b[0;34m-\u001b[0m\u001b[0ml\u001b[0m\u001b[0;34m**\u001b[0m\u001b[0;36m2\u001b[0m\u001b[0;34m)\u001b[0m\u001b[0;34m/\u001b[0m\u001b[0;34m(\u001b[0m\u001b[0;36m2\u001b[0m\u001b[0;34m*\u001b[0m\u001b[0mr\u001b[0m\u001b[0;34m*\u001b[0m\u001b[0ml\u001b[0m\u001b[0;34m)\u001b[0m\u001b[0;34m)\u001b[0m\u001b[0;34m\u001b[0m\u001b[0;34m\u001b[0m\u001b[0m\n\u001b[1;32m     43\u001b[0m     \u001b[0;32melse\u001b[0m\u001b[0;34m:\u001b[0m\u001b[0;34m\u001b[0m\u001b[0;34m\u001b[0m\u001b[0m\n",
            "\u001b[0;31mKeyboardInterrupt\u001b[0m: "
          ]
        }
      ]
    },
    {
      "cell_type": "code",
      "source": [
        "print(Accumulated_BDMflux_DBL_mx1)\n",
        "Accumulated_BDMflux_DBL_mx1 = np.array(Accumulated_BDMflux_DBL_mx1)\n",
        "Accumulated_BDMflux_DBL_mx1 = np.abs(Accumulated_BDMflux_DBL_mx1)"
      ],
      "metadata": {
        "colab": {
          "base_uri": "https://localhost:8080/"
        },
        "id": "3G_4Klc4H_Y2",
        "outputId": "98794ae9-2d6a-4d1a-a1f5-4849f013e528"
      },
      "execution_count": 76,
      "outputs": [
        {
          "output_type": "stream",
          "name": "stdout",
          "text": [
            "[-1.6789659802388925e-07, -7.993426945967516e-09, -3.401786008306053e-08, -0.00014933530854112955, -6.370523455249465e-09, -1.7544932494778558e-10, -9.276466291765794e-11, -3.161270829774242e-11, -1.58997321880819e-12, -1.5149055692407613e-09]\n"
          ]
        }
      ]
    },
    {
      "cell_type": "code",
      "source": [
        "Accumulated_BDMflux_DBL_mx1Tx=np.linspace(5,100,100)\n",
        "Accumulated_BDMflux_mx2 = get_data('accbdm_mx2.txt')\n",
        "Accumulated_BDMflux_mx3 = get_data('accbdm_mx3.txt')\n",
        "plt.plot(Tx1,Accumulated_BDMflux_DBL_mx1,color='blue',label=str(mx1)+'MeV')\n",
        "plt.plot(Tx,Accumulated_BDMflux_mx2,color='red',label=str(mx2)+'MeV')\n",
        "plt.plot(Tx,Accumulated_BDMflux_mx3,color='green',label=str(mx3)+'MeV')\n",
        "\n",
        "#plt.xscale('log')\n",
        "plt.yscale('log')\n",
        "plt.legend(loc='best')\n",
        "#plt.title(r'$m_\\chi =$'+str(mx)+' MeV')\n",
        "#plt.ylim(1e-19,1e-7)\n",
        "plt.xlabel('Tx(MeV)')\n",
        "plt.ylabel(r'$Accumulated BDM Number$')\n",
        "plt.show()"
      ],
      "metadata": {
        "colab": {
          "base_uri": "https://localhost:8080/",
          "height": 279
        },
        "id": "RthTasWHH1Lz",
        "outputId": "476ce045-c16a-4456-f68a-f58b87070d2f"
      },
      "execution_count": 78,
      "outputs": [
        {
          "output_type": "display_data",
          "data": {
            "image/png": "[encoded data removed]",
            "text/plain": [
              "<Figure size 432x288 with 1 Axes>"
            ]
          },
          "metadata": {
            "needs_background": "light"
          }
        }
      ]
    },
    {
      "cell_type": "code",
      "source": [
        "def VJI(f,a,b,inv=False,eval_num=1000):\n",
        "  if inv==False:\n",
        "    ua = np.log(a)\n",
        "    ub = np.log(b)\n",
        "    def fg(z):\n",
        "        return f([np.exp(z[0])])*np.exp(z[0])\n",
        "    integ = vegas.Integrator([[ua, ub]])\n",
        "    result = integ(fg, nitn=1, neval=eval_num)\n",
        "\n",
        "    return result.mean\n",
        "  if inv==True:\n",
        "    ua = -np.log(a)\n",
        "    ub = -np.log(b)\n",
        "    def fg(z):\n",
        "        return f([np.exp(-z[0])])*np.exp(-z[0])\n",
        "    integ = vegas.Integrator([[ub, ua]])\n",
        "    result = integ(fg, nitn=1, neval=eval_num)\n",
        "\n",
        "    return result.mean\n",
        "\n",
        "\n",
        "def Jacobian_Quad(f,a,b,inv=False):\n",
        "  if inv==False:\n",
        "    ua = np.log(a)\n",
        "    ub = np.log(b)\n",
        "    def s(z):\n",
        "      return f(np.exp(z))*np.exp(z)\n",
        "    return integrate.quad(s,ua,ub)[0]\n",
        "  if inv==True:\n",
        "    ua = -np.log(a)\n",
        "    ub = -np.log(b)\n",
        "    def s(z):\n",
        "      return f(np.exp(-z))*np.exp(-z)\n",
        "    return integrate.quad(s,ub,ua)[0]\n",
        "\n",
        "def Accumulated_bdmnumber_vegas(Tx,mx,tau=10,sigxv=1e-45,Lv=Lv,R=50.,r_cut=1e-3):\n",
        "    def f(time):\n",
        "      ts = time[0]\n",
        "      return  bdmflux_vegas(ts,Tx,mx,r_cut=r_cut)\n",
        "    def g(time):\n",
        "      ts = time\n",
        "      return  bdmflux_vegas(ts,Tx,mx,r_cut=r_cut)\n",
        "    vdm = vx(Tx,mx)\n",
        "    tv = R*kpc2cm/c\n",
        "    t_crit =  tv*(1/vdm-1)\n",
        "    tmax = np.min([t_crit*10**(1-np.log10(mx)),30*yr])\n",
        "\n",
        "    \"\"\"return Jacobian_Quad(g,t_crit*1e-3,t_crit*1e-1,inv=True)  \\\n",
        "    +Jacobian_Quad(g,t_crit*1e-1,t_crit*5e-1,inv=True) \\\n",
        "    +Jacobian_Quad(g,t_crit*5e-1,t_crit,inv=True) \\\n",
        "    + Jacobian_Quad(g,t_crit,t_crit*2) + Jacobian_Quad(g,t_crit*2,t_crit*10) \\\n",
        "    + Jacobian_Quad(g,t_crit*10,tmax)\"\"\"\n",
        "    \n",
        "    return VJI(f,t_crit*1e-3,t_crit*1e-1,inv=True,eval_num=100)  \\\n",
        "    +VJI(f,t_crit*1e-1,t_crit*5e-1,inv=True,eval_num=100) \\\n",
        "    +VJI(f,t_crit*5e-1,t_crit,inv=True,eval_num=100) \\\n",
        "    + VJI(f,t_crit,t_crit*2,eval_num=100) + VJI(f,t_crit*2,t_crit*10,eval_num=100) \\\n",
        "    + VJI(f,t_crit*10,tmax,eval_num=100)\n",
        "\n",
        "Accumulated_BDMflux_mx1 = []\n",
        "\n",
        "\n",
        "Tx1=np.linspace(5,100,20)\n",
        "mx1 = 1e-3\n",
        "mx2 = 1e-2\n",
        "mx3 = 1e-1\n",
        "\n",
        "\n",
        "for i in range(len(Tx1)):\n",
        "  Accumulated_BDMflux_mx1.append(Accumulated_bdmnumber_vegas(Tx1[i],mx1,r_cut=1e-3))\n",
        "  print(i)\n",
        "\n"
      ],
      "metadata": {
        "colab": {
          "base_uri": "https://localhost:8080/"
        },
        "id": "0MxS4UEsT8cU",
        "outputId": "25eb9078-576b-401d-991e-3c9b85593160"
      },
      "execution_count": 84,
      "outputs": [
        {
          "output_type": "stream",
          "name": "stderr",
          "text": [
            "/usr/local/lib/python3.7/dist-packages/ipykernel_launcher.py:22: RuntimeWarning: overflow encountered in exp\n"
          ]
        },
        {
          "output_type": "stream",
          "name": "stdout",
          "text": [
            "0\n",
            "1\n",
            "2\n",
            "3\n",
            "4\n",
            "5\n",
            "6\n"
          ]
        },
        {
          "output_type": "stream",
          "name": "stderr",
          "text": [
            "/usr/local/lib/python3.7/dist-packages/ipykernel_launcher.py:22: RuntimeWarning: invalid value encountered in sqrt\n"
          ]
        },
        {
          "output_type": "stream",
          "name": "stdout",
          "text": [
            "7\n",
            "8\n",
            "9\n",
            "10\n",
            "11\n",
            "12\n",
            "13\n",
            "14\n",
            "15\n",
            "16\n",
            "17\n",
            "18\n",
            "19\n"
          ]
        }
      ]
    },
    {
      "cell_type": "code",
      "source": [
        "from locale import atof\n",
        "def get_data(filename):\n",
        "  data = []\n",
        "  with open(filename) as f:\n",
        "    lines = f.readlines()\n",
        "    for i in range(len(lines)):\n",
        "      data.append(atof(lines[i]))\n",
        "    return np.array(data)"
      ],
      "metadata": {
        "id": "mrr8wmdbCvHH"
      },
      "execution_count": 31,
      "outputs": []
    },
    {
      "cell_type": "code",
      "source": [
        "f = open(\"accbdm_mx1.txt\", \"a\")\n",
        "for i in range(len(Accumulated_BDMflux_mx1)):\n",
        "  f.write(str(Accumulated_BDMflux_mx1[i])+'\\n')\n",
        "f.close()"
      ],
      "metadata": {
        "id": "L7qvm5W75TwT"
      },
      "execution_count": null,
      "outputs": []
    },
    {
      "cell_type": "code",
      "source": [
        "Tx=np.linspace(5,100,100)\n",
        "Accumulated_BDMflux_mx2 = get_data('accbdm_mx2.txt')\n",
        "Accumulated_BDMflux_mx3 = get_data('accbdm_mx3.txt')\n",
        "plt.plot(Tx1,Accumulated_BDMflux_mx1,color='blue',label=str(mx1)+'MeV')\n",
        "plt.plot(Tx,Accumulated_BDMflux_mx2,color='red',label=str(mx2)+'MeV')\n",
        "plt.plot(Tx,Accumulated_BDMflux_mx3,color='green',label=str(mx3)+'MeV')\n",
        "\n",
        "#plt.xscale('log')\n",
        "plt.yscale('log')\n",
        "plt.legend(loc='best')\n",
        "#plt.title(r'$m_\\chi =$'+str(mx)+' MeV')\n",
        "#plt.ylim(1e-19,1e-7)\n",
        "plt.xlabel('Tx(MeV)')\n",
        "plt.ylabel(r'$Accumulated BDM Number$')\n",
        "plt.show()"
      ],
      "metadata": {
        "colab": {
          "base_uri": "https://localhost:8080/",
          "height": 279
        },
        "id": "MaCTu6VHCrou",
        "outputId": "946f8af2-11e7-473c-e4a3-f70a1d9d5efa"
      },
      "execution_count": 85,
      "outputs": [
        {
          "output_type": "display_data",
          "data": {
            "image/png": "[encoded data removed]",
            "text/plain": [
              "<Figure size 432x288 with 1 Axes>"
            ]
          },
          "metadata": {
            "needs_background": "light"
          }
        }
      ]
    },
    {
      "cell_type": "code",
      "source": [
        "f = open(\"accbdm_mx1.txt\", \"a\")\n",
        "for i in range(len(Accumulated_BDMflux_mx1)):\n",
        "  f.write(str(Accumulated_BDMflux_mx1[i])+'\\n')\n",
        "f.close()\n",
        "f = open(\"accbdm_mx2.txt\", \"a\")\n",
        "for i in range(len(Accumulated_BDMflux_mx2)):\n",
        "  f.write(str(Accumulated_BDMflux_mx2[i])+'\\n')\n",
        "f.close()\n",
        "f = open(\"accbdm_mx3.txt\", \"a\")\n",
        "for i in range(len(Accumulated_BDMflux_mx3)):\n",
        "  f.write(str(Accumulated_BDMflux_mx3[i])+'\\n')\n",
        "f.close()\n",
        "\n"
      ],
      "metadata": {
        "id": "kGjDGrsm_btp"
      },
      "execution_count": null,
      "outputs": []
    },
    {
      "cell_type": "code",
      "source": [
        "Accumulated_BDMflux_mx1 = []\n",
        "Accumulated_BDMflux_mx2 = []\n",
        "Accumulated_BDMflux_mx3 = []\n",
        "\n",
        "Tx=np.linspace(5,100,100)\n",
        "mx1 = 1e-3\n",
        "mx2 = 1e-2\n",
        "mx3 = 1e-1\n",
        "\n",
        "for i in range(len(Tx)):\n",
        "  Accumulated_BDMflux_mx1.append(Accumulated_bdmnumber_int(Tx[i],mx1,r_cut=1e-3))\n",
        "  Accumulated_BDMflux_mx2.append(Accumulated_bdmnumber_int(Tx[i],mx2,r_cut=1e-3))\n",
        "  Accumulated_BDMflux_mx3.append(Accumulated_bdmnumber_int(Tx[i],mx3,r_cut=1e-3))\n",
        "  print(i)\n",
        "\n",
        "\n",
        "plt.plot(Tx,Accumulated_BDMflux_mx1,color='blue')\n",
        "plt.plot(Tx,Accumulated_BDMflux_mx1,color='red')\n",
        "plt.plot(Tx,Accumulated_BDMflux_mx1,color='green')\n",
        "\n",
        "#plt.xscale('log')\n",
        "#plt.yscale('log')\n",
        "plt.legend(loc='best')\n",
        "plt.title(r'$m_\\chi =$'+str(mx)+' MeV')\n",
        "#plt.ylim(1e-19,1e-7)\n",
        "plt.xlabel('Tx(MeV)')\n",
        "plt.ylabel(r'$Accumulated BDM Number$')\n",
        "plt.show()"
      ],
      "metadata": {
        "colab": {
          "base_uri": "https://localhost:8080/",
          "height": 1000
        },
        "id": "mjLILk5l-kPJ",
        "outputId": "79a6e541-6268-484f-9d8b-5251101a74bb"
      },
      "execution_count": null,
      "outputs": [
        {
          "output_type": "stream",
          "name": "stderr",
          "text": [
            "/usr/local/lib/python3.7/dist-packages/ipykernel_launcher.py:22: RuntimeWarning: overflow encountered in exp\n"
          ]
        },
        {
          "output_type": "stream",
          "name": "stdout",
          "text": [
            "0\n",
            "1\n",
            "2\n",
            "3\n",
            "4\n",
            "5\n",
            "6\n",
            "7\n",
            "8\n",
            "9\n",
            "10\n",
            "11\n",
            "12\n",
            "13\n",
            "14\n",
            "15\n",
            "16\n",
            "17\n",
            "18\n",
            "19\n",
            "20\n",
            "21\n",
            "22\n",
            "23\n",
            "24\n",
            "25\n",
            "26\n",
            "27\n",
            "28\n",
            "29\n",
            "30\n",
            "31\n",
            "32\n",
            "33\n",
            "34\n",
            "35\n",
            "36\n",
            "37\n",
            "38\n",
            "39\n",
            "40\n",
            "41\n",
            "42\n",
            "43\n",
            "44\n",
            "45\n",
            "46\n",
            "47\n",
            "48\n",
            "49\n",
            "50\n",
            "51\n",
            "52\n",
            "53\n",
            "54\n",
            "55\n",
            "56\n",
            "57\n",
            "58\n",
            "59\n",
            "60\n",
            "61\n",
            "62\n",
            "63\n",
            "64\n",
            "65\n",
            "66\n",
            "67\n",
            "68\n",
            "69\n",
            "70\n",
            "71\n",
            "72\n",
            "73\n",
            "74\n",
            "75\n",
            "76\n",
            "77\n",
            "78\n",
            "79\n",
            "80\n",
            "81\n",
            "82\n",
            "83\n",
            "84\n",
            "85\n",
            "86\n",
            "87\n",
            "88\n",
            "89\n",
            "90\n",
            "91\n",
            "92\n",
            "93\n",
            "94\n",
            "95\n",
            "96\n",
            "97\n",
            "98\n"
          ]
        },
        {
          "output_type": "stream",
          "name": "stderr",
          "text": [
            "No handles with labels found to put in legend.\n"
          ]
        },
        {
          "output_type": "stream",
          "name": "stdout",
          "text": [
            "99\n"
          ]
        },
        {
          "output_type": "display_data",
          "data": {
            "image/png": "[encoded data removed]",
            "text/plain": [
              "<Figure size 432x288 with 1 Axes>"
            ]
          },
          "metadata": {
            "needs_background": "light"
          }
        }
      ]
    },
    {
      "cell_type": "code",
      "source": [
        "plt.plot(Tx,Accumulated_BDMflux_mx1,color='blue')\n",
        "plt.plot(Tx,Accumulated_BDMflux_mx2,color='red')\n",
        "plt.plot(Tx,Accumulated_BDMflux_mx3,color='green')\n",
        "plt.yscale('log')"
      ],
      "metadata": {
        "colab": {
          "base_uri": "https://localhost:8080/",
          "height": 265
        },
        "id": "H8K4NhFrb3mW",
        "outputId": "babfa020-1c2d-4287-f1ca-1dec2fb5425e"
      },
      "execution_count": null,
      "outputs": [
        {
          "output_type": "display_data",
          "data": {
            "image/png": "[encoded data removed]",
            "text/plain": [
              "<Figure size 432x288 with 1 Axes>"
            ]
          },
          "metadata": {
            "needs_background": "light"
          }
        }
      ]
    },
    {
      "cell_type": "code",
      "source": [
        "f = open(\"accbdm_mx1.txt\", \"a\")\n",
        "for i in range(len(Accumulated_BDMflux_mx1)):\n",
        "  f.write(str(Accumulated_BDMflux_mx1[i])+'\\n')\n",
        "f.close()\n",
        "f = open(\"accbdm_mx2.txt\", \"a\")\n",
        "for i in range(len(Accumulated_BDMflux_mx2)):\n",
        "  f.write(str(Accumulated_BDMflux_mx2[i])+'\\n')\n",
        "f.close()\n",
        "f = open(\"accbdm_mx3.txt\", \"a\")\n",
        "for i in range(len(Accumulated_BDMflux_mx3)):\n",
        "  f.write(str(Accumulated_BDMflux_mx3[i])+'\\n')\n",
        "f.close()\n",
        "\n"
      ],
      "metadata": {
        "id": "y2mLvgGMBNiC"
      },
      "execution_count": null,
      "outputs": []
    },
    {
      "cell_type": "code",
      "source": [
        "def normailze(a):\n",
        "  b = np.copy(a)\n",
        "  const = np.sum(a)\n",
        "  return b/const\n",
        "plt.plot(Tx,normailze(Accumulated_BDMflux_mx1),color='red',label='Spectrum at the Earth')\n",
        "plt.plot(Txs, normailze(g_Tx),label='Spectrum at specific location')\n",
        "plt.legend(loc='best')"
      ],
      "metadata": {
        "colab": {
          "base_uri": "https://localhost:8080/",
          "height": 282
        },
        "id": "gR8H0JgJFU7d",
        "outputId": "1f2c297a-aa6f-44b0-a452-df3278a16d93"
      },
      "execution_count": null,
      "outputs": [
        {
          "output_type": "execute_result",
          "data": {
            "text/plain": [
              "<matplotlib.legend.Legend at 0x7f1492005890>"
            ]
          },
          "metadata": {},
          "execution_count": 58
        },
        {
          "output_type": "display_data",
          "data": {
            "image/png": "[encoded data removed]",
            "text/plain": [
              "<Figure size 432x288 with 1 Axes>"
            ]
          },
          "metadata": {
            "needs_background": "light"
          }
        }
      ]
    },
    {
      "cell_type": "code",
      "source": [
        "plt.plot(Tx,Accumulated_BDMflux,color='royalblue')\n",
        "plt.plot(Tx,Accumulated_BDMflux_int,color='red',label='$int integration$')\n",
        "#plt.xscale('log')\n",
        "#plt.yscale('log')\n",
        "plt.legend(loc='best')\n",
        "plt.title(r'$m_\\chi =$'+str(mx)+' MeV')\n",
        "#plt.ylim(1e-19,1e-7)\n",
        "plt.xlabel('Tx(MeV)')\n",
        "plt.ylabel(r'$Accumulated BDM Number$')\n",
        "plt.show()"
      ],
      "metadata": {
        "colab": {
          "base_uri": "https://localhost:8080/",
          "height": 296
        },
        "id": "6Btty2pcgoYO",
        "outputId": "6fef724e-d2ff-4c97-b656-c22e648a18ae"
      },
      "execution_count": null,
      "outputs": [
        {
          "output_type": "display_data",
          "data": {
            "image/png": "[encoded data removed]",
            "text/plain": [
              "<Figure size 432x288 with 1 Axes>"
            ]
          },
          "metadata": {
            "needs_background": "light"
          }
        }
      ]
    },
    {
      "cell_type": "code",
      "source": [
        "def Accumulated_bdmnumber(Tx,mx,tau=10,sigxv=1e-45,Lv=Lv,R=50.,r_cut=1e-3):\n",
        "    def f(t):\n",
        "      result = bdmflux_vegas(t,Tx,mx,r_cut=r_cut)\n",
        "      return result\n",
        "    vdm = vx(Tx,mx)\n",
        "    tv = R*kpc2cm/c\n",
        "    t_crit =  tv*(1/vdm-1)\n",
        "    tmax = np.min([t_crit*10**(1-np.log10(mx)),30*yr])\n",
        "    return Jacobian_Method(f,t_crit,tmax,50)+Jacobian_Method(f,t_crit*1e-3,t_crit,50)\n",
        "\n",
        "  \n",
        "Accumulated_BDMflux_q = []\n",
        "\n",
        "\n",
        "Tx=np.linspace(9,10,10)\n",
        "mx = 1e-3\n",
        "\n",
        "for i in range(len(Tx)):\n",
        "  Accumulated_BDMflux_q.append(Accumulated_bdmnumber(Tx[i],mx,r_cut=1e-3))\n",
        "  #Accumulated_BDMflux_int.append(Accumulated_bdmnumber_int(Tx[i],mx,r_cut=1e-3))\n",
        "  print(i)\n",
        "\n",
        "plt.plot(Tx,Accumulated_BDMflux_q,color='royalblue')\n",
        "#plt.plot(Tx,Accumulated_BDMflux_int,color='red')\n",
        "#plt.xscale('log')\n",
        "#plt.yscale('log')\n",
        "plt.legend(loc='best')\n",
        "plt.title(r'$m_\\chi =$'+str(mx)+' MeV')\n",
        "#plt.ylim(1e-19,1e-7)\n",
        "plt.xlabel('Tx(MeV)')\n",
        "plt.ylabel(r'$Accumulated BDM Number$')\n",
        "plt.show()"
      ],
      "metadata": {
        "colab": {
          "base_uri": "https://localhost:8080/",
          "height": 528
        },
        "id": "sSoIc_IWgv4Q",
        "outputId": "4cdfba87-3f0c-41b9-a2a0-bb97a0b2d345"
      },
      "execution_count": null,
      "outputs": [
        {
          "output_type": "stream",
          "name": "stderr",
          "text": [
            "/usr/local/lib/python3.7/dist-packages/ipykernel_launcher.py:22: RuntimeWarning: invalid value encountered in sqrt\n",
            "/usr/local/lib/python3.7/dist-packages/ipykernel_launcher.py:22: RuntimeWarning: overflow encountered in exp\n"
          ]
        },
        {
          "output_type": "stream",
          "name": "stdout",
          "text": [
            "0\n",
            "1\n",
            "2\n",
            "3\n",
            "4\n",
            "5\n",
            "6\n",
            "7\n",
            "8\n"
          ]
        },
        {
          "output_type": "stream",
          "name": "stderr",
          "text": [
            "No handles with labels found to put in legend.\n"
          ]
        },
        {
          "output_type": "stream",
          "name": "stdout",
          "text": [
            "9\n"
          ]
        },
        {
          "output_type": "display_data",
          "data": {
            "image/png": "[encoded data removed]",
            "text/plain": [
              "<Figure size 432x288 with 1 Axes>"
            ]
          },
          "metadata": {
            "needs_background": "light"
          }
        }
      ]
    },
    {
      "cell_type": "code",
      "source": [
        "print(Accumulated_BDMflux)"
      ],
      "metadata": {
        "colab": {
          "base_uri": "https://localhost:8080/"
        },
        "id": "o6sbSQPaZmdf",
        "outputId": "c1c0e4dd-b99c-416f-f2b6-fea88e65f074"
      },
      "execution_count": null,
      "outputs": [
        {
          "output_type": "stream",
          "name": "stdout",
          "text": [
            "[nan, nan, nan, nan, nan, nan, nan, nan, nan, nan]\n"
          ]
        }
      ]
    },
    {
      "cell_type": "code",
      "source": [
        "def normailze(a):\n",
        "  b = np.copy(a)\n",
        "  const = np.sum(a)\n",
        "  return b/const\n",
        "plt.plot(Tx,normailze(Accumulated_BDMflux_vegas),color='red',label='Spectrum at the Earth')\n",
        "plt.plot(Txs, normailze(g_Tx),label='Spectrum at specific location')\n",
        "plt.legend(loc='best')"
      ],
      "metadata": {
        "colab": {
          "base_uri": "https://localhost:8080/",
          "height": 282
        },
        "id": "WF5QiSanZsQD",
        "outputId": "e3e6e02d-ff81-47b9-fee1-281a1e2839cc"
      },
      "execution_count": null,
      "outputs": [
        {
          "output_type": "execute_result",
          "data": {
            "text/plain": [
              "<matplotlib.legend.Legend at 0x7f87fce13450>"
            ]
          },
          "metadata": {},
          "execution_count": 72
        },
        {
          "output_type": "display_data",
          "data": {
            "image/png": "[encoded data removed]",
            "text/plain": [
              "<Figure size 432x288 with 1 Axes>"
            ]
          },
          "metadata": {
            "needs_background": "light"
          }
        }
      ]
    },
    {
      "cell_type": "code",
      "execution_count": null,
      "metadata": {
        "colab": {
          "base_uri": "https://localhost:8080/"
        },
        "id": "yTIb--zR6rkC",
        "outputId": "4c049684-b26e-4a20-d7fc-dc78b243e5ea"
      },
      "outputs": [
        {
          "name": "stdout",
          "output_type": "stream",
          "text": [
            "7.672170385038367e-05\n",
            "7.898664461715905e-05\n"
          ]
        }
      ],
      "source": [
        "print(np.sum(Accumulated_BDMflux))\n",
        "print(np.sum(Accumulated_BDMflux_vegas))\n"
      ]
    }
  ],
  "metadata": {
    "colab": {
      "collapsed_sections": [],
      "name": "BDM_Flux_Vegas_Newest.ipynb",
      "provenance": [],
      "include_colab_link": true
    },
    "kernelspec": {
      "display_name": "Python 3 (ipykernel)",
      "language": "python",
      "name": "python3"
    },
    "language_info": {
      "codemirror_mode": {
        "name": "ipython",
        "version": 3
      },
      "file_extension": ".py",
      "mimetype": "text/x-python",
      "name": "python",
      "nbconvert_exporter": "python",
      "pygments_lexer": "ipython3",
      "version": "3.8.10"
    }
  },
  "nbformat": 4,
  "nbformat_minor": 0
}