{
 "cells": [
  {
   "cell_type": "code",
   "execution_count": 1,
   "metadata": {
    "executionInfo": {
     "elapsed": 362,
     "status": "ok",
     "timestamp": 1638714761494,
     "user": {
      "displayName": "吳文華",
      "photoUrl": "https://lh3.googleusercontent.com/a-/AOh14GgE5_y3ZIKzS6UPSY3sYTw57msrqqDOYtPP_2pNMA=s64",
      "userId": "16457812485485709771"
     },
     "user_tz": -480
    },
    "id": "_MRCpbP-Hfdf"
   },
   "outputs": [],
   "source": [
    "import numpy as np\n",
    "import math as mt\n",
    "import matplotlib.pyplot as plt\n",
    "import scipy.integrate as integrate\n",
    "import scipy.optimize as opt"
   ]
  },
  {
   "cell_type": "code",
   "execution_count": 2,
   "metadata": {
    "colab": {
     "base_uri": "https://localhost:8080/",
     "height": 375
    },
    "executionInfo": {
     "elapsed": 435,
     "status": "error",
     "timestamp": 1638715051287,
     "user": {
      "displayName": "吳文華",
      "photoUrl": "https://lh3.googleusercontent.com/a-/AOh14GgE5_y3ZIKzS6UPSY3sYTw57msrqqDOYtPP_2pNMA=s64",
      "userId": "16457812485485709771"
     },
     "user_tz": -480
    },
    "id": "xE1j6yFWA3Nk",
    "outputId": "482f7532-d3f5-4bf0-e798-972a14908016"
   },
   "outputs": [
    {
     "name": "stdout",
     "output_type": "stream",
     "text": [
      "itn   integral        wgt average     chi2/dof        Q\n",
      "-------------------------------------------------------\n",
      "  1   2.1(1.4)        2.1(1.4)            0.00     1.00\n",
      "  2   1.12(26)        1.15(25)            0.46     0.50\n",
      "  3   1.05(13)        1.08(12)            0.29     0.75\n",
      "  4   0.963(62)       0.987(55)           0.43     0.73\n",
      "  5   1.006(33)       1.001(28)           0.35     0.85\n",
      "  6   1.008(24)       1.005(18)           0.28     0.92\n",
      "  7   0.996(17)       1.000(13)           0.26     0.96\n",
      "  8   1.003(15)       1.0015(96)          0.23     0.98\n",
      "  9   0.999(12)       1.0006(76)          0.20     0.99\n",
      " 10   0.993(11)       0.9981(63)          0.22     0.99\n",
      "\n",
      "result = 0.9981(63)    Q = 0.99\n"
     ]
    }
   ],
   "source": [
    "\n",
    "import  vegas\n",
    "\n",
    "import math\n",
    "\n",
    "def f(x):\n",
    "    dx2 = 0\n",
    "    for d in range(4):\n",
    "        dx2 += (x[d] - 0.5) ** 2\n",
    "    return math.exp(-dx2 * 100.) * 1013.2118364296088\n",
    "\n",
    "integ = vegas.Integrator([[-1, 1], [0, 1], [0, 1], [0, 1]])\n",
    "\n",
    "result = integ(f, nitn=10, neval=1000)\n",
    "print(result.summary())\n",
    "print('result = %s    Q = %.2f' % (result, result.Q))"
   ]
  },
  {
   "cell_type": "code",
   "execution_count": 3,
   "metadata": {},
   "outputs": [
    {
     "name": "stdout",
     "output_type": "stream",
     "text": [
      "itn   integral        wgt average     chi2/dof        Q\n",
      "-------------------------------------------------------\n",
      "  1   0.66684(35)     0.66684(35)         0.00     1.00\n",
      "  2   0.66659(29)     0.66669(22)         0.29     0.59\n",
      "  3   0.66658(28)     0.66665(17)         0.19     0.82\n",
      "  4   0.66676(32)     0.66667(15)         0.16     0.92\n",
      "  5   0.66686(32)     0.66671(14)         0.19     0.94\n",
      "  6   0.66625(33)     0.66664(13)         0.48     0.79\n",
      "  7   0.66616(35)     0.66659(12)         0.67     0.68\n",
      "  8   0.66692(39)     0.66662(11)         0.67     0.70\n",
      "  9   0.66689(40)     0.66664(11)         0.64     0.75\n",
      " 10   0.66687(41)     0.66665(11)         0.60     0.80\n",
      "\n",
      "result = 0.66665(11)    Q = 0.80\n"
     ]
    }
   ],
   "source": [
    "def f(x):\n",
    "    return (x[0]*x[0])\n",
    "integ = vegas.Integrator([[-1, 1]])\n",
    "\n",
    "result = integ(f, nitn=10, neval=1000)\n",
    "print(result.summary())\n",
    "print('result = %s    Q = %.2f' % (result, result.Q))"
   ]
  },
  {
   "cell_type": "code",
   "execution_count": 4,
   "metadata": {},
   "outputs": [
    {
     "name": "stdout",
     "output_type": "stream",
     "text": [
      "2.333374048828687\n",
      "2.333403340575209\n"
     ]
    }
   ],
   "source": [
    "def f(x):\n",
    "        return (x[0]*x[0])\n",
    "def Vegas_Integration(f,a,b):\n",
    "    \n",
    "    integ = vegas.Integrator([[a, b]])\n",
    "\n",
    "    result = integ(f, nitn=10, neval=1000)\n",
    "    return result.mean\n",
    "\n",
    "def Vegas_Jacobian_Integration(f,a,b):\n",
    "    ua = np.log(a)\n",
    "    ub = np.log(b)\n",
    "    def g(z):\n",
    "        return f([np.exp(z[0])])*np.exp(z[0])\n",
    "    integ = vegas.Integrator([[ua, ub]])\n",
    "    result = integ(g, nitn=10, neval=1000)\n",
    "    return result.mean\n",
    "\n",
    "print(Vegas_Integration(f,1,2))\n",
    "print(Vegas_Jacobian_Integration(f,1,2))"
   ]
  },
  {
   "cell_type": "code",
   "execution_count": 5,
   "metadata": {
    "id": "W9gJdTv7IVAB"
   },
   "outputs": [],
   "source": [
    "# Global constants\n",
    "# light speed, cm\n",
    "c = 3*1e10\n",
    "# kpc to cm\n",
    "kpc2cm = 3.08*1e21\n",
    "# erg to MeV\n",
    "erg2MeV = 624150.913\n",
    "# year in seconds\n",
    "yr = 31536000\n",
    "# Neutrino lumonisity, single specie\n",
    "Lv = 3e52/6"
   ]
  },
  {
   "cell_type": "code",
   "execution_count": 6,
   "metadata": {
    "id": "gipowkm3IYBw"
   },
   "outputs": [],
   "source": [
    "def dnvdEv(r,Ev,Lv=Lv):\n",
    "    \"\"\"\n",
    "    Neutrino number density per energy at r\n",
    "    \n",
    "    Input\n",
    "    ------\n",
    "    Enu: Neutrino energy in MeV\n",
    "    r: Distance to the SN explosion site, in kpc\n",
    "    Lv: Neutrino luminosity, default is 1e52 erg/s, total time is 10 second\n",
    "    \n",
    "    Output\n",
    "    ------\n",
    "    Neutrino flux at r: # per Enu per cm**3 per second\n",
    "    \"\"\"\n",
    "    Lv = Lv*erg2MeV\n",
    "    r = r*kpc2cm\n",
    "    \n",
    "    def _fv(Ev,Tv):\n",
    "        \"\"\"\n",
    "        Fermi-Dirac distribution\n",
    "        \"\"\"\n",
    "        return (1/18.9686)*(1/Tv**3)*(Ev**2/(np.exp(Ev/Tv - 3)+1))\n",
    "    \n",
    "    nue_dist = _fv(Ev,2.76)/11\n",
    "    nueb_dist = _fv(Ev,4.01)/16\n",
    "    # total 4 species for x\n",
    "    nux_dist = _fv(Ev,6.26)/25\n",
    "    \n",
    "    L=Lv/(4*np.pi*r**2*c)\n",
    "    return L*(nue_dist+nueb_dist+4*nux_dist)\n",
    "\n",
    "def nx(r,mx,rho,rs,type='MW_r'):\n",
    "    \"\"\"\n",
    "    DM number density at r\n",
    "    \n",
    "    Input\n",
    "    ------\n",
    "    r: distance to GC, in kpc\n",
    "    mx: DM mass in MeV\n",
    "    rho: characteristic density, default is 184 MeV/cm^3\n",
    "    rs: characteristic length, default is 24.42 kpc\n",
    "    type: density profile type, like NFW or Hernquist profile\n",
    "    \n",
    "    Output\n",
    "    ------\n",
    "    DM number density, #/cm^3 at r\n",
    "    \"\"\"\n",
    "    x = r/rs\n",
    "    rho_num = rho/mx\n",
    "    if type=='MW_r':\n",
    "        if r<0.01:\n",
    "            return 0.\n",
    "        return rho_num/(x*(1+x)**2)\n",
    "    elif type=='MW':\n",
    "        return 4488/mx\n",
    "    elif type=='LMC':\n",
    "        if x>15.0:\n",
    "            return 0.\n",
    "        return rho_num/(x*(1+x)**3)"
   ]
  },
  {
   "cell_type": "code",
   "execution_count": 7,
   "metadata": {
    "id": "xWYyFs35IayJ"
   },
   "outputs": [],
   "source": [
    "def gamma(Ev,mx):\n",
    "    \"\"\"\n",
    "    Calculate gamma factor in CM frame\n",
    "    \"\"\"\n",
    "    return (Ev + mx)/((mx**2+2*mx*Ev)**0.5)\n",
    "def g(Ev,mx,alpha):\n",
    "    \"\"\"\n",
    "    Calculate BDM angular distribution\n",
    "    \n",
    "    Input\n",
    "    ------\n",
    "    Ev: Neutrino energy\n",
    "    mx: DM mass\n",
    "    alpha: lab frame scattering angle in [0,Pi/2]\n",
    "    \n",
    "    Output\n",
    "    ------\n",
    "    g: PDF of scattering angle alpha\n",
    "    \"\"\"\n",
    "    # From Wen-Hua's note\n",
    "    if 0 <= alpha <= np.pi/2 and Ev>0: \n",
    "        gm = gamma(Ev,mx)\n",
    "        sec = 1/np.cos(alpha)\n",
    "        dndOmega = gm**2*sec**3/np.pi/(1+gm**2*np.tan(alpha)**2)**2\n",
    "        return dndOmega\n",
    "    else:\n",
    "        return 0\n",
    "\n",
    "\n",
    "def Tx(Ev,mx,alpha):\n",
    "    \"\"\"\n",
    "    Calculate DM kinetic energy, Eq. (28), and velocity, Eq. (30),\n",
    "    in terms of lab frame scattering angle\n",
    "    \n",
    "    Input\n",
    "    ------\n",
    "    Ev: Neutrino energy\n",
    "    mx: DM mass\n",
    "    alpha: lab frame scattering angle in [0,Pi/2]\n",
    "    \n",
    "    Output\n",
    "    ------\n",
    "    Tx: DM kinetic energy at alpha after scattering\n",
    "    \"\"\"\n",
    "    # gamma factor in CM frame\n",
    "    gm = gamma(Ev,mx)\n",
    "    # CM frame scattering angle\n",
    "    theta_c = 2*np.arctan(gm*np.tan(alpha))\n",
    "    \n",
    "    # Tmax in lab frame\n",
    "    Tmax = Ev**2/(Ev+0.5*mx)\n",
    "    Tchi = 0.5*Tmax*(1+np.cos(theta_c))\n",
    "    return Tchi\n",
    "\n",
    "\n",
    "def Ev(Tx,mx,alpha):\n",
    "    \"\"\"\n",
    "    Calculate the neutrino energy to produce DM kinetic energy at\n",
    "    lab frame scattering angle alpha via analytical expression.\n",
    "    Note that if Ev is negative then it is unphysical\n",
    "    \n",
    "    Input\n",
    "    ------\n",
    "    Tx: DM kinetic energy\n",
    "    mx: DM mass\n",
    "    alpha: scattering angle in lab frame\n",
    "    \n",
    "    Output\n",
    "    Ev: the corresponding neutrino energy\n",
    "    \"\"\"\n",
    "    sec = 1/np.cos(alpha)\n",
    "    enu = (Tx*sec**2 + sec*np.sqrt(Tx*(2*mx + Tx)))/(2 - Tx*np.tan(alpha)**2/mx)\n",
    "    return enu\n",
    "\n",
    "\n",
    "def dEvdTx(Tx,mx,alpha):\n",
    "    \"\"\"\n",
    "    Calculate dEv/dTx via analytical expression. Note that the given\n",
    "    inputs must lead to positive Ev or the corresponding dEvdTx would\n",
    "    be unphysical\n",
    "    \n",
    "    Input\n",
    "    ------\n",
    "    Tx: DM kinetic energy\n",
    "    mx: DM mass\n",
    "    alpha: scattering angle in lab frame\n",
    "    dTx: arbitrarity small number, default 1e-5\n",
    "    \n",
    "    Output\n",
    "    ------\n",
    "    dEv/dTx: the derivative of Ev over Tx\n",
    "    \"\"\"\n",
    "    sec = 1/np.cos(alpha)\n",
    "    numerator = mx**2*sec*(2*sec*np.sqrt(Tx*(2*mx + Tx)) + 2*mx + Tx*sec**2 + Tx)\n",
    "    denominator = (Tx*np.tan(alpha)**2 - 2*mx)**2*np.sqrt(Tx*(2*mx + Tx))\n",
    "    return numerator/denominator\n",
    "\n",
    "\n",
    "def vx(Tx,mx):\n",
    "    \"\"\"\n",
    "    The dimensionless DM velocity. To restore the physical unit, just\n",
    "    times the speed of light c\n",
    "    \n",
    "    Input\n",
    "    ------\n",
    "    Tx: DM kinetic energy\n",
    "    mx: DM mass\n",
    "    \n",
    "    Output\n",
    "    ------\n",
    "    vx: dimensionless DM velocity\n",
    "    \"\"\"\n",
    "    return np.sqrt(Tx*(Tx+2*mx))/(Tx+mx)\n",
    "\n",
    "def xemissivity(Tx,mx,alpha,r,rho=184,rs=24.42,Lv=Lv):\n",
    "    \"\"\"\n",
    "    Upscattered DM emissivity, note the returned result is divided by sigxv and light velocity\n",
    "    \n",
    "    Input\n",
    "    ------\n",
    "    Tx: DM kinetic energy, MeV\n",
    "    mx: DM mass, MeV\n",
    "    alpha: the scattering angle in lab frame\n",
    "    vx: the DM dimensionless velocity in terms of Tx and mx\n",
    "    r: the distance from the scattering point to GC, kpc\n",
    "    rho: DM halo characteristic density, default 184 MeV/cm^3\n",
    "    rs: DM halo characteristic length, default 24.42 kpc\n",
    "    tau: the duration of SN explosion, default 10 s\n",
    "    Lv: neutrino luminosity during the SN explosion, default 1e52 erg/s\n",
    "        note that the total luminosity released by a single SN explosion\n",
    "        should be Lv times the duration of that explosion, where the unit\n",
    "        per second will be eliminated from this procedure\n",
    "    \n",
    "    Output\n",
    "    ------\n",
    "    BDM emissivity: in the unit of per cm^3 per second\n",
    "    \"\"\"\n",
    "    # if Tx >= 2mx/tan(a)^2, Ev will turn negative (diverge at equal) which is unphysical\n",
    "    Enu = Ev(Tx,mx,alpha)\n",
    "    if Tx < 2*mx/np.tan(alpha)**2 and Enu >= 0:    \n",
    "        dEdT = dEvdTx(Tx,mx,alpha)\n",
    "        jx = dnvdEv(r,Enu,Lv)*c *nx(r,mx,rho,rs)*dEdT*g(Enu,mx,alpha)\n",
    "    else:\n",
    "        jx = 0\n",
    "    return jx"
   ]
  },
  {
   "cell_type": "code",
   "execution_count": 8,
   "metadata": {
    "id": "3v3W4UI5IxA0"
   },
   "outputs": [],
   "source": [
    "def Root_Finding(theta, t,vx,R = 8.5,r_cut=0.001):\n",
    "    \"\"\"\n",
    "    Find l, r and alpha when t, cos\\theta, R and vx are given\n",
    "    \n",
    "    Input\n",
    "    ------\n",
    "    t: timing in seconds, 0 starts from the first arrival of the SN neutrino at Earth\n",
    "    theta: in rad\n",
    "    vx: dimensionless DM velocity, v/c\n",
    "    R: R in kpc, default 8.5 kpc\n",
    "    r_cut: the inner most galactic region should be considered, default is 0.001 kpc\n",
    "    \n",
    "    Output\n",
    "    ------\n",
    "    tuple: (l,r,alpha,flag)\n",
    "           flag is a string label, physical/unphysical, where unphysical\n",
    "           result should be considered zero contribution to the emissivity\n",
    "    \"\"\"\n",
    "    cos = np.cos(theta)\n",
    "    zeta = c*t/kpc2cm + R\n",
    "    \n",
    "    l = (-2*zeta*vx+2*cos*R*vx**2 + np.sqrt(vx**2*(2*zeta-2*cos*R*vx)**2 + 4*(-R**2+zeta**2)*vx**2*(-1+vx**2)))/(2*(-1+vx**2))\n",
    "    r = np.sqrt(l**2 + R**2 - 2*l*R*cos)\n",
    "    alpha = np.arccos((R**2-r**2-l**2)/(2*r*l))\n",
    "    # Avoid Unphysical Geometry\n",
    "\n",
    "    if l > 0 and r > 0 and r > r_cut and 0 <= alpha <= 0.5*np.pi:\n",
    "        flag = 'physical'\n",
    "    else:\n",
    "        flag = 'unphysical'\n",
    "    return l,r,alpha,flag"
   ]
  },
  {
   "cell_type": "code",
   "execution_count": 9,
   "metadata": {
    "id": "SjTFsXVtIySz"
   },
   "outputs": [],
   "source": [
    "def bdmflux(t,Tx,mx,tau=10,sigxv=1e-45,rho=184,rs=24.42,Lv=Lv,R=8.5,r_cut=0.0001):\n",
    "    \"\"\"\n",
    "    Boosted DM flux at Earth, per cm^2 per second\n",
    "    \n",
    "    Input\n",
    "    ------\n",
    "    t: time in second, 0 starts from the arrival of SN neutrino\n",
    "    Tx: DM kinetic energy, in MeV\n",
    "    mx: DM mass, in MeV\n",
    "    tau: the duration of SN explosion, default 10 s\n",
    "    sigxv: DM-neutrino scattering cross section, default 1e-45 cm^2\n",
    "    rho: NFW halo profile characteristic density, default 184 MeV/cm^3\n",
    "    rs: NFW halo profile characteristic length, default 24.42 kpc\n",
    "    Lv: SN neutrino luminosity, default 1e52 erg/s\n",
    "    R: distance between Sun and GC, default 8.5 kpc\n",
    "    r_cut: the inner most galactic region should be considered, default is 0.001 kpc\n",
    "    \n",
    "    Output\n",
    "    ------\n",
    "    BDM flux: in the unit of per cm^2 per second for a given t\n",
    "    \"\"\"\n",
    "    #rf = R/c\n",
    "    #ts = (c*t+R)/R\n",
    "    #rs_in_rf = rs/R\n",
    "    \n",
    "    # find DM velocity\n",
    "    beta = vx(Tx,mx)\n",
    "\n",
    "    def f(theta): \n",
    "        #return test.bdmflux_f(theta,t,R,Tx,mx)\n",
    "        l,r,alpha,flag = Root_Finding(theta,t,beta,R) # solve geometry\n",
    "        \n",
    "        if flag == 'unphysical':\n",
    "            return 0\n",
    "        \n",
    "        # Geometric Terms\n",
    "        geometric_terms = np.sin(theta) *2*np.pi \n",
    "\n",
    "        # Physical terms\n",
    "        physical_terms = sigxv*tau*xemissivity(Tx,mx,alpha,r,rho,rs,Lv)\n",
    "        \n",
    "        physical_terms /= (l-R*np.cos(theta))/r*beta+1\n",
    "        \n",
    "        return geometric_terms*physical_terms\n",
    "    \n",
    "    result = integrate.quad(f,0.1,np.pi/2)[0]\n",
    "    result += integrate.quad(f,0.01,0.1)[0]\n",
    "    result += integrate.quad(f,0.001,0.01)[0]\n",
    "    result += integrate.quad(f,0.0001,0.001)[0]\n",
    "    result += integrate.quad(f,0.00001,0.0001)[0]\n",
    "    result += integrate.quad(f,1e-6,0.00001)[0]\n",
    "    result += integrate.quad(f,0,1e-6)[0]\n",
    "    \n",
    "    return result*beta*c"
   ]
  },
  {
   "cell_type": "code",
   "execution_count": 11,
   "metadata": {
    "colab": {
     "base_uri": "https://localhost:8080/",
     "height": 300
    },
    "executionInfo": {
     "elapsed": 924,
     "status": "ok",
     "timestamp": 1638262300137,
     "user": {
      "displayName": "吳文華",
      "photoUrl": "https://lh3.googleusercontent.com/a-/AOh14GgE5_y3ZIKzS6UPSY3sYTw57msrqqDOYtPP_2pNMA=s64",
      "userId": "16457812485485709771"
     },
     "user_tz": -480
    },
    "id": "DLNq7vOFI_er",
    "outputId": "122a9af5-04da-4f6e-954b-4519ce6b946d"
   },
   "outputs": [
    {
     "data": {
      "image/png": "[encoded data removed]",
      "text/plain": [
       "<Figure size 432x288 with 1 Axes>"
      ]
     },
     "metadata": {
      "needs_background": "light"
     },
     "output_type": "display_data"
    }
   ],
   "source": [
    "plt.plot(yrls,fluxmx1_20,label='$m_\\chi=$'+str(mx1)+' MeV')\n",
    "\"\"\"plt.plot(yrls,fluxmx2_20,label='$m_\\chi=$' +str(mx2)+' MeV')\n",
    "plt.plot(yrls,fluxmx3_20,label='$m_\\chi=$' +str(mx3)+' MeV')\n",
    "plt.plot(yrls,fluxmx4_20,label='$m_\\chi=$' +str(mx4)+' MeV')\"\"\"\n",
    "plt.xscale('log')\n",
    "plt.yscale('log')\n",
    "plt.xlabel('yr')\n",
    "plt.ylabel(r'$d\\Phi_{B\\chi}/dT_\\chi~[{\\rm MeV^{-1}\\,cm^{-2}\\,s^{-1}}]$')\n",
    "plt.title(r'$T_\\chi =$'+str(Tx1)+' MeV')\n",
    "plt.legend(loc='best')\n",
    "plt.ylim(1e-21,1e-9)\n",
    "#plt.savefig('time_dependent_flux_20MeV_2.pdf',facecolor='white',bbox_inches='tight')\n",
    "plt.show()"
   ]
  },
  {
   "cell_type": "code",
   "execution_count": 10,
   "metadata": {
    "id": "Ief-OZLpaa5T"
   },
   "outputs": [],
   "source": [
    "def Jacobian_Quad(f,a,b):\n",
    "  ua = np.log(a)\n",
    "  ub = np.log(b)\n",
    "  def s(z):\n",
    "    return f(np.exp(z))*np.exp(z)\n",
    "  return integrate.quad(s,ua,ub)[0]\n",
    "def Get_Theta_Crit(f,a,b):\n",
    "  thetas = np.logspace(np.log10(a),np.log10(b),10)\n",
    "  fs = []\n",
    "  for i in range(len(thetas)):\n",
    "    fs.append(f(thetas[i]))\n",
    "  idx = np.argmax(fs)\n",
    "  return thetas[idx]\n",
    "\n",
    "def bdmflux_new(t,Tx,mx,tau=10,sigxv=1e-45,rho=184,rs=24.42,Lv=Lv,R=8.5,r_cut=0.001):\n",
    "    \"\"\"\n",
    "    Boosted DM flux at Earth, per cm^2 per second\n",
    "    \n",
    "    Input\n",
    "    ------\n",
    "    t: time in second, 0 starts from the arrival of SN neutrino\n",
    "    Tx: DM kinetic energy, in MeV\n",
    "    mx: DM mass, in MeV\n",
    "    tau: the duration of SN explosion, default 10 s\n",
    "    sigxv: DM-neutrino scattering cross section, default 1e-45 cm^2\n",
    "    rho: NFW halo profile characteristic density, default 184 MeV/cm^3\n",
    "    rs: NFW halo profile characteristic length, default 24.42 kpc\n",
    "    Lv: SN neutrino luminosity, default 1e52 erg/s\n",
    "    R: distance between Sun and GC, default 8.5 kpc\n",
    "    r_cut: the inner most galactic region should be considered, default is 0.001 kpc\n",
    "    \n",
    "    Output\n",
    "    ------\n",
    "    BDM flux: in the unit of per cm^2 per second for a given t\n",
    "    \"\"\"\n",
    "    #rf = R/c\n",
    "    #ts = (c*t+R)/R\n",
    "    #rs_in_rf = rs/R\n",
    "    \n",
    "    # find DM velocity\n",
    "    beta = vx(Tx,mx)\n",
    "\n",
    "    def f(theta): \n",
    "        #return test.bdmflux_f(theta,t,R,Tx,mx)\n",
    "        l,r,alpha,flag = Root_Finding(theta,t,beta,R) # solve geometry\n",
    "        \n",
    "        if flag == 'unphysical':\n",
    "            return 0\n",
    "        \n",
    "        # Geometric Terms\n",
    "        geometric_terms = np.sin(theta) *2*np.pi \n",
    "\n",
    "        # Physical terms\n",
    "        physical_terms = sigxv*tau*xemissivity(Tx,mx,alpha,r,rho,rs,Lv)\n",
    "        \n",
    "        physical_terms /= (l-R*np.cos(theta))/r*beta+1\n",
    "        \n",
    "        return geometric_terms*physical_terms\n",
    "    theta_crit = Get_Theta_Crit(f,1e-8,np.pi/2.)\n",
    "    result = Jacobian_Quad(f,theta_crit,np.pi/2)\n",
    "    result += Jacobian_Quad(f,0.1*theta_crit,theta_crit)\n",
    "    result += integrate.quad(f,0.,0.1*theta_crit)[0]\n",
    "\n",
    "    return result*beta*c"
   ]
  },
  {
   "cell_type": "code",
   "execution_count": 10,
   "metadata": {
    "colab": {
     "base_uri": "https://localhost:8080/",
     "height": 139
    },
    "executionInfo": {
     "elapsed": 8582,
     "status": "ok",
     "timestamp": 1638714715711,
     "user": {
      "displayName": "吳文華",
      "photoUrl": "https://lh3.googleusercontent.com/a-/AOh14GgE5_y3ZIKzS6UPSY3sYTw57msrqqDOYtPP_2pNMA=s64",
      "userId": "16457812485485709771"
     },
     "user_tz": -480
    },
    "id": "H4sGoZx1I22K",
    "outputId": "29fa351d-28e1-4bb9-8390-39eedc18062d"
   },
   "outputs": [
    {
     "name": "stderr",
     "output_type": "stream",
     "text": [
      "/tmp/ipykernel_3004/4149479579.py:24: RuntimeWarning: invalid value encountered in double_scalars\n",
      "  alpha = np.arccos((R**2-r**2-l**2)/(2*r*l))\n",
      "/tmp/ipykernel_3004/4149479579.py:24: RuntimeWarning: invalid value encountered in arccos\n",
      "  alpha = np.arccos((R**2-r**2-l**2)/(2*r*l))\n",
      "/tmp/ipykernel_3004/1539276463.py:140: RuntimeWarning: divide by zero encountered in double_scalars\n",
      "  if Tx < 2*mx/np.tan(alpha)**2 and Enu >= 0:\n",
      "/tmp/ipykernel_3004/4149479579.py:24: RuntimeWarning: divide by zero encountered in double_scalars\n",
      "  alpha = np.arccos((R**2-r**2-l**2)/(2*r*l))\n",
      "/tmp/ipykernel_3004/3215743845.py:22: RuntimeWarning: overflow encountered in exp\n",
      "  return (1/18.9686)*(1/Tv**3)*(Ev**2/(np.exp(Ev/Tv - 3)+1))\n"
     ]
    },
    {
     "data": {
      "text/plain": [
       "'fluxmx2_20=[]\\nfor y in yrls:\\n    fluxmx2_20.append(bdmflux(y*yr,Tx1,mx2,r_cut=0.001))\\n    \\nfluxmx3_20=[]\\nfor y in yrls:\\n    fluxmx3_20.append(bdmflux(y*yr,Tx1,mx3,r_cut=0.001))\\n\\nfluxmx4_20=[]\\nfor y in yrls:\\n    fluxmx4_20.append(bdmflux(y*yr,Tx1,mx4,r_cut=0.001))'"
      ]
     },
     "execution_count": 10,
     "metadata": {},
     "output_type": "execute_result"
    }
   ],
   "source": [
    "# All in MeV\n",
    "mx1 = 0.001\n",
    "mx2 = 0.01\n",
    "mx3 = 0.1\n",
    "mx4 = 1\n",
    "Tx1 = 5\n",
    "#Tx2 = 50\n",
    "# years\n",
    "yrls=np.logspace(-6,3,1000)\n",
    "\n",
    "fluxmx1_20=[]\n",
    "for y in yrls:\n",
    "    fluxmx1_20.append(bdmflux(y*yr,Tx1,mx1,r_cut=0.00))\n",
    "\n",
    "\"\"\"fluxmx2_20=[]\n",
    "for y in yrls:\n",
    "    fluxmx2_20.append(bdmflux(y*yr,Tx1,mx2,r_cut=0.001))\n",
    "    \n",
    "fluxmx3_20=[]\n",
    "for y in yrls:\n",
    "    fluxmx3_20.append(bdmflux(y*yr,Tx1,mx3,r_cut=0.001))\n",
    "\n",
    "fluxmx4_20=[]\n",
    "for y in yrls:\n",
    "    fluxmx4_20.append(bdmflux(y*yr,Tx1,mx4,r_cut=0.001))\"\"\""
   ]
  },
  {
   "cell_type": "code",
   "execution_count": 14,
   "metadata": {
    "colab": {
     "base_uri": "https://localhost:8080/",
     "height": 300
    },
    "executionInfo": {
     "elapsed": 991,
     "status": "ok",
     "timestamp": 1638261642522,
     "user": {
      "displayName": "吳文華",
      "photoUrl": "https://lh3.googleusercontent.com/a-/AOh14GgE5_y3ZIKzS6UPSY3sYTw57msrqqDOYtPP_2pNMA=s64",
      "userId": "16457812485485709771"
     },
     "user_tz": -480
    },
    "id": "OOXMongfayiS",
    "outputId": "0114771f-8bbd-4774-e75e-03ba06ced1a1"
   },
   "outputs": [
    {
     "data": {
      "image/png": "[encoded data removed]",
      "text/plain": [
       "<Figure size 432x288 with 1 Axes>"
      ]
     },
     "metadata": {
      "needs_background": "light"
     },
     "output_type": "display_data"
    }
   ],
   "source": [
    "plt.plot(yrls,fluxmx1_20,label='$m_\\chi=$'+str(mx1)+' MeV')\n",
    "plt.plot(yrls,fluxmx2_20,label='$m_\\chi=$' +str(mx2)+' MeV')\n",
    "plt.plot(yrls,fluxmx3_20,label='$m_\\chi=$' +str(mx3)+' MeV')\n",
    "plt.plot(yrls,fluxmx4_20,label='$m_\\chi=$' +str(mx4)+' MeV')\n",
    "plt.xscale('log')\n",
    "plt.yscale('log')\n",
    "plt.xlabel('yr')\n",
    "plt.ylabel(r'$d\\Phi_{B\\chi}/dT_\\chi~[{\\rm MeV^{-1}\\,cm^{-2}\\,s^{-1}}]$')\n",
    "plt.title(r'$T_\\chi =$'+str(Tx1)+' MeV')\n",
    "plt.legend(loc='best')\n",
    "plt.ylim(1e-21,1e-9)\n",
    "#plt.savefig('time_dependent_flux_20MeV_2.pdf',facecolor='white',bbox_inches='tight')\n",
    "plt.show()"
   ]
  },
  {
   "cell_type": "code",
   "execution_count": 13,
   "metadata": {
    "colab": {
     "base_uri": "https://localhost:8080/"
    },
    "executionInfo": {
     "elapsed": 25690,
     "status": "ok",
     "timestamp": 1638261639528,
     "user": {
      "displayName": "吳文華",
      "photoUrl": "https://lh3.googleusercontent.com/a-/AOh14GgE5_y3ZIKzS6UPSY3sYTw57msrqqDOYtPP_2pNMA=s64",
      "userId": "16457812485485709771"
     },
     "user_tz": -480
    },
    "id": "MIEvULzvaxrj",
    "outputId": "6d6b7662-54c1-4a2e-bad3-4d7ae8b393cf"
   },
   "outputs": [
    {
     "name": "stderr",
     "output_type": "stream",
     "text": [
      "/tmp/ipykernel_5033/4149479579.py:24: RuntimeWarning: invalid value encountered in double_scalars\n",
      "  alpha = np.arccos((R**2-r**2-l**2)/(2*r*l))\n",
      "/tmp/ipykernel_5033/4149479579.py:24: RuntimeWarning: invalid value encountered in arccos\n",
      "  alpha = np.arccos((R**2-r**2-l**2)/(2*r*l))\n",
      "/tmp/ipykernel_5033/1539276463.py:140: RuntimeWarning: divide by zero encountered in double_scalars\n",
      "  if Tx < 2*mx/np.tan(alpha)**2 and Enu >= 0:\n",
      "/tmp/ipykernel_5033/4149479579.py:24: RuntimeWarning: divide by zero encountered in double_scalars\n",
      "  alpha = np.arccos((R**2-r**2-l**2)/(2*r*l))\n",
      "/tmp/ipykernel_5033/3215743845.py:22: RuntimeWarning: overflow encountered in exp\n",
      "  return (1/18.9686)*(1/Tv**3)*(Ev**2/(np.exp(Ev/Tv - 3)+1))\n"
     ]
    }
   ],
   "source": [
    "# All in MeV\n",
    "mx1 = 0.001\n",
    "mx2 = 0.01\n",
    "mx3 = 0.1\n",
    "mx4 = 1\n",
    "Tx1 = 5\n",
    "#Tx2 = 50\n",
    "# years\n",
    "yrls=np.logspace(-6,3,1000)\n",
    "\n",
    "fluxmx1_20=[]\n",
    "for y in yrls:\n",
    "    fluxmx1_20.append(bdmflux_new(y*yr,Tx1,mx1,r_cut=0.01))\n",
    "\n",
    "fluxmx2_20=[]\n",
    "for y in yrls:\n",
    "    fluxmx2_20.append(bdmflux_new(y*yr,Tx1,mx2,r_cut=0.01))\n",
    "    \n",
    "fluxmx3_20=[]\n",
    "for y in yrls:\n",
    "    fluxmx3_20.append(bdmflux_new(y*yr,Tx1,mx3,r_cut=0.01))\n",
    "\n",
    "fluxmx4_20=[]\n",
    "for y in yrls:\n",
    "    fluxmx4_20.append(bdmflux_new(y*yr,Tx1,mx4,r_cut=0.01))"
   ]
  },
  {
   "cell_type": "code",
   "execution_count": 11,
   "metadata": {},
   "outputs": [],
   "source": [
    "def Vegas_Jacobian_Integration(f,a,b):\n",
    "    ua = np.log(a)\n",
    "    ub = np.log(b)\n",
    "    def g(z):\n",
    "        return f([np.exp(z[0])])*np.exp(z[0])\n",
    "    integ = vegas.Integrator([[ua, ub]])\n",
    "    result = integ(g, nitn=1, neval=500)\n",
    "    return result.mean\n",
    "\n",
    "def bdmflux_vegas(t,Tx,mx,tau=10,sigxv=1e-45,rho=184,rs=24.42,Lv=Lv,R=8.5,r_cut=0.001):\n",
    "    \"\"\"\n",
    "    Boosted DM flux at Earth, per cm^2 per second\n",
    "    \n",
    "    Input\n",
    "    ------\n",
    "    t: time in second, 0 starts from the arrival of SN neutrino\n",
    "    Tx: DM kinetic energy, in MeV\n",
    "    mx: DM mass, in MeV\n",
    "    tau: the duration of SN explosion, default 10 s\n",
    "    sigxv: DM-neutrino scattering cross section, default 1e-45 cm^2\n",
    "    rho: NFW halo profile characteristic density, default 184 MeV/cm^3\n",
    "    rs: NFW halo profile characteristic length, default 24.42 kpc\n",
    "    Lv: SN neutrino luminosity, default 1e52 erg/s\n",
    "    R: distance between Sun and GC, default 8.5 kpc\n",
    "    r_cut: the inner most galactic region should be considered, default is 0.001 kpc\n",
    "    \n",
    "    Output\n",
    "    ------\n",
    "    BDM flux: in the unit of per cm^2 per second for a given t\n",
    "    \"\"\"\n",
    "    #rf = R/c\n",
    "    #ts = (c*t+R)/R\n",
    "    #rs_in_rf = rs/R\n",
    "    \n",
    "    # find DM velocity\n",
    "    beta = vx(Tx,mx)\n",
    "\n",
    "    def f(theta): \n",
    "        #return test.bdmflux_f(theta,t,R,Tx,mx)\n",
    "        l,r,alpha,flag = Root_Finding(theta[0],t,beta,R) # solve geometry\n",
    "        \n",
    "        if flag == 'unphysical':\n",
    "            return 0\n",
    "        \n",
    "        # Geometric Terms\n",
    "        geometric_terms = np.sin(theta[0]) *2*np.pi \n",
    "\n",
    "        # Physical terms\n",
    "        physical_terms = sigxv*tau*xemissivity(Tx,mx,alpha,r,rho,rs,Lv)\n",
    "        \n",
    "        physical_terms /= (l-R*np.cos(theta[0]))/r*beta+1\n",
    "        \n",
    "        return geometric_terms*physical_terms\n",
    "    def Get_Theta_Crit_Vegas(f,a,b):\n",
    "        thetas = np.logspace(np.log10(a),np.log10(b),10)\n",
    "        fs = []\n",
    "        for i in range(len(thetas)):\n",
    "            fs.append(f([thetas[i]]))\n",
    "        idx = np.argmax(fs)\n",
    "        return thetas[idx]\n",
    "    theta_crit = Get_Theta_Crit_Vegas(f,1e-8,np.pi/2.)\n",
    "    \n",
    "    \"\"\"integ1 = vegas.Integrator([[theta_crit, np.pi/2.]])\n",
    "    result1 = integ1(f, nitn=1, neval=1000)\n",
    "    \n",
    "    integ2 = vegas.Integrator([[1e-8, theta_crit]])\n",
    "    result2 = integ2(f, nitn=2, neval=100)\n",
    "    #print(result.mean)\"\"\"\n",
    "    \n",
    "    result = Vegas_Jacobian_Integration(f,1e-8, np.pi/2.)\n",
    "    #result += Vegas_Jacobian_Integration(f,1e-8, theta_crit)\n",
    "    return result*beta*c\n",
    "    #print(result.summary())\n",
    "    #print('result = %s    Q = %.2f' % (result, result.Q))\n",
    "    \"\"\"result = Jacobian_Quad(f,theta_crit,np.pi/2)\n",
    "    result += Jacobian_Quad(f,0.1*theta_crit,theta_crit)\n",
    "    result += integrate.quad(f,0.,0.1*theta_crit)[0]\"\"\"\n",
    "\n",
    "    return result*beta*c"
   ]
  },
  {
   "cell_type": "code",
   "execution_count": 12,
   "metadata": {},
   "outputs": [
    {
     "name": "stderr",
     "output_type": "stream",
     "text": [
      "/tmp/ipykernel_2576/4149479579.py:24: RuntimeWarning: invalid value encountered in double_scalars\n",
      "  alpha = np.arccos((R**2-r**2-l**2)/(2*r*l))\n",
      "/tmp/ipykernel_2576/4149479579.py:24: RuntimeWarning: invalid value encountered in arccos\n",
      "  alpha = np.arccos((R**2-r**2-l**2)/(2*r*l))\n",
      "/tmp/ipykernel_2576/3215743845.py:22: RuntimeWarning: overflow encountered in exp\n",
      "  return (1/18.9686)*(1/Tv**3)*(Ev**2/(np.exp(Ev/Tv - 3)+1))\n",
      "/tmp/ipykernel_2576/1539276463.py:140: RuntimeWarning: divide by zero encountered in double_scalars\n",
      "  if Tx < 2*mx/np.tan(alpha)**2 and Enu >= 0:\n",
      "/tmp/ipykernel_2576/4149479579.py:24: RuntimeWarning: divide by zero encountered in double_scalars\n",
      "  alpha = np.arccos((R**2-r**2-l**2)/(2*r*l))\n"
     ]
    }
   ],
   "source": [
    "# All in MeV\n",
    "mx1 = 0.001\n",
    "mx2 = 0.01\n",
    "mx3 = 0.1\n",
    "mx4 = 1\n",
    "Tx1 = 5\n",
    "#Tx2 = 50\n",
    "# years\n",
    "yrls=np.logspace(-6,3,1000)\n",
    "\n",
    "fluxmx1_20=[]\n",
    "for y in yrls:\n",
    "    fluxmx1_20.append(bdmflux_vegas(y*yr,Tx1,mx1,r_cut=0.01))\n",
    "\n",
    "fluxmx2_20=[]\n",
    "for y in yrls:\n",
    "    fluxmx2_20.append(bdmflux_vegas(y*yr,Tx1,mx2,r_cut=0.01))\n",
    "    \n",
    "fluxmx3_20=[]\n",
    "for y in yrls:\n",
    "    fluxmx3_20.append(bdmflux_vegas(y*yr,Tx1,mx3,r_cut=0.01))\n",
    "\n",
    "fluxmx4_20=[]\n",
    "for y in yrls:\n",
    "    fluxmx4_20.append(bdmflux_vegas(y*yr,Tx1,mx4,r_cut=0.01))"
   ]
  },
  {
   "cell_type": "code",
   "execution_count": 13,
   "metadata": {},
   "outputs": [
    {
     "data": {
      "image/png": "[encoded data removed]",
      "text/plain": [
       "<Figure size 432x288 with 1 Axes>"
      ]
     },
     "metadata": {
      "needs_background": "light"
     },
     "output_type": "display_data"
    }
   ],
   "source": [
    "plt.plot(yrls,fluxmx1_20,label='$m_\\chi=$'+str(mx1)+' MeV')\n",
    "plt.plot(yrls,fluxmx2_20,label='$m_\\chi=$' +str(mx2)+' MeV')\n",
    "plt.plot(yrls,fluxmx3_20,label='$m_\\chi=$' +str(mx3)+' MeV')\n",
    "plt.plot(yrls,fluxmx4_20,label='$m_\\chi=$' +str(mx4)+' MeV')\n",
    "plt.xscale('log')\n",
    "plt.yscale('log')\n",
    "plt.xlabel('yr')\n",
    "plt.ylabel(r'$d\\Phi_{B\\chi}/dT_\\chi~[{\\rm MeV^{-1}\\,cm^{-2}\\,s^{-1}}]$')\n",
    "plt.title(r'$T_\\chi =$'+str(Tx1)+' MeV')\n",
    "plt.legend(loc='best')\n",
    "plt.ylim(1e-21,1e-9)\n",
    "#plt.savefig('time_dependent_flux_20MeV_2.pdf',facecolor='white',bbox_inches='tight')\n",
    "plt.show()"
   ]
  },
  {
   "cell_type": "code",
   "execution_count": 21,
   "metadata": {
    "id": "1_z8shhTKOcW"
   },
   "outputs": [],
   "source": [
    "def Jacobian_Method(func,a,b,n):\n",
    "  \n",
    "  def gp(z):\n",
    "    return func(np.exp(z))\n",
    "  def Jacobian_Simpson_Method(func,a,b,n):\n",
    "    dx = (b-a)/n\n",
    "    sum = 0\n",
    "    for i in range(n):\n",
    "      sum += (func(a+i*dx) + 4*func(a+(i+1/2)*dx) + func(a+(i+1)*dx))/6*dx *np.exp(a+(i+1/2)*dx)\n",
    "    return sum\n",
    "  sum = Jacobian_Simpson_Method(gp,np.log(a),np.log(b),n)\n",
    "  return sum\n",
    "def Jacobian_dblQuad(f,a,b,c,d):\n",
    "  ua = np.log(a)\n",
    "  ub = np.log(b)\n",
    "  uc = np.log(c)\n",
    "  ud = np.log(d)\n",
    "  def s(u,v):\n",
    "    return f(np.exp(u),np.exp(v))*np.exp(u)*np.exp(v)\n",
    "  return integrate.dblquad(s, uc, ud, lambda x: ua, lambda x: ub)[0]\n",
    "def Special_dblQuad(f,theta1,theta2,t1,t2):\n",
    "  utheta1 = np.log(theta1)\n",
    "  utheta2 = np.log(theta2)\n",
    "  ut1 = np.log(t1)\n",
    "  ut2 = np.log(t2)\n",
    "  \n",
    "  def s(u,v):\n",
    "    return f(np.exp(u),np.exp(v))*np.exp(u)*np.exp(v)\n",
    "  def Get_Theta_at_T(ut):\n",
    "    t = np.exp(ut)\n",
    "    thetas = np.logspace(-8,np.log10(np.pi/2.),10)\n",
    "    fs = []\n",
    "    for i in range(len(thetas)):\n",
    "      fs.append(f(thetas[i],t))\n",
    "    idx = np.argmax(fs)\n",
    "    return np.log(thetas[idx])\n",
    "  \n",
    "  result = integrate.dblquad(s, ut1, ut2, lambda ut: Get_Theta_at_T(ut), lambda ut: utheta2)[0]\n",
    "  result += integrate.dblquad(s, ut1, ut2, lambda ut: Get_Theta_at_T(ut)-np.log(10), lambda ut: Get_Theta_at_T(ut))[0]\n",
    "  result += integrate.dblquad(f, t1, t2, lambda ut: 0., lambda ut: np.exp(Get_Theta_at_T(ut)-np.log(10)))[0]\n",
    "  return result\n",
    "def Vegas_Jacobian_dblIntegration(f,a,b,c,d):\n",
    "    ua = np.log(a)\n",
    "    ub = np.log(b)\n",
    "    uc = np.log(c)\n",
    "    ud = np.log(d)\n",
    "    def g(z):\n",
    "        return f([np.exp(z[0]),np.exp(z[1])])*np.exp(z[0])*np.exp(z[1])\n",
    "    integ = vegas.Integrator([[ua, ub],[uc, ud]])\n",
    "    result = integ(g, nitn=1, neval=1000)\n",
    "    return result.mean\n",
    "def Accumulated_bdmnumber(Tx,mx,tau=10,sigxv=1e-45,rho=184,rs=24.42,Lv=Lv,R=8.5,r_cut=0.001):\n",
    "    def f(t):\n",
    "        return bdmflux(t,Tx,mx,tau,sigxv,rho,rs,Lv,R,r_cut)\n",
    "    vdm = vx(Tx,mx)\n",
    "    tv = R*kpc2cm/c\n",
    "    t_crit =  tv*(1/vdm-1)\n",
    "    tmax = np.min([t_crit*10**(1-np.log10(mx)),30*yr])\n",
    "    return integrate.quad(f,0,tmax)[0]\n",
    "\n",
    "\n",
    "def Accumulated_bdmnumber_new(Tx,mx,sigxv=1e-45,tau=10,rho=184,rs=24.42,Lv=Lv,R=8.5,r_cut=0.001):\n",
    "    \n",
    "    beta = vx(Tx,mx)\n",
    "    tv = R*kpc2cm/c\n",
    "    t_crit =  tv*(1/beta-1)\n",
    "    tmax = t_crit*10**(1-np.log10(mx))\n",
    "    def f(theta,t): \n",
    "        #return test.bdmflux_f(theta,t,R,Tx,mx)\n",
    "        l,r,alpha,flag = Root_Finding(theta,t,beta,R) # solve geometry\n",
    "        \n",
    "        if flag == 'unphysical':\n",
    "            return 0\n",
    "        \n",
    "        # Geometric Terms\n",
    "        geometric_terms = np.sin(theta) *2*np.pi \n",
    "\n",
    "        # Physical terms\n",
    "        physical_terms = sigxv*tau*xemissivity(Tx,mx,alpha,r,rho,rs,Lv)\n",
    "        \n",
    "        physical_terms /= (l-R*np.cos(theta))/r*beta+1\n",
    "        \n",
    "        return geometric_terms*physical_terms\n",
    "    #return (Jacobian_dblQuad(f,1e-8,np.pi/2.,t_crit*1e-3,tmax))*beta*c\n",
    "    return (Special_dblQuad(f,1e-8,np.pi/2.,t_crit*1e-3,tmax))*beta*c\n",
    "\n",
    "def Accumulated_bdmnumber_vegas(Tx,mx,sigxv=1e-45,tau=10,rho=184,rs=24.42,Lv=Lv,R=8.5,r_cut=0.001):\n",
    "    \n",
    "    beta = vx(Tx,mx)\n",
    "    tv = R*kpc2cm/c\n",
    "    t_crit =  tv*(1/beta-1)\n",
    "    tmax = t_crit*10**(1-np.log10(mx))\n",
    "    def f(para):\n",
    "        theta = para[0]\n",
    "        t     = para[1]\n",
    "        #return test.bdmflux_f(theta,t,R,Tx,mx)\n",
    "        l,r,alpha,flag = Root_Finding(theta,t,beta,R) # solve geometry\n",
    "        \n",
    "        if flag == 'unphysical':\n",
    "            return 0\n",
    "        \n",
    "        # Geometric Terms\n",
    "        geometric_terms = np.sin(theta) *2*np.pi \n",
    "\n",
    "        # Physical terms\n",
    "        physical_terms = sigxv*tau*xemissivity(Tx,mx,alpha,r,rho,rs,Lv)\n",
    "        \n",
    "        physical_terms /= (l-R*np.cos(theta))/r*beta+1\n",
    "        \n",
    "        return geometric_terms*physical_terms\n",
    "    \n",
    "    result = Vegas_Jacobian_dblIntegration(f,1e-2,np.pi/2.,t_crit*1e-3,tmax)\n",
    "    result += Vegas_Jacobian_dblIntegration(f,1e-4,1e-2,t_crit*1e-3,tmax)\n",
    "    result += Vegas_Jacobian_dblIntegration(f,1e-5,1e-4,t_crit*1e-3,tmax)\n",
    "    result += Vegas_Jacobian_dblIntegration(f,1e-6,1e-5,t_crit*1e-3,tmax)\n",
    "    result += Vegas_Jacobian_dblIntegration(f,1e-7,1e-6,t_crit*1e-3,tmax)\n",
    "    result += Vegas_Jacobian_dblIntegration(f,1e-8,1e-7,t_crit*1e-3,tmax)\n",
    "    result += Vegas_Jacobian_dblIntegration(f,1e-9,1e-8,t_crit*1e-3,tmax)\n",
    "    result += Vegas_Jacobian_dblIntegration(f,1e-10,1e-9,t_crit*1e-3,tmax)\n",
    "    return result*beta*c\n",
    "\n",
    "    \"\"\"def Get_Theta_Crit_Vegas(f,a,b):\n",
    "        thetas = np.logspace(np.log10(a),np.log10(b),10)\n",
    "        fs = []\n",
    "        for i in range(len(thetas)):\n",
    "            fs.append(f([thetas[i]]))\n",
    "        idx = np.argmax(fs)\n",
    "        return thetas[idx]\n",
    "    theta_crit = Get_Theta_Crit_Vegas(f,1e-8,np.pi/2.)\n",
    "    \n",
    "    \n",
    "    result = Vegas_Jacobian_Integration(f,theta_crit, np.pi/2.)\n",
    "    result += Vegas_Jacobian_Integration(f,1e-8, theta_crit)\n",
    "    return result*beta*c\"\"\"\n"
   ]
  },
  {
   "cell_type": "code",
   "execution_count": 22,
   "metadata": {
    "colab": {
     "base_uri": "https://localhost:8080/",
     "height": 473
    },
    "executionInfo": {
     "elapsed": 9965,
     "status": "ok",
     "timestamp": 1638261198628,
     "user": {
      "displayName": "吳文華",
      "photoUrl": "https://lh3.googleusercontent.com/a-/AOh14GgE5_y3ZIKzS6UPSY3sYTw57msrqqDOYtPP_2pNMA=s64",
      "userId": "16457812485485709771"
     },
     "user_tz": -480
    },
    "id": "YrIPM78TKEPm",
    "outputId": "29ec42eb-b3c8-4683-ac99-1b7e69d180f0"
   },
   "outputs": [
    {
     "name": "stderr",
     "output_type": "stream",
     "text": [
      "/tmp/ipykernel_2576/4149479579.py:24: RuntimeWarning: invalid value encountered in double_scalars\n",
      "  alpha = np.arccos((R**2-r**2-l**2)/(2*r*l))\n",
      "/tmp/ipykernel_2576/3215743845.py:22: RuntimeWarning: overflow encountered in exp\n",
      "  return (1/18.9686)*(1/Tv**3)*(Ev**2/(np.exp(Ev/Tv - 3)+1))\n",
      "/tmp/ipykernel_2576/4149479579.py:24: RuntimeWarning: invalid value encountered in arccos\n",
      "  alpha = np.arccos((R**2-r**2-l**2)/(2*r*l))\n",
      "/tmp/ipykernel_2576/1539276463.py:140: RuntimeWarning: divide by zero encountered in double_scalars\n",
      "  if Tx < 2*mx/np.tan(alpha)**2 and Enu >= 0:\n",
      "/tmp/ipykernel_2576/4149479579.py:24: RuntimeWarning: divide by zero encountered in double_scalars\n",
      "  alpha = np.arccos((R**2-r**2-l**2)/(2*r*l))\n",
      "/tmp/ipykernel_2576/4149479579.py:23: RuntimeWarning: invalid value encountered in sqrt\n",
      "  r = np.sqrt(l**2 + R**2 - 2*l*R*cos)\n",
      "/tmp/ipykernel_2576/4149479579.py:22: RuntimeWarning: invalid value encountered in sqrt\n",
      "  l = (-2*zeta*vx+2*cos*R*vx**2 + np.sqrt(vx**2*(2*zeta-2*cos*R*vx)**2 + 4*(-R**2+zeta**2)*vx**2*(-1+vx**2)))/(2*(-1+vx**2))\n"
     ]
    },
    {
     "data": {
      "image/png": "[encoded data removed]",
      "text/plain": [
       "<Figure size 432x288 with 1 Axes>"
      ]
     },
     "metadata": {
      "needs_background": "light"
     },
     "output_type": "display_data"
    },
    {
     "ename": "IndexError",
     "evalue": "list index out of range",
     "output_type": "error",
     "traceback": [
      "\u001b[0;31m---------------------------------------------------------------------------\u001b[0m",
      "\u001b[0;31mIndexError\u001b[0m                                Traceback (most recent call last)",
      "\u001b[0;32m/tmp/ipykernel_2576/3255354778.py\u001b[0m in \u001b[0;36m<module>\u001b[0;34m\u001b[0m\n\u001b[1;32m     18\u001b[0m \u001b[0mplt\u001b[0m\u001b[0;34m.\u001b[0m\u001b[0mylabel\u001b[0m\u001b[0;34m(\u001b[0m\u001b[0;34mr'$Accumulated BDM Number$'\u001b[0m\u001b[0;34m)\u001b[0m\u001b[0;34m\u001b[0m\u001b[0;34m\u001b[0m\u001b[0m\n\u001b[1;32m     19\u001b[0m \u001b[0mplt\u001b[0m\u001b[0;34m.\u001b[0m\u001b[0mshow\u001b[0m\u001b[0;34m(\u001b[0m\u001b[0;34m)\u001b[0m\u001b[0;34m\u001b[0m\u001b[0;34m\u001b[0m\u001b[0m\n\u001b[0;32m---> 20\u001b[0;31m \u001b[0mprint\u001b[0m\u001b[0;34m(\u001b[0m\u001b[0mAccumulated_BDMflux_new\u001b[0m\u001b[0;34m[\u001b[0m\u001b[0;36m0\u001b[0m\u001b[0;34m]\u001b[0m\u001b[0;34m/\u001b[0m\u001b[0mAccumulated_BDMflux_vegas\u001b[0m\u001b[0;34m[\u001b[0m\u001b[0;36m0\u001b[0m\u001b[0;34m]\u001b[0m\u001b[0;34m)\u001b[0m\u001b[0;34m\u001b[0m\u001b[0;34m\u001b[0m\u001b[0m\n\u001b[0m",
      "\u001b[0;31mIndexError\u001b[0m: list index out of range"
     ]
    }
   ],
   "source": [
    "\n",
    "Accumulated_BDMflux_new = []\n",
    "Accumulated_BDMflux_vegas = []\n",
    "\n",
    "mx=np.logspace(-4,0,20)\n",
    "Tx = 5\n",
    "for i in range(len(mx)):\n",
    "    #Accumulated_BDMflux_new.append(Accumulated_bdmnumber_new(Tx,mx[i]))\n",
    "    Accumulated_BDMflux_vegas.append(Accumulated_bdmnumber_vegas(Tx,mx[i]))\n",
    "    \n",
    "#plt.plot(mx,Accumulated_BDMflux_new,color='royalblue',label='$quad integration$')\n",
    "plt.plot(mx,Accumulated_BDMflux_vegas,color='red',label='$vegas integration$')\n",
    "plt.xscale('log')\n",
    "plt.yscale('log')\n",
    "plt.legend(loc='best')\n",
    "plt.title(r'$T_\\chi =$'+str(Tx)+' MeV')\n",
    "#plt.ylim(1e-19,1e-7)\n",
    "plt.xlabel('mx(MeV)')\n",
    "plt.ylabel(r'$Accumulated BDM Number$')\n",
    "plt.show()\n",
    "print(Accumulated_BDMflux_new[0]/Accumulated_BDMflux_vegas[0])"
   ]
  },
  {
   "cell_type": "code",
   "execution_count": 23,
   "metadata": {
    "colab": {
     "base_uri": "https://localhost:8080/",
     "height": 1000
    },
    "executionInfo": {
     "elapsed": 21015,
     "status": "ok",
     "timestamp": 1638261235617,
     "user": {
      "displayName": "吳文華",
      "photoUrl": "https://lh3.googleusercontent.com/a-/AOh14GgE5_y3ZIKzS6UPSY3sYTw57msrqqDOYtPP_2pNMA=s64",
      "userId": "16457812485485709771"
     },
     "user_tz": -480
    },
    "id": "KFVK3SXjRKdb",
    "outputId": "a7b07a44-d283-4cbb-f19f-0616169f0638"
   },
   "outputs": [
    {
     "name": "stderr",
     "output_type": "stream",
     "text": [
      "/tmp/ipykernel_2576/4149479579.py:24: RuntimeWarning: invalid value encountered in arccos\n",
      "  alpha = np.arccos((R**2-r**2-l**2)/(2*r*l))\n",
      "/tmp/ipykernel_2576/1539276463.py:140: RuntimeWarning: divide by zero encountered in double_scalars\n",
      "  if Tx < 2*mx/np.tan(alpha)**2 and Enu >= 0:\n",
      "/tmp/ipykernel_2576/119579433.py:30: RuntimeWarning: overflow encountered in exp\n",
      "  t = np.exp(ut)\n",
      "/tmp/ipykernel_2576/4149479579.py:22: RuntimeWarning: invalid value encountered in double_scalars\n",
      "  l = (-2*zeta*vx+2*cos*R*vx**2 + np.sqrt(vx**2*(2*zeta-2*cos*R*vx)**2 + 4*(-R**2+zeta**2)*vx**2*(-1+vx**2)))/(2*(-1+vx**2))\n",
      "/tmp/ipykernel_2576/4149479579.py:24: RuntimeWarning: divide by zero encountered in double_scalars\n",
      "  alpha = np.arccos((R**2-r**2-l**2)/(2*r*l))\n",
      "/tmp/ipykernel_2576/4149479579.py:23: RuntimeWarning: invalid value encountered in sqrt\n",
      "  r = np.sqrt(l**2 + R**2 - 2*l*R*cos)\n",
      "/tmp/ipykernel_2576/4149479579.py:24: RuntimeWarning: invalid value encountered in double_scalars\n",
      "  alpha = np.arccos((R**2-r**2-l**2)/(2*r*l))\n"
     ]
    },
    {
     "name": "stdout",
     "output_type": "stream",
     "text": [
      "0\n"
     ]
    },
    {
     "name": "stderr",
     "output_type": "stream",
     "text": [
      "/tmp/ipykernel_2576/3215743845.py:22: RuntimeWarning: overflow encountered in exp\n",
      "  return (1/18.9686)*(1/Tv**3)*(Ev**2/(np.exp(Ev/Tv - 3)+1))\n"
     ]
    },
    {
     "name": "stdout",
     "output_type": "stream",
     "text": [
      "1\n",
      "2\n",
      "3\n",
      "4\n",
      "5\n",
      "6\n",
      "7\n",
      "8\n",
      "9\n",
      "10\n",
      "11\n",
      "12\n",
      "13\n",
      "14\n",
      "15\n",
      "16\n",
      "17\n",
      "18\n",
      "19\n",
      "20\n",
      "21\n",
      "22\n",
      "23\n",
      "24\n",
      "25\n"
     ]
    },
    {
     "name": "stderr",
     "output_type": "stream",
     "text": [
      "/tmp/ipykernel_2576/4149479579.py:22: RuntimeWarning: invalid value encountered in sqrt\n",
      "  l = (-2*zeta*vx+2*cos*R*vx**2 + np.sqrt(vx**2*(2*zeta-2*cos*R*vx)**2 + 4*(-R**2+zeta**2)*vx**2*(-1+vx**2)))/(2*(-1+vx**2))\n"
     ]
    },
    {
     "name": "stdout",
     "output_type": "stream",
     "text": [
      "26\n",
      "27\n",
      "28\n",
      "29\n",
      "30\n",
      "31\n",
      "32\n",
      "33\n",
      "34\n",
      "35\n",
      "36\n",
      "37\n",
      "38\n",
      "39\n",
      "40\n",
      "41\n",
      "42\n",
      "43\n",
      "44\n",
      "45\n",
      "46\n",
      "47\n",
      "48\n",
      "49\n"
     ]
    },
    {
     "data": {
      "image/png": "[encoded data removed]",
      "text/plain": [
       "<Figure size 432x288 with 1 Axes>"
      ]
     },
     "metadata": {
      "needs_background": "light"
     },
     "output_type": "display_data"
    }
   ],
   "source": [
    "Accumulated_BDMflux = []\n",
    "Accumulated_BDMflux_vegas = []\n",
    "\n",
    "Tx=np.linspace(1,60,50)\n",
    "mx = 1e-3\n",
    "\n",
    "for i in range(len(Tx)):\n",
    "  Accumulated_BDMflux.append(Accumulated_bdmnumber_new(Tx[i],mx))\n",
    "  Accumulated_BDMflux_vegas.append(Accumulated_bdmnumber_vegas(Tx[i],mx))\n",
    "  print(i)\n",
    "plt.plot(Tx,Accumulated_BDMflux,color='royalblue',label='$original integration$')\n",
    "plt.plot(Tx,Accumulated_BDMflux_vegas,color='red',label='$vegas integration$')\n",
    "#plt.xscale('log')\n",
    "#plt.yscale('log')\n",
    "plt.legend(loc='best')\n",
    "plt.title(r'$m_\\chi =$'+str(mx)+' MeV')\n",
    "#plt.ylim(1e-19,1e-7)\n",
    "plt.xlabel('Tx(MeV)')\n",
    "plt.ylabel(r'$Accumulated BDM Number$')\n",
    "plt.show()"
   ]
  },
  {
   "cell_type": "code",
   "execution_count": 35,
   "metadata": {
    "colab": {
     "base_uri": "https://localhost:8080/"
    },
    "executionInfo": {
     "elapsed": 277,
     "status": "ok",
     "timestamp": 1638258678739,
     "user": {
      "displayName": "吳文華",
      "photoUrl": "https://lh3.googleusercontent.com/a-/AOh14GgE5_y3ZIKzS6UPSY3sYTw57msrqqDOYtPP_2pNMA=s64",
      "userId": "16457812485485709771"
     },
     "user_tz": -480
    },
    "id": "yTIb--zR6rkC",
    "outputId": "4c049684-b26e-4a20-d7fc-dc78b243e5ea"
   },
   "outputs": [
    {
     "name": "stdout",
     "output_type": "stream",
     "text": [
      "7.672170385038367e-05\n",
      "7.886816805678196e-05\n"
     ]
    }
   ],
   "source": [
    "print(np.sum(Accumulated_BDMflux))\n",
    "print(np.sum(Accumulated_BDMflux_vegas))\n"
   ]
  },
  {
   "cell_type": "code",
   "execution_count": null,
   "metadata": {
    "colab": {
     "base_uri": "https://localhost:8080/"
    },
    "executionInfo": {
     "elapsed": 59456,
     "status": "ok",
     "timestamp": 1638258758790,
     "user": {
      "displayName": "吳文華",
      "photoUrl": "https://lh3.googleusercontent.com/a-/AOh14GgE5_y3ZIKzS6UPSY3sYTw57msrqqDOYtPP_2pNMA=s64",
      "userId": "16457812485485709771"
     },
     "user_tz": -480
    },
    "id": "tEXlrBQIJ1pW",
    "outputId": "2186012f-f283-40cf-8c3e-246dcb2bf972"
   },
   "outputs": [
    {
     "name": "stderr",
     "output_type": "stream",
     "text": [
      "/usr/local/lib/python3.7/dist-packages/ipykernel_launcher.py:24: RuntimeWarning: invalid value encountered in arccos\n",
      "/usr/local/lib/python3.7/dist-packages/ipykernel_launcher.py:140: RuntimeWarning: divide by zero encountered in double_scalars\n",
      "/usr/local/lib/python3.7/dist-packages/ipykernel_launcher.py:24: RuntimeWarning: invalid value encountered in double_scalars\n",
      "/usr/local/lib/python3.7/dist-packages/ipykernel_launcher.py:24: RuntimeWarning: divide by zero encountered in double_scalars\n"
     ]
    },
    {
     "name": "stdout",
     "output_type": "stream",
     "text": [
      "0\n",
      "1\n"
     ]
    },
    {
     "name": "stderr",
     "output_type": "stream",
     "text": [
      "/usr/local/lib/python3.7/dist-packages/ipykernel_launcher.py:22: RuntimeWarning: overflow encountered in exp\n"
     ]
    },
    {
     "name": "stdout",
     "output_type": "stream",
     "text": [
      "2\n",
      "3\n",
      "4\n",
      "5\n"
     ]
    },
    {
     "name": "stderr",
     "output_type": "stream",
     "text": [
      "/usr/local/lib/python3.7/dist-packages/ipykernel_launcher.py:23: RuntimeWarning: invalid value encountered in sqrt\n"
     ]
    },
    {
     "name": "stdout",
     "output_type": "stream",
     "text": [
      "6\n",
      "7\n",
      "8\n",
      "9\n",
      "10\n",
      "11\n",
      "12\n",
      "13\n",
      "14\n",
      "15\n",
      "16\n",
      "17\n",
      "18\n",
      "19\n",
      "20\n",
      "21\n",
      "22\n",
      "23\n",
      "24\n",
      "25\n",
      "26\n",
      "27\n",
      "28\n",
      "29\n",
      "30\n",
      "31\n",
      "32\n",
      "33\n",
      "34\n",
      "35\n",
      "36\n",
      "37\n",
      "38\n",
      "39\n",
      "40\n",
      "41\n",
      "42\n",
      "43\n",
      "44\n",
      "45\n",
      "46\n",
      "47\n",
      "48\n",
      "49\n",
      "0.00017647604238379014\n",
      "0.00024899825759156684\n"
     ]
    }
   ],
   "source": [
    "def Total_BDM(mx,tau=10,sigxv=1e-45,rho=184,rs=24.42,Lv=Lv,R=8.5,r_cut=0.001):\n",
    "    def f(tx):\n",
    "        return Accumulated_bdmnumber_new(tx,mx)\n",
    "    def Simpson(func,a,b,n):\n",
    "        dx = (b-a)/n\n",
    "        sum = 0.\n",
    "        for i in range(n):\n",
    "            sum += dx/6.*(func(a+i*dx) + 4*func(a+(i+1./2.)*dx) + 4*func(a+(i+1.)*dx))\n",
    "            print(i)\n",
    "        return sum\n",
    "    return Simpson(f,1.,60,50)\n",
    "\n",
    "def Total_BDM_single(mx,tau=10,sigxv=1e-45,rho=184,rs=24.42,Lv=Lv,R=8.5,r_cut=0.001):\n",
    "    def f(tx):\n",
    "        return Accumulated_bdmnumber_single(tx,mx)\n",
    "    def Simpson(func,a,b,n):\n",
    "        dx = (b-a)/n\n",
    "        sum = 0.\n",
    "        for i in range(n):\n",
    "            sum += dx/6.*(func(a+i*dx) + 4*func(a+(i+1./2.)*dx) + 4*func(a+(i+1.)*dx))\n",
    "        return sum\n",
    "    return Simpson(f,1.,60,50)\n",
    "\n",
    "print(Total_BDM(1e-3))\n",
    "print(Total_BDM_single(1e-3))"
   ]
  }
 ],
 "metadata": {
  "colab": {
   "collapsed_sections": [],
   "name": "Vegas_BDMFLUX.ipynb",
   "provenance": [
    {
     "file_id": "1CXkPwmaZZNcpiL9oKaClCmCQzNoYn9H2",
     "timestamp": 1627012422898
    },
    {
     "file_id": "1XsU1-2CMXsOwoHc_TrCTLM1ZXjYzYbf2",
     "timestamp": 1626862248536
    },
    {
     "file_id": "1BIL2hAu8aOseK7iYTL2v2Amem1B84axd",
     "timestamp": 1626858543659
    },
    {
     "file_id": "1j5Z7XfsPpYiXXjndZbagloNMGqJ40vgY",
     "timestamp": 1626856770195
    },
    {
     "file_id": "https://github.com/GoogleCloudPlatform/cloudml-samples/blob/master/notebooks/tensorflow/getting-started-keras.ipynb",
     "timestamp": 1626152550273
    }
   ]
  },
  "kernelspec": {
   "display_name": "Python 3 (ipykernel)",
   "language": "python",
   "name": "python3"
  },
  "language_info": {
   "codemirror_mode": {
    "name": "ipython",
    "version": 3
   },
   "file_extension": ".py",
   "mimetype": "text/x-python",
   "name": "python",
   "nbconvert_exporter": "python",
   "pygments_lexer": "ipython3",
   "version": "3.8.10"
  }
 },
 "nbformat": 4,
 "nbformat_minor": 1
}
