{
 "cells": [
  {
   "cell_type": "code",
   "execution_count": 14,
   "metadata": {
    "executionInfo": {
     "elapsed": 362,
     "status": "ok",
     "timestamp": 1638714761494,
     "user": {
      "displayName": "吳文華",
      "photoUrl": "https://lh3.googleusercontent.com/a-/AOh14GgE5_y3ZIKzS6UPSY3sYTw57msrqqDOYtPP_2pNMA=s64",
      "userId": "16457812485485709771"
     },
     "user_tz": -480
    },
    "id": "_MRCpbP-Hfdf"
   },
   "outputs": [],
   "source": [
    "import numpy as np\n",
    "import math as mt\n",
    "import matplotlib.pyplot as plt\n",
    "import scipy.integrate as integrate\n",
    "import scipy.optimize as opt\n",
    "import vegas"
   ]
  },
  {
   "cell_type": "code",
   "execution_count": 2,
   "metadata": {
    "id": "W9gJdTv7IVAB"
   },
   "outputs": [],
   "source": [
    "# Global constants\n",
    "# light speed, cm\n",
    "c = 3*1e10\n",
    "# kpc to cm\n",
    "kpc2cm = 3.08*1e21\n",
    "# erg to MeV\n",
    "erg2MeV = 624150.913\n",
    "# year in seconds\n",
    "yr = 31536000\n",
    "# Neutrino lumonisity, single specie\n",
    "Lv = 3e52/6"
   ]
  },
  {
   "cell_type": "code",
   "execution_count": 3,
   "metadata": {
    "id": "gipowkm3IYBw"
   },
   "outputs": [],
   "source": [
    "def dnvdEv(r,Ev,Lv=Lv):\n",
    "    \"\"\"\n",
    "    Neutrino number density per energy at r\n",
    "    \n",
    "    Input\n",
    "    ------\n",
    "    Enu: Neutrino energy in MeV\n",
    "    r: Distance to the SN explosion site, in kpc\n",
    "    Lv: Neutrino luminosity, default is 1e52 erg/s, total time is 10 second\n",
    "    \n",
    "    Output\n",
    "    ------\n",
    "    Neutrino flux at r: # per Enu per cm**3 per second\n",
    "    \"\"\"\n",
    "    Lv = Lv*erg2MeV\n",
    "    r = r*kpc2cm\n",
    "    \n",
    "    def _fv(Ev,Tv):\n",
    "        \"\"\"\n",
    "        Fermi-Dirac distribution\n",
    "        \"\"\"\n",
    "        return (1/18.9686)*(1/Tv**3)*(Ev**2/(np.exp(Ev/Tv - 3)+1))\n",
    "    \n",
    "    nue_dist = _fv(Ev,2.76)/11\n",
    "    nueb_dist = _fv(Ev,4.01)/16\n",
    "    # total 4 species for x\n",
    "    nux_dist = _fv(Ev,6.26)/25\n",
    "    \n",
    "    L=Lv/(4*np.pi*r**2*c)\n",
    "    return L*(nue_dist+nueb_dist+4*nux_dist)\n",
    "\n",
    "def nx(r,mx,rho,rs,type='MW_r'):\n",
    "    \"\"\"\n",
    "    DM number density at r\n",
    "    \n",
    "    Input\n",
    "    ------\n",
    "    r: distance to GC, in kpc\n",
    "    mx: DM mass in MeV\n",
    "    rho: characteristic density, default is 184 MeV/cm^3\n",
    "    rs: characteristic length, default is 24.42 kpc\n",
    "    type: density profile type, like NFW or Hernquist profile\n",
    "    \n",
    "    Output\n",
    "    ------\n",
    "    DM number density, #/cm^3 at r\n",
    "    \"\"\"\n",
    "    x = r/rs\n",
    "    rho_num = rho/mx\n",
    "    if type=='MW_r':\n",
    "        return rho_num/(x*(1+x)**2)\n",
    "    elif type=='MW':\n",
    "        return 4488/mx\n",
    "    elif type=='LMC':\n",
    "        if x>15.0:\n",
    "            return 0.\n",
    "        return rho_num/(x*(1+x)**3)"
   ]
  },
  {
   "cell_type": "code",
   "execution_count": 4,
   "metadata": {
    "id": "xWYyFs35IayJ"
   },
   "outputs": [],
   "source": [
    "def gamma(Ev,mx):\n",
    "    \"\"\"\n",
    "    Calculate gamma factor in CM frame\n",
    "    \"\"\"\n",
    "    if np.isnan((Ev + mx)/((mx**2+2*mx*Ev)**0.5)):\n",
    "        print(Ev,mx,mx**2+2*mx*Ev)\n",
    "    return (Ev + mx)/((mx**2+2*mx*Ev)**0.5)\n",
    "def g(Ev,mx,alpha):\n",
    "    \"\"\"\n",
    "    Calculate BDM angular distribution\n",
    "    \n",
    "    Input\n",
    "    ------\n",
    "    Ev: Neutrino energy\n",
    "    mx: DM mass\n",
    "    alpha: lab frame scattering angle in [0,Pi/2]\n",
    "    \n",
    "    Output\n",
    "    ------\n",
    "    g: PDF of scattering angle alpha\n",
    "    \"\"\"\n",
    "    # From Wen-Hua's note\n",
    "    if 0 <= alpha <= np.pi/2 and Ev>0: \n",
    "        gm = gamma(Ev,mx)\n",
    "        sec = 1/np.cos(alpha)\n",
    "        dndOmega = gm**2*sec**3/np.pi/(1+gm**2*np.tan(alpha)**2)**2\n",
    "        return dndOmega\n",
    "    else:\n",
    "        \"\"\"gm = gamma(Ev,mx)\n",
    "        sec = 1/np.cos(alpha)\n",
    "        dndOmega = gm**2*sec**3/np.pi/(1+gm**2*np.tan(alpha)**2)**2\"\"\"\n",
    "        return 0\n",
    "\n",
    "def Tx(Ev,mx,alpha):\n",
    "    \"\"\"\n",
    "    Calculate DM kinetic energy, Eq. (28), and velocity, Eq. (30),\n",
    "    in terms of lab frame scattering angle\n",
    "    \n",
    "    Input\n",
    "    ------\n",
    "    Ev: Neutrino energy\n",
    "    mx: DM mass\n",
    "    alpha: lab frame scattering angle in [0,Pi/2]\n",
    "    \n",
    "    Output\n",
    "    ------\n",
    "    Tx: DM kinetic energy at alpha after scattering\n",
    "    \"\"\"\n",
    "    # gamma factor in CM frame\n",
    "    gm = gamma(Ev,mx)\n",
    "    # CM frame scattering angle\n",
    "    theta_c = 2*np.arctan(gm*np.tan(alpha))\n",
    "    \n",
    "    # Tmax in lab frame\n",
    "    Tmax = Ev**2/(Ev+0.5*mx)\n",
    "    Tchi = 0.5*Tmax*(1+np.cos(theta_c))\n",
    "    return Tchi\n",
    "\n",
    "\n",
    "def Ev(Tx,mx,alpha):\n",
    "    \"\"\"\n",
    "    Calculate the neutrino energy to produce DM kinetic energy at\n",
    "    lab frame scattering angle alpha via analytical expression.\n",
    "    Note that if Ev is negative then it is unphysical\n",
    "    \n",
    "    Input\n",
    "    ------\n",
    "    Tx: DM kinetic energy\n",
    "    mx: DM mass\n",
    "    alpha: scattering angle in lab frame\n",
    "    \n",
    "    Output\n",
    "    Ev: the corresponding neutrino energy\n",
    "    \"\"\"\n",
    "    sec = 1/np.cos(alpha)\n",
    "    enu = (Tx*sec**2 + sec*np.sqrt(Tx*(2*mx + Tx)))/(2 - Tx*np.tan(alpha)**2/mx)\n",
    "    return enu\n",
    "\n",
    "\n",
    "def dEvdTx(Tx,mx,alpha):\n",
    "    \"\"\"\n",
    "    Calculate dEv/dTx via analytical expression. Note that the given\n",
    "    inputs must lead to positive Ev or the corresponding dEvdTx would\n",
    "    be unphysical\n",
    "    \n",
    "    Input\n",
    "    ------\n",
    "    Tx: DM kinetic energy\n",
    "    mx: DM mass\n",
    "    alpha: scattering angle in lab frame\n",
    "    dTx: arbitrarity small number, default 1e-5\n",
    "    \n",
    "    Output\n",
    "    ------\n",
    "    dEv/dTx: the derivative of Ev over Tx\n",
    "    \"\"\"\n",
    "    sec = 1/np.cos(alpha)\n",
    "    numerator = mx**2*sec*(2*sec*np.sqrt(Tx*(2*mx + Tx)) + 2*mx + Tx*sec**2 + Tx)\n",
    "    denominator = (Tx*np.tan(alpha)**2 - 2*mx)**2*np.sqrt(Tx*(2*mx + Tx))\n",
    "    return numerator/denominator\n",
    "\n",
    "\n",
    "def vx(Tx,mx):\n",
    "    \"\"\"\n",
    "    The dimensionless DM velocity. To restore the physical unit, just\n",
    "    times the speed of light c\n",
    "    \n",
    "    Input\n",
    "    ------\n",
    "    Tx: DM kinetic energy\n",
    "    mx: DM mass\n",
    "    \n",
    "    Output\n",
    "    ------\n",
    "    vx: dimensionless DM velocity\n",
    "    \"\"\"\n",
    "    return np.sqrt(Tx*(Tx+2*mx))/(Tx+mx)\n",
    "\n",
    "def xemissivity(Tx,mx,alpha,r,rho=184,rs=24.42,Lv=Lv):\n",
    "    \"\"\"\n",
    "    Upscattered DM emissivity, note the returned result is divided by sigxv and light velocity\n",
    "    \n",
    "    Input\n",
    "    ------\n",
    "    Tx: DM kinetic energy, MeV\n",
    "    mx: DM mass, MeV\n",
    "    alpha: the scattering angle in lab frame\n",
    "    vx: the DM dimensionless velocity in terms of Tx and mx\n",
    "    r: the distance from the scattering point to GC, kpc\n",
    "    rho: DM halo characteristic density, default 184 MeV/cm^3\n",
    "    rs: DM halo characteristic length, default 24.42 kpc\n",
    "    tau: the duration of SN explosion, default 10 s\n",
    "    Lv: neutrino luminosity during the SN explosion, default 1e52 erg/s\n",
    "        note that the total luminosity released by a single SN explosion\n",
    "        should be Lv times the duration of that explosion, where the unit\n",
    "        per second will be eliminated from this procedure\n",
    "    \n",
    "    Output\n",
    "    ------\n",
    "    BDM emissivity: in the unit of per cm^3 per second\n",
    "    \"\"\"\n",
    "    # if Tx >= 2mx/tan(a)^2, Ev will turn negative (diverge at equal) which is unphysical\n",
    "    Enu = Ev(Tx,mx,alpha)\n",
    "    \n",
    "    if alpha!=0.:\n",
    "        if Tx < 2*mx/np.tan(alpha)**2 and Enu >= 0:    \n",
    "            dEdT = dEvdTx(Tx,mx,alpha)\n",
    "            jx = dnvdEv(r,Enu,Lv)*c *nx(r,mx,rho,rs)*g(Enu,mx,alpha)*dEdT\n",
    "        else:\n",
    "            jx = 0\n",
    "    else:\n",
    "        jx = 0\n",
    "    return jx"
   ]
  },
  {
   "cell_type": "code",
   "execution_count": 5,
   "metadata": {
    "id": "3v3W4UI5IxA0"
   },
   "outputs": [],
   "source": [
    "def Root_Finding(theta, t,vx,R = 8.5,r_cut=0.001):\n",
    "    \"\"\"\n",
    "    Find l, r and alpha when t, cos\\theta, R and vx are given\n",
    "    \n",
    "    Input\n",
    "    ------\n",
    "    t: timing in seconds, 0 starts from the first arrival of the SN neutrino at Earth\n",
    "    theta: in rad\n",
    "    vx: dimensionless DM velocity, v/c\n",
    "    R: R in kpc, default 8.5 kpc\n",
    "    r_cut: the inner most galactic region should be considered, default is 0.001 kpc\n",
    "    \n",
    "    Output\n",
    "    ------\n",
    "    tuple: (l,r,alpha,flag)\n",
    "           flag is a string label, physical/unphysical, where unphysical\n",
    "           result should be considered zero contribution to the emissivity\n",
    "    \"\"\"\n",
    "    cos = np.cos(theta)\n",
    "    zeta = c*t/kpc2cm + R\n",
    "    k = zeta/R\n",
    "    l = (-2*zeta*vx+2*cos*R*vx**2 + np.sqrt(vx**2*(2*zeta-2*cos*R*vx)**2 + 4*(-R**2+zeta**2)*vx**2*(-1+vx**2)))/(2*(-1+vx**2))\n",
    "    tv = R*kpc2cm/c\n",
    "    t_crit =  tv*(1/vx-1)\n",
    "    \n",
    "    r = 0.0\n",
    "    if l**2 + R**2 - 2*l*R*cos<0.:\n",
    "        r = 0.0\n",
    "    else:\n",
    "        r = np.sqrt(l**2 + R**2 - 2*l*R*cos)\n",
    "    \n",
    "    alpha = 0.0\n",
    "\n",
    "    if r>0 and l>0.:\n",
    "        if (R**2-r**2-l**2)/(2*r*l)>1.0:\n",
    "            alpha = 0.0\n",
    "        elif (R**2-r**2-l**2)/(2*r*l)<-1.0:\n",
    "            alpha = np.pi\n",
    "        else:\n",
    "            alpha = np.arccos((R**2-r**2-l**2)/(2*r*l))\n",
    "        if(np.isnan(alpha)):\n",
    "            print(r,l,(R**2-r**2-l**2)/(2*r*l))\n",
    "    else:\n",
    "        alpha = 0.0\n",
    "    # Avoid Unphysical Geometry\n",
    "\n",
    "    if l > 0 and r > 0 and r > r_cut and 0 <= alpha <= 0.5*np.pi:\n",
    "        flag = 'physical'\n",
    "    else:\n",
    "        flag = 'unphysical'\n",
    "\n",
    "    return l,r,alpha,flag"
   ]
  },
  {
   "cell_type": "code",
   "execution_count": 6,
   "metadata": {
    "id": "SjTFsXVtIySz"
   },
   "outputs": [],
   "source": [
    "def bdmflux(t,Tx,mx,tau=10,sigxv=1e-45,rho=184,rs=24.42,Lv=Lv,R=8.5,r_cut=0.001):\n",
    "    \"\"\"\n",
    "    Boosted DM flux at Earth, per cm^2 per second\n",
    "    \n",
    "    Input\n",
    "    ------\n",
    "    t: time in second, 0 starts from the arrival of SN neutrino\n",
    "    Tx: DM kinetic energy, in MeV\n",
    "    mx: DM mass, in MeV\n",
    "    tau: the duration of SN explosion, default 10 s\n",
    "    sigxv: DM-neutrino scattering cross section, default 1e-45 cm^2\n",
    "    rho: NFW halo profile characteristic density, default 184 MeV/cm^3\n",
    "    rs: NFW halo profile characteristic length, default 24.42 kpc\n",
    "    Lv: SN neutrino luminosity, default 1e52 erg/s\n",
    "    R: distance between Sun and GC, default 8.5 kpc\n",
    "    r_cut: the inner most galactic region should be considered, default is 0.001 kpc\n",
    "    \n",
    "    Output\n",
    "    ------\n",
    "    BDM flux: in the unit of per cm^2 per second for a given t\n",
    "    \"\"\"\n",
    "\n",
    "    # find DM velocity\n",
    "    beta = vx(Tx,mx)\n",
    "\n",
    "    def f(theta): \n",
    "        #return test.bdmflux_f(theta,t,R,Tx,mx)\n",
    "        l,r,alpha,flag = Root_Finding(theta,t,beta,R,r_cut) # solve geometry\n",
    "        \n",
    "        if flag == 'unphysical':\n",
    "            return 0\n",
    "        \n",
    "        # Geometric Terms\n",
    "        geometric_terms = np.sin(theta) *2*np.pi \n",
    "\n",
    "        # Physical terms\n",
    "        physical_terms = sigxv*tau*xemissivity(Tx,mx,alpha,r,rho,rs,Lv)\n",
    "        \n",
    "        physical_terms /= (l-R*np.cos(theta))/r*beta+1\n",
    "        \n",
    "        return geometric_terms*physical_terms\n",
    "    \n",
    "    result = integrate.quad(f,0.1,np.pi/2)[0]\n",
    "    result += integrate.quad(f,0.01,0.1)[0]\n",
    "    result += integrate.quad(f,0.001,0.01)[0]\n",
    "    result += integrate.quad(f,0.0001,0.001)[0]\n",
    "    result += integrate.quad(f,0.00001,0.0001)[0]\n",
    "    result += integrate.quad(f,1e-6,0.00001)[0]\n",
    "    result += integrate.quad(f,0,1e-6)[0]\n",
    "    \n",
    "    return result*beta*c"
   ]
  },
  {
   "cell_type": "code",
   "execution_count": 7,
   "metadata": {
    "id": "Ief-OZLpaa5T"
   },
   "outputs": [],
   "source": [
    "def Jacobian_Quad(f,a,b):\n",
    "  ua = np.log(a)\n",
    "  ub = np.log(b)\n",
    "  def s(z):\n",
    "    return f(np.exp(z))*np.exp(z)\n",
    "  return integrate.quad(s,ua,ub)[0]\n",
    "def Get_Theta_Crit(f,a,b):\n",
    "  thetas = np.logspace(np.log10(a),np.log10(b),10)\n",
    "  fs = []\n",
    "  for i in range(len(thetas)):\n",
    "    fs.append(f(thetas[i]))\n",
    "  idx = np.argmax(fs)\n",
    "  return thetas[idx]\n",
    "\n",
    "def bdmflux_new(t,Tx,mx,tau=10,sigxv=1e-45,rho=184,rs=24.42,Lv=Lv,R=8.5,r_cut=0.001):\n",
    "    \"\"\"\n",
    "    Boosted DM flux at Earth, per cm^2 per second\n",
    "    \n",
    "    Input\n",
    "    ------\n",
    "    t: time in second, 0 starts from the arrival of SN neutrino\n",
    "    Tx: DM kinetic energy, in MeV\n",
    "    mx: DM mass, in MeV\n",
    "    tau: the duration of SN explosion, default 10 s\n",
    "    sigxv: DM-neutrino scattering cross section, default 1e-45 cm^2\n",
    "    rho: NFW halo profile characteristic density, default 184 MeV/cm^3\n",
    "    rs: NFW halo profile characteristic length, default 24.42 kpc\n",
    "    Lv: SN neutrino luminosity, default 1e52 erg/s\n",
    "    R: distance between Sun and GC, default 8.5 kpc\n",
    "    r_cut: the inner most galactic region should be considered, default is 0.001 kpc\n",
    "    \n",
    "    Output\n",
    "    ------\n",
    "    BDM flux: in the unit of per cm^2 per second for a given t\n",
    "    \"\"\"\n",
    "    #rf = R/c\n",
    "    #ts = (c*t+R)/R\n",
    "    #rs_in_rf = rs/R\n",
    "    \n",
    "    # find DM velocity\n",
    "    beta = vx(Tx,mx)\n",
    "    tv = R*kpc2cm/c\n",
    "    t_crit =  tv*(1/beta-1)\n",
    "\n",
    "    def f(theta): \n",
    "        #return test.bdmflux_f(theta,t,R,Tx,mx)\n",
    "        l,r,alpha,flag = Root_Finding(theta,t,beta,R,r_cut) # solve geometry\n",
    "        \n",
    "        if flag == 'unphysical':\n",
    "            return 0\n",
    "        \n",
    "        # Geometric Terms\n",
    "        geometric_terms = np.sin(theta) *2*np.pi \n",
    "\n",
    "        # Physical terms\n",
    "        physical_terms = sigxv*tau*xemissivity(Tx,mx,alpha,r,rho,rs,Lv)\n",
    "        \n",
    "        physical_terms /= (l-R*np.cos(theta))/r*beta+1\n",
    "        \n",
    "        return geometric_terms*physical_terms\n",
    "    theta_crit = Get_Theta_Crit(f,1e-8,np.pi/2.)\n",
    "    result = Jacobian_Quad(f,theta_crit,np.pi/2)\n",
    "    result += Jacobian_Quad(f,0.1*theta_crit,theta_crit)\n",
    "    result += integrate.quad(f,0.,0.1*theta_crit)[0]\n",
    "\n",
    "    return result*beta*c"
   ]
  },
  {
   "cell_type": "code",
   "execution_count": 15,
   "metadata": {
    "colab": {
     "base_uri": "https://localhost:8080/",
     "height": 139
    },
    "executionInfo": {
     "elapsed": 8582,
     "status": "ok",
     "timestamp": 1638714715711,
     "user": {
      "displayName": "吳文華",
      "photoUrl": "https://lh3.googleusercontent.com/a-/AOh14GgE5_y3ZIKzS6UPSY3sYTw57msrqqDOYtPP_2pNMA=s64",
      "userId": "16457812485485709771"
     },
     "user_tz": -480
    },
    "id": "H4sGoZx1I22K",
    "outputId": "29fa351d-28e1-4bb9-8390-39eedc18062d"
   },
   "outputs": [
    {
     "name": "stderr",
     "output_type": "stream",
     "text": [
      "/tmp/ipykernel_3313/2746431241.py:22: RuntimeWarning: overflow encountered in exp\n",
      "  return (1/18.9686)*(1/Tv**3)*(Ev**2/(np.exp(Ev/Tv - 3)+1))\n"
     ]
    }
   ],
   "source": [
    "# All in MeV\n",
    "mx1 = 0.001\n",
    "mx2 = 0.01\n",
    "mx3 = 0.1\n",
    "mx4 = 1\n",
    "Tx1 = 5\n",
    "#Tx2 = 50\n",
    "# years\n",
    "yrls=np.logspace(-6,3,1000)\n",
    "\n",
    "fluxmx1_20=[]\n",
    "for y in yrls:\n",
    "    fluxmx1_20.append(bdmflux_new(y*yr,Tx1,mx1,r_cut=0.001))\n",
    "\n",
    "fluxmx2_20=[]\n",
    "for y in yrls:\n",
    "    fluxmx2_20.append(bdmflux_new(y*yr,Tx1,mx2,r_cut=0.001))\n",
    "\n",
    "fluxmx3_20=[]\n",
    "for y in yrls:\n",
    "    fluxmx3_20.append(bdmflux_new(y*yr,Tx1,mx3,r_cut=0.001))\n",
    "\n",
    "fluxmx4_20=[]\n",
    "for y in yrls:\n",
    "    fluxmx4_20.append(bdmflux_new(y*yr,Tx1,mx4,r_cut=0.001))"
   ]
  },
  {
   "cell_type": "code",
   "execution_count": 16,
   "metadata": {
    "colab": {
     "base_uri": "https://localhost:8080/",
     "height": 300
    },
    "executionInfo": {
     "elapsed": 991,
     "status": "ok",
     "timestamp": 1638261642522,
     "user": {
      "displayName": "吳文華",
      "photoUrl": "https://lh3.googleusercontent.com/a-/AOh14GgE5_y3ZIKzS6UPSY3sYTw57msrqqDOYtPP_2pNMA=s64",
      "userId": "16457812485485709771"
     },
     "user_tz": -480
    },
    "id": "OOXMongfayiS",
    "outputId": "0114771f-8bbd-4774-e75e-03ba06ced1a1"
   },
   "outputs": [
    {
     "data": {
      "image/png": "[encoded data removed]",
      "text/plain": [
       "<Figure size 432x288 with 1 Axes>"
      ]
     },
     "metadata": {
      "needs_background": "light"
     },
     "output_type": "display_data"
    }
   ],
   "source": [
    "plt.plot(yrls,fluxmx1_20,label='$m_\\chi=$' +str(mx1)+' MeV')\n",
    "plt.plot(yrls,fluxmx2_20,label='$m_\\chi=$' +str(mx2)+' MeV')\n",
    "plt.plot(yrls,fluxmx3_20,label='$m_\\chi=$' +str(mx3)+' MeV')\n",
    "plt.plot(yrls,fluxmx4_20,label='$m_\\chi=$' +str(mx4)+' MeV')\n",
    "plt.xscale('log')\n",
    "plt.yscale('log')\n",
    "plt.xlabel('yr')\n",
    "plt.ylabel(r'$d\\Phi_{B\\chi}/dT_\\chi~[{\\rm MeV^{-1}\\,cm^{-2}\\,s^{-1}}]$')\n",
    "plt.title(r'$T_\\chi =$'+str(Tx1)+' MeV')\n",
    "plt.legend(loc='best')\n",
    "#plt.ylim(1e-21,1e-9)\n",
    "#plt.savefig('time_dependent_flux_20MeV_2.pdf',facecolor='white',bbox_inches='tight')\n",
    "plt.show()"
   ]
  },
  {
   "cell_type": "code",
   "execution_count": 17,
   "metadata": {},
   "outputs": [],
   "source": [
    "def Vegas_Jacobian_Integration(f,a,b):\n",
    "    ua = np.log(a)\n",
    "    ub = np.log(b)\n",
    "    def fg(z):\n",
    "        return f([np.exp(z[0])])*np.exp(z[0])\n",
    "    integ = vegas.Integrator([[ua, ub]])\n",
    "    result = integ(fg, nitn=1, neval=1000)\n",
    "\n",
    "    return result.mean\n",
    "\n",
    "def bdmflux_vegas(t,Tx,mx,tau=10,sigxv=1e-45,rho=184,rs=24.42,Lv=Lv,R=8.5,r_cut=0.001):\n",
    "    \"\"\"\n",
    "    Boosted DM flux at Earth, per cm^2 per second\n",
    "    \n",
    "    Input\n",
    "    ------\n",
    "    t: time in second, 0 starts from the arrival of SN neutrino\n",
    "    Tx: DM kinetic energy, in MeV\n",
    "    mx: DM mass, in MeV\n",
    "    tau: the duration of SN explosion, default 10 s\n",
    "    sigxv: DM-neutrino scattering cross section, default 1e-45 cm^2\n",
    "    rho: NFW halo profile characteristic density, default 184 MeV/cm^3\n",
    "    rs: NFW halo profile characteristic length, default 24.42 kpc\n",
    "    Lv: SN neutrino luminosity, default 1e52 erg/s\n",
    "    R: distance between Sun and GC, default 8.5 kpc\n",
    "    r_cut: the inner most galactic region should be considered, default is 0.001 kpc\n",
    "    \n",
    "    Output\n",
    "    ------\n",
    "    BDM flux: in the unit of per cm^2 per second for a given t\n",
    "    \"\"\"\n",
    "    #rf = R/c\n",
    "    #ts = (c*t+R)/R\n",
    "    #rs_in_rf = rs/R\n",
    "    \n",
    "    # find DM velocity\n",
    "    beta = vx(Tx,mx)\n",
    "\n",
    "    def f(theta): \n",
    "        #return test.bdmflux_f(theta,t,R,Tx,mx)\n",
    "        l,r,alpha,flag = Root_Finding(theta[0],t,beta,R,r_cut=r_cut) # solve geometry\n",
    "        \n",
    "        if flag == 'unphysical':\n",
    "            return 0\n",
    "        \n",
    "        # Geometric Terms\n",
    "        geometric_terms = np.sin(theta[0]) *2*np.pi \n",
    "\n",
    "        # Physical terms\n",
    "        physical_terms = sigxv*tau*xemissivity(Tx,mx,alpha,r,rho,rs,Lv)\n",
    "        \n",
    "        physical_terms /= (l-R*np.cos(theta[0]))/r*beta+1\n",
    "        \n",
    "        return geometric_terms*physical_terms\n",
    "    def Get_Theta_Crit_Vegas(f,a,b):\n",
    "        thetas = np.logspace(np.log10(a),np.log10(b),10)\n",
    "        fs = []\n",
    "        for i in range(len(thetas)):\n",
    "            fs.append(f([thetas[i]]))\n",
    "        idx = np.argmax(fs)\n",
    "        return thetas[idx]\n",
    "    theta_crit = Get_Theta_Crit_Vegas(f,1e-8,np.pi/2.)\n",
    "    result = Vegas_Jacobian_Integration(f,theta_crit, np.pi/2.)\n",
    "    result = Vegas_Jacobian_Integration(f,1e-8, theta_crit)\n",
    "    return result*beta*c\n"
   ]
  },
  {
   "cell_type": "code",
   "execution_count": null,
   "metadata": {},
   "outputs": [
    {
     "name": "stderr",
     "output_type": "stream",
     "text": [
      "/tmp/ipykernel_3313/2746431241.py:22: RuntimeWarning: overflow encountered in exp\n",
      "  return (1/18.9686)*(1/Tv**3)*(Ev**2/(np.exp(Ev/Tv - 3)+1))\n"
     ]
    }
   ],
   "source": [
    "# All in MeV\n",
    "mx1 = 0.001\n",
    "mx2 = 0.01\n",
    "mx3 = 0.1\n",
    "mx4 = 1\n",
    "Tx1 = 5\n",
    "#Tx2 = 50\n",
    "# years\n",
    "yrls=np.logspace(-6,3,1000)\n",
    "\n",
    "fluxmx1_20=[]\n",
    "for y in yrls:\n",
    "    fluxmx1_20.append(bdmflux_vegas(y*yr,Tx1,mx1,r_cut=0.01))\n",
    "\n",
    "fluxmx2_20=[]\n",
    "for y in yrls:\n",
    "    fluxmx2_20.append(bdmflux_vegas(y*yr,Tx1,mx2,r_cut=0.01))\n",
    "    \n",
    "fluxmx3_20=[]\n",
    "for y in yrls:\n",
    "    fluxmx3_20.append(bdmflux_vegas(y*yr,Tx1,mx3,r_cut=0.01))\n",
    "\n",
    "fluxmx4_20=[]\n",
    "for y in yrls:\n",
    "    fluxmx4_20.append(bdmflux_vegas(y*yr,Tx1,mx4,r_cut=0.01))"
   ]
  },
  {
   "cell_type": "code",
   "execution_count": 15,
   "metadata": {
    "scrolled": false
   },
   "outputs": [
    {
     "data": {
      "image/png": "[encoded data removed]",
      "text/plain": [
       "<Figure size 432x288 with 1 Axes>"
      ]
     },
     "metadata": {
      "needs_background": "light"
     },
     "output_type": "display_data"
    }
   ],
   "source": [
    "plt.plot(yrls,fluxmx1_20,label='$m_\\chi=$'+str(mx1)+' MeV')\n",
    "plt.plot(yrls,fluxmx2_20,label='$m_\\chi=$' +str(mx2)+' MeV')\n",
    "plt.plot(yrls,fluxmx3_20,label='$m_\\chi=$' +str(mx3)+' MeV')\n",
    "plt.plot(yrls,fluxmx4_20,label='$m_\\chi=$' +str(mx4)+' MeV')\n",
    "plt.xscale('log')\n",
    "plt.yscale('log')\n",
    "plt.xlabel('yr')\n",
    "plt.ylabel(r'$d\\Phi_{B\\chi}/dT_\\chi~[{\\rm MeV^{-1}\\,cm^{-2}\\,s^{-1}}]$')\n",
    "plt.title(r'$T_\\chi =$'+str(Tx1)+' MeV')\n",
    "plt.legend(loc='best')\n",
    "plt.ylim(1e-21,1e-9)\n",
    "#plt.savefig('time_dependent_flux_20MeV_2.pdf',facecolor='white',bbox_inches='tight')\n",
    "plt.show()"
   ]
  },
  {
   "cell_type": "code",
   "execution_count": 16,
   "metadata": {},
   "outputs": [
    {
     "name": "stderr",
     "output_type": "stream",
     "text": [
      "/tmp/ipykernel_6456/3671157136.py:22: RuntimeWarning: overflow encountered in exp\n",
      "  return (1/18.9686)*(1/Tv**3)*(Ev**2/(np.exp(Ev/Tv - 3)+1))\n"
     ]
    }
   ],
   "source": [
    "# All in MeV\n",
    "mx1 = 0.001\n",
    "mx2 = 0.01\n",
    "mx3 = 0.1\n",
    "mx4 = 1\n",
    "Tx1 = 5\n",
    "#Tx2 = 50\n",
    "# years\n",
    "yrls=np.logspace(-6,3,1000)\n",
    "\n",
    "fluxmx1_20=[]\n",
    "for y in yrls:\n",
    "    fluxmx1_20.append(bdmflux_vegas(y*yr,Tx1,mx1,r_cut=0.01))\n",
    "fluxmx2_20=[]\n",
    "for y in yrls:\n",
    "    fluxmx2_20.append(bdmflux_vegas(y*yr,Tx1,mx1,r_cut=0.00))"
   ]
  },
  {
   "cell_type": "code",
   "execution_count": 21,
   "metadata": {},
   "outputs": [
    {
     "data": {
      "image/png": "[encoded data removed]",
      "text/plain": [
       "<Figure size 432x288 with 1 Axes>"
      ]
     },
     "metadata": {
      "needs_background": "light"
     },
     "output_type": "display_data"
    }
   ],
   "source": [
    "plt.plot(yrls,fluxmx1_20,label='$r_{cut}=$'+str(0.01)+' kpc')\n",
    "plt.plot(yrls,fluxmx2_20,label='$r_{cut}=$' +str(0.0)+' kpc')\n",
    "\n",
    "plt.xscale('log')\n",
    "plt.yscale('log')\n",
    "plt.xlabel('yr')\n",
    "plt.ylabel(r'$d\\Phi_{B\\chi}/dT_\\chi~[{\\rm MeV^{-1}\\,cm^{-2}\\,s^{-1}}]$')\n",
    "plt.title(r'$T_\\chi =$'+str(Tx1)+' MeV')\n",
    "plt.legend(loc='best')\n",
    "plt.ylim(1e-21,1e-9)\n",
    "#plt.savefig('time_dependent_flux_20MeV_2.pdf',facecolor='white',bbox_inches='tight')\n",
    "plt.show()"
   ]
  },
  {
   "cell_type": "code",
   "execution_count": 76,
   "metadata": {
    "id": "1_z8shhTKOcW"
   },
   "outputs": [],
   "source": [
    "def Jacobian_Method(func,a,b,n):\n",
    "  \n",
    "  def gp(z):\n",
    "    return func(np.exp(z))\n",
    "  def Jacobian_Simpson_Method(func,a,b,n):\n",
    "    dx = (b-a)/n\n",
    "    sum = 0\n",
    "    for i in range(n):\n",
    "      sum += (func(a+i*dx) + 4*func(a+(i+1/2)*dx) + func(a+(i+1)*dx))/6*dx *np.exp(a+(i+1/2)*dx)\n",
    "    return sum\n",
    "  sum = Jacobian_Simpson_Method(gp,np.log(a),np.log(b),n)\n",
    "  return sum\n",
    "def Jacobian_dblQuad(f,a,b,c,d):\n",
    "  ua = np.log(a)\n",
    "  ub = np.log(b)\n",
    "  uc = np.log(c)\n",
    "  ud = np.log(d)\n",
    "  def s(u,v):\n",
    "    return f(np.exp(u),np.exp(v))*np.exp(u)*np.exp(v)\n",
    "  return integrate.dblquad(s, uc, ud, lambda x: ua, lambda x: ub)[0]\n",
    "def Special_dblQuad(f,theta1,theta2,t1,t2):\n",
    "  utheta1 = np.log(theta1)\n",
    "  utheta2 = np.log(theta2)\n",
    "  ut1 = np.log(t1)\n",
    "  ut2 = np.log(t2)\n",
    "  \n",
    "  def s(u,v):\n",
    "    return f(np.exp(u),np.exp(v))*np.exp(u)*np.exp(v)\n",
    "  def Get_Theta_at_T(ut):\n",
    "    t = np.exp(ut)\n",
    "    thetas = np.logspace(-8,np.log10(np.pi/2.),10)\n",
    "    fs = []\n",
    "    for i in range(len(thetas)):\n",
    "      fs.append(f(thetas[i],t))\n",
    "    idx = np.argmax(fs)\n",
    "    return np.log(thetas[idx])\n",
    "  \n",
    "  result = integrate.dblquad(s, ut1, ut2, lambda ut: Get_Theta_at_T(ut), lambda ut: utheta2)[0]\n",
    "  result += integrate.dblquad(s, ut1, ut2, lambda ut: Get_Theta_at_T(ut)-np.log(10), lambda ut: Get_Theta_at_T(ut))[0]\n",
    "  result += integrate.dblquad(f, t1, t2, lambda ut: 0., lambda ut: np.exp(Get_Theta_at_T(ut)-np.log(10)))[0]\n",
    "  return result\n",
    "def Vegas_Jacobian_dblIntegration(f,a,b,c,d):\n",
    "    ua = np.log(a)\n",
    "    ub = np.log(b)\n",
    "    uc = np.log(c)\n",
    "    ud = np.log(d)\n",
    "    def g(z):\n",
    "        return f([np.exp(z[0]),np.exp(z[1])])*np.exp(z[0])*np.exp(z[1])\n",
    "    integ = vegas.Integrator([[ua, ub],[uc, ud]])\n",
    "    result = integ(g, nitn=1, neval=10000)\n",
    "    return result.mean\n",
    "def Accumulated_bdmnumber(Tx,mx,tau=10,sigxv=1e-45,rho=184,rs=24.42,Lv=Lv,R=8.5,r_cut=0.001):\n",
    "    def f(t):\n",
    "        return bdmflux(t,Tx,mx,tau,sigxv,rho,rs,Lv,R,r_cut)\n",
    "    vdm = vx(Tx,mx)\n",
    "    tv = R*kpc2cm/c\n",
    "    t_crit =  tv*(1/vdm-1)\n",
    "    tmax = np.min([t_crit*10**(1-np.log10(mx)),30*yr])\n",
    "    return integrate.quad(f,0,tmax)[0]\n",
    "\n",
    "\n",
    "def Accumulated_bdmnumber_new(Tx,mx,sigxv=1e-45,tau=10,rho=184,rs=24.42,Lv=Lv,R=8.5,r_cut=0.001):\n",
    "    \n",
    "    beta = vx(Tx,mx)\n",
    "    tv = R*kpc2cm/c\n",
    "    t_crit =  tv*(1/beta-1)\n",
    "    tmax = t_crit*10**(1-np.log10(mx))\n",
    "    def f(theta,t): \n",
    "        #return test.bdmflux_f(theta,t,R,Tx,mx)\n",
    "        l,r,alpha,flag = Root_Finding(theta,t,beta,R) # solve geometry     \n",
    "        if flag == 'unphysical':\n",
    "            return 0\n",
    "        \n",
    "        # Geometric Terms\n",
    "        geometric_terms = np.sin(theta) *2*np.pi \n",
    "\n",
    "        # Physical terms\n",
    "        physical_terms = sigxv*tau*xemissivity(Tx,mx,alpha,r,rho,rs,Lv)\n",
    "        \n",
    "        physical_terms /= (l-R*np.cos(theta))/r*beta+1\n",
    "        \n",
    "        return geometric_terms*physical_terms\n",
    "    #return (Jacobian_dblQuad(f,1e-8,np.pi/2.,t_crit*1e-3,tmax))*beta*c\n",
    "    return (Special_dblQuad(f,1e-8,np.pi/2.,t_crit*1e-3,tmax))*beta*c\n",
    "\n",
    "def Accumulated_bdmnumber_vegas(Tx,mx,sigxv=1e-45,tau=10,rho=184,rs=24.42,Lv=Lv,R=8.5,r_cut=0.001):\n",
    "    \n",
    "    beta = vx(Tx,mx)\n",
    "    tv = R*kpc2cm/c\n",
    "    t_crit =  tv*(1/beta-1)\n",
    "    tmax = t_crit*10**(1-np.log10(mx))\n",
    "    def f(para):\n",
    "        theta = para[0]\n",
    "        t     = para[1]\n",
    "        #return test.bdmflux_f(theta,t,R,Tx,mx)\n",
    "        l,r,alpha,flag = Root_Finding(theta,t,beta,R) # solve geometry\n",
    "        \n",
    "        if flag == 'unphysical':\n",
    "            return 0\n",
    "        \n",
    "        # Geometric Terms\n",
    "        geometric_terms = np.sin(theta) *2*np.pi \n",
    "\n",
    "        # Physical terms\n",
    "        physical_terms = sigxv*tau*xemissivity(Tx,mx,alpha,r,rho,rs,Lv)\n",
    "        \n",
    "        physical_terms /= (l-R*np.cos(theta))/r*beta+1\n",
    "        \n",
    "        return geometric_terms*physical_terms\n",
    "    \n",
    "    result = Vegas_Jacobian_dblIntegration(f,1e-5,np.pi/2.,t_crit,tmax)\n",
    "    result += Vegas_Jacobian_dblIntegration(f,1e-8,1e-5,t_crit,tmax)\n",
    "    result += Vegas_Jacobian_dblIntegration(f,1e-5,np.pi/2.,t_crit*1e-3,t_crit)\n",
    "    result += Vegas_Jacobian_dblIntegration(f,1e-8,1e-5,t_crit*1e-3,t_crit)\n",
    "\n",
    "    return result*beta*c\n"
   ]
  },
  {
   "cell_type": "code",
   "execution_count": 80,
   "metadata": {
    "colab": {
     "base_uri": "https://localhost:8080/",
     "height": 473
    },
    "executionInfo": {
     "elapsed": 9965,
     "status": "ok",
     "timestamp": 1638261198628,
     "user": {
      "displayName": "吳文華",
      "photoUrl": "https://lh3.googleusercontent.com/a-/AOh14GgE5_y3ZIKzS6UPSY3sYTw57msrqqDOYtPP_2pNMA=s64",
      "userId": "16457812485485709771"
     },
     "user_tz": -480
    },
    "id": "YrIPM78TKEPm",
    "outputId": "29ec42eb-b3c8-4683-ac99-1b7e69d180f0"
   },
   "outputs": [
    {
     "name": "stderr",
     "output_type": "stream",
     "text": [
      "/tmp/ipykernel_2618/4149479579.py:24: RuntimeWarning: invalid value encountered in double_scalars\n",
      "  alpha = np.arccos((R**2-r**2-l**2)/(2*r*l))\n",
      "/tmp/ipykernel_2618/4149479579.py:24: RuntimeWarning: invalid value encountered in arccos\n",
      "  alpha = np.arccos((R**2-r**2-l**2)/(2*r*l))\n",
      "/tmp/ipykernel_2618/1539276463.py:140: RuntimeWarning: divide by zero encountered in double_scalars\n",
      "  if Tx < 2*mx/np.tan(alpha)**2 and Enu >= 0:\n",
      "/tmp/ipykernel_2618/4149479579.py:24: RuntimeWarning: divide by zero encountered in double_scalars\n",
      "  alpha = np.arccos((R**2-r**2-l**2)/(2*r*l))\n",
      "/tmp/ipykernel_2618/3215743845.py:22: RuntimeWarning: overflow encountered in exp\n",
      "  return (1/18.9686)*(1/Tv**3)*(Ev**2/(np.exp(Ev/Tv - 3)+1))\n",
      "/tmp/ipykernel_2618/3370992271.py:30: RuntimeWarning: overflow encountered in exp\n",
      "  t = np.exp(ut)\n",
      "/tmp/ipykernel_2618/4149479579.py:22: RuntimeWarning: invalid value encountered in double_scalars\n",
      "  l = (-2*zeta*vx+2*cos*R*vx**2 + np.sqrt(vx**2*(2*zeta-2*cos*R*vx)**2 + 4*(-R**2+zeta**2)*vx**2*(-1+vx**2)))/(2*(-1+vx**2))\n",
      "/tmp/ipykernel_2618/4149479579.py:23: RuntimeWarning: invalid value encountered in sqrt\n",
      "  r = np.sqrt(l**2 + R**2 - 2*l*R*cos)\n",
      "/tmp/ipykernel_2618/4149479579.py:22: RuntimeWarning: invalid value encountered in sqrt\n",
      "  l = (-2*zeta*vx+2*cos*R*vx**2 + np.sqrt(vx**2*(2*zeta-2*cos*R*vx)**2 + 4*(-R**2+zeta**2)*vx**2*(-1+vx**2)))/(2*(-1+vx**2))\n"
     ]
    },
    {
     "data": {
      "image/png": "[encoded data removed]",
      "text/plain": [
       "<Figure size 432x288 with 1 Axes>"
      ]
     },
     "metadata": {
      "needs_background": "light"
     },
     "output_type": "display_data"
    },
    {
     "name": "stdout",
     "output_type": "stream",
     "text": [
      "1.0007460184160857\n"
     ]
    }
   ],
   "source": [
    "\n",
    "Accumulated_BDMflux_new = []\n",
    "Accumulated_BDMflux_vegas = []\n",
    "\n",
    "mx=np.logspace(-4,0,20)\n",
    "Tx = 5\n",
    "for i in range(len(mx)):\n",
    "    Accumulated_BDMflux_new.append(Accumulated_bdmnumber_new(Tx,mx[i]))\n",
    "    Accumulated_BDMflux_vegas.append(Accumulated_bdmnumber_vegas(Tx,mx[i]))\n",
    "    \n",
    "plt.plot(mx,Accumulated_BDMflux_new,color='royalblue',label='$quad integration$')\n",
    "plt.plot(mx,Accumulated_BDMflux_vegas,color='red',label='$vegas integration$')\n",
    "plt.xscale('log')\n",
    "plt.yscale('log')\n",
    "plt.legend(loc='best')\n",
    "plt.title(r'$T_\\chi =$'+str(Tx)+' MeV')\n",
    "#plt.ylim(1e-19,1e-7)\n",
    "plt.xlabel('mx(MeV)')\n",
    "plt.ylabel(r'$Accumulated BDM Number$')\n",
    "plt.show()\n",
    "print(Accumulated_BDMflux_new[0]/Accumulated_BDMflux_vegas[0])"
   ]
  },
  {
   "cell_type": "code",
   "execution_count": 78,
   "metadata": {
    "colab": {
     "base_uri": "https://localhost:8080/",
     "height": 1000
    },
    "executionInfo": {
     "elapsed": 21015,
     "status": "ok",
     "timestamp": 1638261235617,
     "user": {
      "displayName": "吳文華",
      "photoUrl": "https://lh3.googleusercontent.com/a-/AOh14GgE5_y3ZIKzS6UPSY3sYTw57msrqqDOYtPP_2pNMA=s64",
      "userId": "16457812485485709771"
     },
     "user_tz": -480
    },
    "id": "KFVK3SXjRKdb",
    "outputId": "a7b07a44-d283-4cbb-f19f-0616169f0638"
   },
   "outputs": [
    {
     "name": "stderr",
     "output_type": "stream",
     "text": [
      "/tmp/ipykernel_2618/4149479579.py:24: RuntimeWarning: invalid value encountered in arccos\n",
      "  alpha = np.arccos((R**2-r**2-l**2)/(2*r*l))\n",
      "/tmp/ipykernel_2618/1539276463.py:140: RuntimeWarning: divide by zero encountered in double_scalars\n",
      "  if Tx < 2*mx/np.tan(alpha)**2 and Enu >= 0:\n",
      "/tmp/ipykernel_2618/3370992271.py:30: RuntimeWarning: overflow encountered in exp\n",
      "  t = np.exp(ut)\n",
      "/tmp/ipykernel_2618/4149479579.py:22: RuntimeWarning: invalid value encountered in double_scalars\n",
      "  l = (-2*zeta*vx+2*cos*R*vx**2 + np.sqrt(vx**2*(2*zeta-2*cos*R*vx)**2 + 4*(-R**2+zeta**2)*vx**2*(-1+vx**2)))/(2*(-1+vx**2))\n",
      "/tmp/ipykernel_2618/4149479579.py:24: RuntimeWarning: divide by zero encountered in double_scalars\n",
      "  alpha = np.arccos((R**2-r**2-l**2)/(2*r*l))\n"
     ]
    },
    {
     "name": "stdout",
     "output_type": "stream",
     "text": [
      "0\n"
     ]
    },
    {
     "name": "stderr",
     "output_type": "stream",
     "text": [
      "/tmp/ipykernel_2618/4149479579.py:24: RuntimeWarning: invalid value encountered in double_scalars\n",
      "  alpha = np.arccos((R**2-r**2-l**2)/(2*r*l))\n",
      "/tmp/ipykernel_2618/3215743845.py:22: RuntimeWarning: overflow encountered in exp\n",
      "  return (1/18.9686)*(1/Tv**3)*(Ev**2/(np.exp(Ev/Tv - 3)+1))\n"
     ]
    },
    {
     "name": "stdout",
     "output_type": "stream",
     "text": [
      "1\n",
      "2\n"
     ]
    },
    {
     "name": "stderr",
     "output_type": "stream",
     "text": [
      "/tmp/ipykernel_2618/4149479579.py:23: RuntimeWarning: invalid value encountered in sqrt\n",
      "  r = np.sqrt(l**2 + R**2 - 2*l*R*cos)\n"
     ]
    },
    {
     "name": "stdout",
     "output_type": "stream",
     "text": [
      "3\n",
      "4\n",
      "5\n",
      "6\n",
      "7\n",
      "8\n",
      "9\n",
      "10\n",
      "11\n",
      "12\n",
      "13\n",
      "14\n",
      "15\n",
      "16\n",
      "17\n",
      "18\n",
      "19\n",
      "20\n",
      "21\n",
      "22\n",
      "23\n",
      "24\n",
      "25\n",
      "26\n",
      "27\n",
      "28\n",
      "29\n"
     ]
    },
    {
     "name": "stderr",
     "output_type": "stream",
     "text": [
      "/tmp/ipykernel_2618/4149479579.py:22: RuntimeWarning: invalid value encountered in sqrt\n",
      "  l = (-2*zeta*vx+2*cos*R*vx**2 + np.sqrt(vx**2*(2*zeta-2*cos*R*vx)**2 + 4*(-R**2+zeta**2)*vx**2*(-1+vx**2)))/(2*(-1+vx**2))\n"
     ]
    },
    {
     "name": "stdout",
     "output_type": "stream",
     "text": [
      "30\n",
      "31\n",
      "32\n",
      "33\n",
      "34\n",
      "35\n",
      "36\n",
      "37\n",
      "38\n",
      "39\n",
      "40\n",
      "41\n",
      "42\n",
      "43\n",
      "44\n",
      "45\n",
      "46\n",
      "47\n",
      "48\n",
      "49\n"
     ]
    },
    {
     "data": {
      "image/png": "[encoded data removed]",
      "text/plain": [
       "<Figure size 432x288 with 1 Axes>"
      ]
     },
     "metadata": {
      "needs_background": "light"
     },
     "output_type": "display_data"
    }
   ],
   "source": [
    "Accumulated_BDMflux = []\n",
    "Accumulated_BDMflux_vegas = []\n",
    "\n",
    "Tx=np.linspace(1,60,50)\n",
    "mx = 1e-3\n",
    "\n",
    "for i in range(len(Tx)):\n",
    "  Accumulated_BDMflux.append(Accumulated_bdmnumber_new(Tx[i],mx))\n",
    "  Accumulated_BDMflux_vegas.append(Accumulated_bdmnumber_vegas(Tx[i],mx))\n",
    "  print(i)\n",
    "plt.plot(Tx,Accumulated_BDMflux,color='royalblue',label='$original integration$')\n",
    "plt.plot(Tx,Accumulated_BDMflux_vegas,color='red',label='$vegas integration$')\n",
    "#plt.xscale('log')\n",
    "#plt.yscale('log')\n",
    "plt.legend(loc='best')\n",
    "plt.title(r'$m_\\chi =$'+str(mx)+' MeV')\n",
    "#plt.ylim(1e-19,1e-7)\n",
    "plt.xlabel('Tx(MeV)')\n",
    "plt.ylabel(r'$Accumulated BDM Number$')\n",
    "plt.show()"
   ]
  },
  {
   "cell_type": "code",
   "execution_count": 79,
   "metadata": {
    "colab": {
     "base_uri": "https://localhost:8080/"
    },
    "executionInfo": {
     "elapsed": 277,
     "status": "ok",
     "timestamp": 1638258678739,
     "user": {
      "displayName": "吳文華",
      "photoUrl": "https://lh3.googleusercontent.com/a-/AOh14GgE5_y3ZIKzS6UPSY3sYTw57msrqqDOYtPP_2pNMA=s64",
      "userId": "16457812485485709771"
     },
     "user_tz": -480
    },
    "id": "yTIb--zR6rkC",
    "outputId": "4c049684-b26e-4a20-d7fc-dc78b243e5ea"
   },
   "outputs": [
    {
     "name": "stdout",
     "output_type": "stream",
     "text": [
      "7.672170385038367e-05\n",
      "7.898664461715905e-05\n"
     ]
    }
   ],
   "source": [
    "print(np.sum(Accumulated_BDMflux))\n",
    "print(np.sum(Accumulated_BDMflux_vegas))\n"
   ]
  }
 ],
 "metadata": {
  "colab": {
   "collapsed_sections": [],
   "name": "Vegas_BDMFLUX.ipynb",
   "provenance": [
    {
     "file_id": "1CXkPwmaZZNcpiL9oKaClCmCQzNoYn9H2",
     "timestamp": 1627012422898
    },
    {
     "file_id": "1XsU1-2CMXsOwoHc_TrCTLM1ZXjYzYbf2",
     "timestamp": 1626862248536
    },
    {
     "file_id": "1BIL2hAu8aOseK7iYTL2v2Amem1B84axd",
     "timestamp": 1626858543659
    },
    {
     "file_id": "1j5Z7XfsPpYiXXjndZbagloNMGqJ40vgY",
     "timestamp": 1626856770195
    },
    {
     "file_id": "https://github.com/GoogleCloudPlatform/cloudml-samples/blob/master/notebooks/tensorflow/getting-started-keras.ipynb",
     "timestamp": 1626152550273
    }
   ]
  },
  "kernelspec": {
   "display_name": "Python 3 (ipykernel)",
   "language": "python",
   "name": "python3"
  },
  "language_info": {
   "codemirror_mode": {
    "name": "ipython",
    "version": 3
   },
   "file_extension": ".py",
   "mimetype": "text/x-python",
   "name": "python",
   "nbconvert_exporter": "python",
   "pygments_lexer": "ipython3",
   "version": "3.8.10"
  }
 },
 "nbformat": 4,
 "nbformat_minor": 1
}
