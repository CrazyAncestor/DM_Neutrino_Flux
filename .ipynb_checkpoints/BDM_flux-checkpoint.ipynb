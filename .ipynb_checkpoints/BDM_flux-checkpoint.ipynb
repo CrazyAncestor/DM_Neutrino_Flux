{
 "cells": [
  {
   "cell_type": "code",
   "execution_count": 1,
   "id": "bbeac8f3",
   "metadata": {},
   "outputs": [],
   "source": [
    "import numpy as np\n",
    "import math as mt\n",
    "import matplotlib.pyplot as plt\n",
    "import scipy.integrate as integrate\n",
    "import scipy.optimize as opt"
   ]
  },
  {
   "cell_type": "code",
   "execution_count": 2,
   "id": "9b7bbae2",
   "metadata": {},
   "outputs": [],
   "source": [
    "# Global constants\n",
    "# light speed, cm\n",
    "c = 3*1e10\n",
    "# kpc to cm\n",
    "kpc2cm = 3.08*1e21\n",
    "# erg to MeV\n",
    "erg2MeV = 624150.913\n",
    "# year in seconds\n",
    "yr = 31536000\n",
    "# Neutrino lumonisity, single specie\n",
    "Lv = 3e52/6"
   ]
  },
  {
   "cell_type": "markdown",
   "id": "48773f0c",
   "metadata": {},
   "source": [
    "\n",
    "SN neutrino and DM halo profile¶\n",
    "\n",
    "The neutrino number density per energy $$ \\frac{dn_\\nu}{dE_\\nu}(r,E_\\nu) = \\sum_\\beta \\frac{L_{\\nu_{\\beta}}}{4\\pi r^2 c \\langle E_{\\nu_\\beta}\\rangle}f_{\\nu_\\beta}(E_{\\nu_\\beta}) $$ where $\\beta$ indicates the neutrino flavor and $$ f_{\\nu_\\beta}(E_{\\nu_\\beta}) = \\frac{1}{F_2(\\eta_\\nu)}\\frac{1}{T_{\\nu_\\beta}^3}\\frac{E_{\\nu_\\beta}^2}{\\exp(E_{\\nu_\\beta}/T_{\\nu_\\beta} -\\eta_\\nu)+1} $$ and in general $\\eta_\\nu=3$ for all flavor $\\beta$ and $F_2(\\eta_\\nu)\\approx 18.96$.\n",
    "\n",
    "NFW DM density profile $$ n_\\chi(r)=\\frac{\\rho_\\chi}{m_\\chi}\\frac{1}{\\frac{r}{r_s}(1+\\frac{r}{r_s})^2} $$ where $\\rho_\\chi = 184\\,{\\rm MeV/cm}^3$ and $r_s=24.42\\,{\\rm kpc}$.\n"
   ]
  },
  {
   "cell_type": "code",
   "execution_count": 3,
   "id": "52bca35f",
   "metadata": {},
   "outputs": [],
   "source": [
    "def dnvdEv(r,Ev,Lv=Lv):\n",
    "    \"\"\"\n",
    "    Neutrino number density per energy at r\n",
    "    \n",
    "    Input\n",
    "    ------\n",
    "    Enu: Neutrino energy in MeV\n",
    "    r: Distance to the SN explosion site, in kpc\n",
    "    Lv: Neutrino luminosity, default is 1e52 erg/s, total time is 10 second\n",
    "    \n",
    "    Output\n",
    "    ------\n",
    "    Neutrino flux at r: # per Enu per cm**3 per second\n",
    "    \"\"\"\n",
    "    Lv = Lv*erg2MeV\n",
    "    r = r*kpc2cm\n",
    "    \n",
    "    def _fv(Ev,Tv):\n",
    "        \"\"\"\n",
    "        Fermi-Dirac distribution\n",
    "        \"\"\"\n",
    "        return (1/18.9686)*(1/Tv**3)*(Ev**2/(np.exp(Ev/Tv - 3)+1))\n",
    "    \n",
    "    nue_dist = _fv(Ev,2.76)/11\n",
    "    nueb_dist = _fv(Ev,4.01)/16\n",
    "    # total 4 species for x\n",
    "    nux_dist = _fv(Ev,6.26)/25\n",
    "    \n",
    "    L=Lv/(4*np.pi*r**2*c)\n",
    "    return L*(nue_dist+nueb_dist+4*nux_dist)\n",
    "\n",
    "def nx(r,mx,rho,rs,type='MW'):\n",
    "    \"\"\"\n",
    "    DM number density at r\n",
    "    \n",
    "    Input\n",
    "    ------\n",
    "    r: distance to GC, in kpc\n",
    "    mx: DM mass in MeV\n",
    "    rho: characteristic density, default is 184 MeV/cm^3\n",
    "    rs: characteristic length, default is 24.42 kpc\n",
    "    type: density profile type, like NFW or Hernquist profile\n",
    "    \n",
    "    Output\n",
    "    ------\n",
    "    DM number density, #/cm^3 at r\n",
    "    \"\"\"\n",
    "    x = r/rs\n",
    "    rho_num = rho/mx\n",
    "    if type=='MW_r':\n",
    "        if r<0.01:\n",
    "            return 0.\n",
    "        return rho_num/(x*(1+x)**2)\n",
    "    elif type=='MW':\n",
    "        return 4488/mx\n",
    "    elif type=='LMC':\n",
    "        if x>15.0:\n",
    "            return 0.\n",
    "        return rho_num/(x*(1+x)**3)"
   ]
  },
  {
   "cell_type": "markdown",
   "id": "a8eac8ef",
   "metadata": {},
   "source": [
    "\n",
    "DM emissivity\n",
    "\n",
    "Upscattered DM emissivity $$ j_\\chi^N(r,p_\\chi,\\alpha)=\\frac{dn_\\chi}{dtdp_\\chi d\\Omega_\\alpha}=\\frac{dn_\\chi}{dtdE_\\nu d\\Omega_\\alpha}\\frac{dE_\\nu}{dp_\\chi}=c\\sigma_{\\chi \\nu}n_\\chi(r)\\frac{dn_\\nu}{dE_\\nu}g(\\alpha,E_\\nu)\\frac{dE_\\nu}{dp_\\chi}, $$ where $g(\\alpha,E_\\nu)$ is the angular distribution of the upscattered DM, $p$ the upscattered DM momentum and $\\alpha$ the scattering angle.\n",
    "\n",
    "The angluar distribution is given by $$ g(\\alpha,E_\\nu)=\\frac{dn_\\chi}{d\\Omega_\\alpha}=\\frac{\\sin[2\\tan^{-1}(\\gamma \\tan\\alpha)]}{2\\pi \\sin\\alpha}\\frac{\\gamma \\sec^2\\alpha}{1+\\gamma^2\\tan^2\\alpha}=\\frac{\\gamma^2}{\\pi}\\frac{\\sec^3\\alpha}{(1+\\gamma^2\\tan^2\\alpha)^2} $$ and satisfies the normalization condiation $$ \\int g(\\alpha,E_\\nu)d\\cos\\alpha d\\phi =1 $$ where $\\alpha$ runs from $0$ to $\\pi/2$ and $\\gamma=E_\\chi/m_\\chi$. As a matter of fact, the above condition is irrelevant to $\\gamma$.\n",
    "Find $E_\\nu$ with given $T_\\chi$ and $\\alpha$\n",
    "\n",
    "We re-express $p_\\chi$ in terms of kinetic energy $T_\\chi$ via $$ p_\\chi = \\sqrt{T_\\chi(T_\\chi+2m_\\chi)}\\to dp_\\chi = \\frac{T_\\chi + m_\\chi}{\\sqrt{T_\\chi(T_\\chi+2m_\\chi)}}dT_\\chi \\equiv \\frac{dT_\\chi}{v_\\chi(T_\\chi,m_\\chi)} $$ thus $$ \\frac{dE_\\nu}{dp_\\chi}= v_\\chi(T_\\chi,m_\\chi)\\frac{dE_\\nu}{dT_\\chi}. $$ In the limits of non-relativistic $T_\\chi \\ll m_\\chi$ and of relativistic $T_\\chi \\gg m_\\chi$, they have $v_\\chi\\to \\sqrt{2T_\\chi/m_\\chi}$ and $v_\\chi \\to 1$ respectively as expected. Note that the relation between $E_\\nu$ and $T_\\chi$ can be determined by $$ T_\\chi = \\frac{E_\\nu^2}{E_\\nu+m_\\chi/2}\\left(\\frac{1+\\cos\\theta_c}{2}\\right) $$ and $$ \\theta_c = 2\\tan^{-1}(\\gamma \\tan\\alpha) $$ where $\\gamma = E_{\\chi,{\\rm cm}}/m_\\chi$. Once $\\alpha$ and $T_\\chi$ are given, $E_\\nu$ will be specified, hence numerically we have $$ \\frac{dE_\\nu}{dT_\\chi} =\\underset{dT_{\\chi}\\to 0}{\\lim} \\frac{E_\\nu(T_\\chi+dT_\\chi,\\alpha)-E_\\nu(T_\\chi,\\alpha)}{dT_\\chi}. $$ We can obtain $E_\\nu$ with given $T_\\chi$ and $\\alpha$ through root finding method.\n",
    "\n",
    "An alternative way is to derive the analytical expression of $E_\\nu$ in terms of $T_\\chi$, $$ E_{\\nu}=\\frac{T_{\\chi}\\sec^{2}\\alpha+\\sec\\alpha\\sqrt{T_{\\chi}(2m_{\\chi}+T_{\\chi})}}{2-T_{\\chi}\\tan^{2}\\alpha/m_{\\chi}}=\\frac{T_{\\chi}m_{\\chi}}{\\sqrt{T_{\\chi}(2m_{\\chi}+T_{\\chi})\\left(1-\\frac{R^{2}}{r^{2}}\\sin^{2}\\theta\\right)}-T_{\\chi}} $$ where $\\gamma$ can be expressed in terms fo $E_\\nu$ and $m_\\chi$ by $$ \\gamma=\\frac{E_{\\chi,{\\rm cm}}}{m_\\chi}=\\frac{s+m_\\chi^2}{2\\sqrt{s}}\\frac{1}{m_\\chi}=\\frac{E_\\nu +m_\\chi}{\\sqrt{m_\\chi(2E_\\nu + m_\\chi)}}. $$ It is obvious that the numerator of $E_\\nu$ is always positive but the denominator is not when $2&lt;T_\\chi \\tan^2\\alpha/m_\\chi$. Thus $E_\\nu$ will turn negative and becomes unphysical. For the given $\\alpha$ and $m_\\chi$, the allowed range is $T_\\chi &lt; 2m_\\chi/\\tan^2\\alpha$. There is another root for $E_\\nu$ but it is always negative.\n",
    "\n",
    "Thus we have the differential $$ \\frac{dE_\\nu}{dT_\\chi}= \\frac{m_{\\chi}^{2}\\sec\\alpha(2\\sec\\alpha\\sqrt{T_{\\chi}(2m_{\\chi}+T_{\\chi})}+2m_{\\chi}+T_{\\chi}\\sec^{2}\\alpha+T_{\\chi})}{(T_{\\chi}\\tan^{2}\\alpha-2m_{\\chi})^2\\sqrt{T_{\\chi}(2m_{\\chi}+T_{\\chi})}}=\\frac{m_{\\chi}^{2}\\left(\\frac{2\\sqrt{T_{\\chi}\\left(2m_{\\chi}+T_{\\chi}\\right)}}{\\sqrt{1-\\frac{R^{2}\\sin^{2}\\theta}{r^{2}}}}+2m_{\\chi}+\\frac{T_{\\chi}}{1-\\frac{R^{2}\\sin^{2}\\theta}{r^{2}}}+2T_{\\chi}\\right)}{\\sqrt{T_{\\chi}\\left(2m_{\\chi}+T_{\\chi}\\right)}\\sqrt{1-\\frac{R^{2}\\sin^{2}\\theta}{r^{2}}}\\left(\\frac{R^{2}\\sin^{2}\\theta T_{\\chi}}{r^{2}-R^{2}\\sin^{2}\\theta}-2m_{\\chi}\\right){}^{2}} $$ No matter it is through root finding or analytical expression, both results should agree with each other.\n"
   ]
  },
  {
   "cell_type": "code",
   "execution_count": 4,
   "id": "241c2bba",
   "metadata": {},
   "outputs": [],
   "source": [
    "def gamma(Ev,mx):\n",
    "    \"\"\"\n",
    "    Calculate gamma factor in CM frame\n",
    "    \"\"\"\n",
    "    return (Ev + mx)/((mx**2+2*mx*Ev)**0.5)\n",
    "def g(Ev,mx,alpha):\n",
    "    \"\"\"\n",
    "    Calculate BDM angular distribution\n",
    "    \n",
    "    Input\n",
    "    ------\n",
    "    Ev: Neutrino energy\n",
    "    mx: DM mass\n",
    "    alpha: lab frame scattering angle in [0,Pi/2]\n",
    "    \n",
    "    Output\n",
    "    ------\n",
    "    g: PDF of scattering angle alpha\n",
    "    \"\"\"\n",
    "    # From Wen-Hua's note\n",
    "    if 0 <= alpha <= np.pi/2 and Ev>0: \n",
    "        gm = gamma(Ev,mx)\n",
    "        sec = 1/np.cos(alpha)\n",
    "        dndOmega = gm**2*sec**3/np.pi/(1+gm**2*np.tan(alpha)**2)**2\n",
    "        return dndOmega\n",
    "    else:\n",
    "        return 0\n",
    "\n",
    "\n",
    "def Tx(Ev,mx,alpha):\n",
    "    \"\"\"\n",
    "    Calculate DM kinetic energy, Eq. (28), and velocity, Eq. (30),\n",
    "    in terms of lab frame scattering angle\n",
    "    \n",
    "    Input\n",
    "    ------\n",
    "    Ev: Neutrino energy\n",
    "    mx: DM mass\n",
    "    alpha: lab frame scattering angle in [0,Pi/2]\n",
    "    \n",
    "    Output\n",
    "    ------\n",
    "    Tx: DM kinetic energy at alpha after scattering\n",
    "    \"\"\"\n",
    "    # gamma factor in CM frame\n",
    "    gm = gamma(Ev,mx)\n",
    "    # CM frame scattering angle\n",
    "    theta_c = 2*np.arctan(gm*np.tan(alpha))\n",
    "    \n",
    "    # Tmax in lab frame\n",
    "    Tmax = Ev**2/(Ev+0.5*mx)\n",
    "    Tchi = 0.5*Tmax*(1+np.cos(theta_c))\n",
    "    return Tchi\n",
    "\n",
    "\n",
    "def Ev(Tx,mx,alpha):\n",
    "    \"\"\"\n",
    "    Calculate the neutrino energy to produce DM kinetic energy at\n",
    "    lab frame scattering angle alpha via analytical expression.\n",
    "    Note that if Ev is negative then it is unphysical\n",
    "    \n",
    "    Input\n",
    "    ------\n",
    "    Tx: DM kinetic energy\n",
    "    mx: DM mass\n",
    "    alpha: scattering angle in lab frame\n",
    "    \n",
    "    Output\n",
    "    Ev: the corresponding neutrino energy\n",
    "    \"\"\"\n",
    "    sec = 1/np.cos(alpha)\n",
    "    enu = (Tx*sec**2 + sec*np.sqrt(Tx*(2*mx + Tx)))/(2 - Tx*np.tan(alpha)**2/mx)\n",
    "    return enu\n",
    "\n",
    "\n",
    "def dEvdTx(Tx,mx,alpha):\n",
    "    \"\"\"\n",
    "    Calculate dEv/dTx via analytical expression. Note that the given\n",
    "    inputs must lead to positive Ev or the corresponding dEvdTx would\n",
    "    be unphysical\n",
    "    \n",
    "    Input\n",
    "    ------\n",
    "    Tx: DM kinetic energy\n",
    "    mx: DM mass\n",
    "    alpha: scattering angle in lab frame\n",
    "    dTx: arbitrarity small number, default 1e-5\n",
    "    \n",
    "    Output\n",
    "    ------\n",
    "    dEv/dTx: the derivative of Ev over Tx\n",
    "    \"\"\"\n",
    "    sec = 1/np.cos(alpha)\n",
    "    numerator = mx**2*sec*(2*sec*np.sqrt(Tx*(2*mx + Tx)) + 2*mx + Tx*sec**2 + Tx)\n",
    "    denominator = (Tx*np.tan(alpha)**2 - 2*mx)**2*np.sqrt(Tx*(2*mx + Tx))\n",
    "    return numerator/denominator\n",
    "\n",
    "\n",
    "def vx(Tx,mx):\n",
    "    \"\"\"\n",
    "    The dimensionless DM velocity. To restore the physical unit, just\n",
    "    times the speed of light c\n",
    "    \n",
    "    Input\n",
    "    ------\n",
    "    Tx: DM kinetic energy\n",
    "    mx: DM mass\n",
    "    \n",
    "    Output\n",
    "    ------\n",
    "    vx: dimensionless DM velocity\n",
    "    \"\"\"\n",
    "    return np.sqrt(Tx*(Tx+2*mx))/(Tx+mx)\n",
    "\n",
    "def xemissivity(Tx,mx,alpha,r,rho=184,rs=24.42,Lv=Lv):\n",
    "    \"\"\"\n",
    "    Upscattered DM emissivity, note the returned result is divided by sigxv and light velocity\n",
    "    \n",
    "    Input\n",
    "    ------\n",
    "    Tx: DM kinetic energy, MeV\n",
    "    mx: DM mass, MeV\n",
    "    alpha: the scattering angle in lab frame\n",
    "    vx: the DM dimensionless velocity in terms of Tx and mx\n",
    "    r: the distance from the scattering point to GC, kpc\n",
    "    rho: DM halo characteristic density, default 184 MeV/cm^3\n",
    "    rs: DM halo characteristic length, default 24.42 kpc\n",
    "    tau: the duration of SN explosion, default 10 s\n",
    "    Lv: neutrino luminosity during the SN explosion, default 1e52 erg/s\n",
    "        note that the total luminosity released by a single SN explosion\n",
    "        should be Lv times the duration of that explosion, where the unit\n",
    "        per second will be eliminated from this procedure\n",
    "    \n",
    "    Output\n",
    "    ------\n",
    "    BDM emissivity: in the unit of per cm^3 per second\n",
    "    \"\"\"\n",
    "    # if Tx >= 2mx/tan(a)^2, Ev will turn negative (diverge at equal) which is unphysical\n",
    "    Enu = Ev(Tx,mx,alpha)\n",
    "    if Tx < 2*mx/np.tan(alpha)**2 and Enu >= 0:    \n",
    "        dEdT = dEvdTx(Tx,mx,alpha)\n",
    "        jx = nx(r,mx,rho,rs)*dnvdEv(r,Enu,Lv)*g(Enu,mx,alpha)*dEdT*c\n",
    "    else:\n",
    "        jx = 0\n",
    "    return jx\n"
   ]
  },
  {
   "cell_type": "code",
   "execution_count": 5,
   "id": "ea122b77",
   "metadata": {},
   "outputs": [
    {
     "data": {
      "text/plain": [
       "(0.01, 100)"
      ]
     },
     "execution_count": 5,
     "metadata": {},
     "output_type": "execute_result"
    },
    {
     "data": {
      "image/png": "[encoded data removed]",
      "text/plain": [
       "<Figure size 432x288 with 1 Axes>"
      ]
     },
     "metadata": {
      "needs_background": "light"
     },
     "output_type": "display_data"
    }
   ],
   "source": [
    "alpha_ls = np.linspace(0,0.22,1000)\n",
    "mx1 = 0.001\n",
    "mx2 = 5\n",
    "Tx = 20\n",
    "g1 = []\n",
    "g2 = []\n",
    "#gls_01keV = []\n",
    "for a in alpha_ls:\n",
    "    g1.append(2*np.pi*np.sin(a)*g(Ev(Tx,mx1,a*np.pi),mx1,a*np.pi))\n",
    "    g2.append(2*np.pi*np.sin(a)*g(Ev(Tx,mx2,a*np.pi),mx2,a*np.pi))\n",
    "\n",
    "plt.plot(alpha_ls,g1,label='$m_\\chi=$'+str(mx1)+' MeV')\n",
    "plt.plot(alpha_ls,g2,label='$m_\\chi=$'+str(mx2)+' MeV')\n",
    "plt.legend(loc='best')\n",
    "plt.xlabel(r'$\\alpha~[\\pi]$')\n",
    "plt.ylabel(r'$dn/d\\alpha$')\n",
    "plt.title('$T_\\chi =$'+str(Tx)+' MeV')\n",
    "plt.yscale('log')\n",
    "plt.ylim(1e-2,100)\n",
    "#plt.savefig('ang_dist.pdf',facecolor='white')"
   ]
  },
  {
   "cell_type": "markdown",
   "id": "4364fee3",
   "metadata": {},
   "source": [
    "\n",
    "Boosted DM flux at Earth\n",
    "\n",
    "The upscattered DM flux is given by $$ \\frac{d\\Phi^{N}(T_{\\chi},t)}{dT_{\\chi}}=2\\pi v_{\\chi}\\tau\\int_{\\cos\\theta_{{\\rm min}}}^{\\cos\\theta_{{\\rm max}}}d\\cos\\theta \\left. j_{\\chi}^{N}(r,T_{\\chi},\\alpha)\\right|_{\\frac{r}{c}+\\frac{\\ell}{v_{\\chi}}=t} $$ where $\\theta \\in [0,\\pi/2]$. Once $t$ is given, the corresponding $r$ is also known for specified $\\ell$ and $\\cos\\theta$ where $$ r=\\sqrt{\\ell^2+R^2-2\\ell R \\cos\\theta} $$ hence after solving $$ \\frac{r}{c}+\\frac{\\ell}{v_\\chi}=t $$ we have (I used Mathematica) $$ \\ell = \\frac{-\\sqrt{4 v_{\\chi }^2 \\left(c^2 t^2-R^2\\right) \\left(v_{\\chi }^2-c^2\\right)+v_{\\chi }^2 \\left(2 c^2 t-2 R \\cos \\theta v_{\\chi }\\right){}^2}+2 c^2 t v_{\\chi }-2 R \\cos \\theta v_{\\chi }^2}{2 \\left(c^2-v_{\\chi }^2\\right)}. $$ Note that $t$ consists of two parts. The first counts from the propagation time of SN neutrino from the explosion site to the upscattering point $r/c$ (assuming neutrino carries light speed). The second indicates the DM propagation time from the upscattering point to the Earth $\\ell/v_\\chi$.\n",
    "\n",
    "Some input, such as $t$, have no physical solutions for both $\\ell$ and $r$ (one or both of them would be negative). Therefore the contribution from such $t$ to the emissivity $j_\\chi^N$ should be removed manually.\n",
    "\n",
    "Another trouble happens when we use $\\sin\\alpha =R\\sin\\theta/r$ to obtain $\\alpha$. The two cases are degenerate $\\sin\\alpha = \\sin(\\pi-\\alpha)$. Numpy function arcsin only returns $\\alpha&lt;\\pi/2$ result, despite sometimes the true $\\alpha$ is larger than $\\pi/2$. So instead of using the law of sine, I implemented the law of cosine which will return the true $\\alpha$ even it is larger than $\\pi/2$.\n",
    "\n",
    "Since $\\ell$ and $r$ are known, we have $$ \\cos(\\pi-\\alpha)=\\frac{r^2+\\ell^2-R^2}{2r\\ell} $$ thus $$ \\alpha =\\cos^{-1}\\left(\\frac{R^2-r^2-\\ell^2}{2r\\ell}\\right). $$ The above guarantees the true $\\alpha$ can be faithfully revealed.\n",
    "Simplified expression for $\\ell$\n",
    "\n",
    "We can have more simplified expression for $\\ell$ with $$ r + \\frac{\\ell}{v_\\chi} = ct \\equiv\\zeta $$ where $r$, $\\ell$ and $\\zeta$ are in kpc and $v_\\chi$ is dimensionless velocity. Thus, $$ \\ell = \\frac{-\\sqrt{4 \\left(\\zeta ^2-R^2\\right) \\left(v_{\\chi }^2-1\\right) v_{\\chi }^2+v_{\\chi }^2 \\left(2 \\zeta -2 R \\cos \\theta v_{\\chi }\\right){}^2}+2 R \\cos \\theta v_{\\chi }^2-2 \\zeta v_{\\chi }}{2 \\left(v_{\\chi }^2-1\\right)}. $$ Note that $t$ is the total propagation time timing from the upscattering point.\n",
    "The longest time-of-arrival at Earth for a given $m_\\chi$ and $T_\\chi$\n",
    "\n",
    "Given the upscattered DM kinetic energy $T_\\chi$, it has an associated velocity $$ v_\\chi= \\frac{\\sqrt{T_\\chi(T_\\chi+2m_\\chi)}}{T_\\chi + m_\\chi}. $$ Suppose the minimum upscattered position from the MW center is $r_0$, the total propagation distance is $R-r_0$ and the propagation time is $(R-r_0)/v_\\chi$. The time-of-arrival $t_{\\rm toa}$ is measured after the first arrival of SN neutrino at Earth from the MW center that is $t_\\nu=R/c$. Thus, $$ t_{\\rm toa} = \\frac{R-r_0}{v_\\chi} - t_\\nu $$\n"
   ]
  },
  {
   "cell_type": "code",
   "execution_count": 6,
   "id": "af00fa6d",
   "metadata": {},
   "outputs": [],
   "source": [
    "def Root_Finding(theta, t,vx,R = 8.5,r_cut=0.001):\n",
    "    \"\"\"\n",
    "    Find l, r and alpha when t, cos\\theta, R and vx are given\n",
    "    \n",
    "    Input\n",
    "    ------\n",
    "    t: timing in seconds, 0 starts from the first arrival of the SN neutrino at Earth\n",
    "    theta: in rad\n",
    "    vx: dimensionless DM velocity, v/c\n",
    "    R: R in kpc, default 8.5 kpc\n",
    "    r_cut: the inner most galactic region should be considered, default is 0.001 kpc\n",
    "    \n",
    "    Output\n",
    "    ------\n",
    "    tuple: (l,r,alpha,flag)\n",
    "           flag is a string label, physical/unphysical, where unphysical\n",
    "           result should be considered zero contribution to the emissivity\n",
    "    \"\"\"\n",
    "    cos = np.cos(theta)\n",
    "    zeta = c*t/kpc2cm + R\n",
    "    \n",
    "    l = (-2*zeta*vx+2*cos*R*vx**2 + np.sqrt(vx**2*(2*zeta-2*cos*R*vx)**2 + 4*(-R**2+zeta**2)*vx**2*(-1+vx**2)))/(2*(-1+vx**2))\n",
    "    r = np.sqrt(l**2 + R**2 - 2*l*R*cos)\n",
    "    alpha = np.arccos((R**2-r**2-l**2)/(2*r*l))\n",
    "    # Avoid Unphysical Geometry\n",
    "\n",
    "    if l > 0 and r > 0 and r > r_cut and 0 <= alpha <= 0.5*np.pi:\n",
    "        flag = 'physical'\n",
    "    else:\n",
    "        flag = 'unphysical'\n",
    "    return l,r,alpha,flag"
   ]
  },
  {
   "cell_type": "code",
   "execution_count": 7,
   "id": "a99847e8",
   "metadata": {},
   "outputs": [],
   "source": [
    "def bdmflux(t,Tx,mx,tau=10,sigxv=1e-45,rho=184,rs=24.42,Lv=Lv,R=8.5,r_cut=0.001):\n",
    "    \"\"\"\n",
    "    Boosted DM flux at Earth, per cm^2 per second\n",
    "    \n",
    "    Input\n",
    "    ------\n",
    "    t: time in second, 0 starts from the arrival of SN neutrino\n",
    "    Tx: DM kinetic energy, in MeV\n",
    "    mx: DM mass, in MeV\n",
    "    tau: the duration of SN explosion, default 10 s\n",
    "    sigxv: DM-neutrino scattering cross section, default 1e-45 cm^2\n",
    "    rho: NFW halo profile characteristic density, default 184 MeV/cm^3\n",
    "    rs: NFW halo profile characteristic length, default 24.42 kpc\n",
    "    Lv: SN neutrino luminosity, default 1e52 erg/s\n",
    "    R: distance between Sun and GC, default 8.5 kpc\n",
    "    r_cut: the inner most galactic region should be considered, default is 0.001 kpc\n",
    "    \n",
    "    Output\n",
    "    ------\n",
    "    BDM flux: in the unit of per cm^2 per second for a given t\n",
    "    \"\"\"\n",
    "    #rf = R/c\n",
    "    #ts = (c*t+R)/R\n",
    "    #rs_in_rf = rs/R\n",
    "    \n",
    "    # find DM velocity\n",
    "    beta = vx(Tx,mx)\n",
    "\n",
    "    def f(theta): \n",
    "        #return test.bdmflux_f(theta,t,R,Tx,mx)\n",
    "        l,r,alpha,flag = Root_Finding(theta,t,beta,R) # solve geometry\n",
    "        \n",
    "        if flag == 'unphysical':\n",
    "            return 0\n",
    "        \n",
    "        # Geometric Terms\n",
    "        geometric_terms = np.sin(theta) *2*np.pi \n",
    "\n",
    "        # Physical terms\n",
    "        physical_terms = sigxv*tau*xemissivity(Tx,mx,alpha,r,rho,rs,Lv)\n",
    "        \n",
    "        physical_terms /= (l-R*np.cos(theta))/r*beta+1\n",
    "        \n",
    "        return geometric_terms*physical_terms\n",
    "    \n",
    "    result = integrate.quad(f,0.1,np.pi/2)[0]\n",
    "    result += integrate.quad(f,0.01,0.1)[0]\n",
    "    result += integrate.quad(f,0.001,0.01)[0]\n",
    "    result += integrate.quad(f,0.0001,0.001)[0]\n",
    "    result += integrate.quad(f,0.00001,0.0001)[0]\n",
    "    result += integrate.quad(f,0,0.00001)[0]\n",
    "    \n",
    "    return result*beta*c"
   ]
  },
  {
   "cell_type": "code",
   "execution_count": 8,
   "id": "52a78f60",
   "metadata": {},
   "outputs": [
    {
     "name": "stderr",
     "output_type": "stream",
     "text": [
      "/tmp/ipykernel_4800/4149479579.py:24: RuntimeWarning: invalid value encountered in double_scalars\n",
      "  alpha = np.arccos((R**2-r**2-l**2)/(2*r*l))\n",
      "/tmp/ipykernel_4800/1503229900.py:22: RuntimeWarning: overflow encountered in exp\n",
      "  return (1/18.9686)*(1/Tv**3)*(Ev**2/(np.exp(Ev/Tv - 3)+1))\n",
      "/tmp/ipykernel_4800/4149479579.py:24: RuntimeWarning: invalid value encountered in arccos\n",
      "  alpha = np.arccos((R**2-r**2-l**2)/(2*r*l))\n",
      "/tmp/ipykernel_4800/4221747973.py:140: RuntimeWarning: divide by zero encountered in double_scalars\n",
      "  if Tx < 2*mx/np.tan(alpha)**2 and Enu >= 0:\n",
      "/tmp/ipykernel_4800/4149479579.py:24: RuntimeWarning: divide by zero encountered in double_scalars\n",
      "  alpha = np.arccos((R**2-r**2-l**2)/(2*r*l))\n"
     ]
    }
   ],
   "source": [
    "# All in MeV\n",
    "mx1 = 0.001\n",
    "mx2 = 0.01\n",
    "mx3 = 0.1\n",
    "mx4 = 1\n",
    "Tx1 = 20\n",
    "#Tx2 = 50\n",
    "\"\"\"theta =np.linspace(0,np.pi/2,1000)\n",
    "flux = []\n",
    "for i in theta:\n",
    "    flux.append(bdmflux(i,1*yr,5,1,r_cut=0.01))\n",
    "plt.plot(theta,flux)\n",
    "plt.show()\n",
    "\"\"\"# years\n",
    "yrls=np.logspace(-6,3,1000)\n",
    "\n",
    "fluxmx1_20=[]\n",
    "for y in yrls:\n",
    "    fluxmx1_20.append(bdmflux(y*yr,Tx1,mx1,r_cut=0.01))\n",
    "\n",
    "fluxmx2_20=[]\n",
    "for y in yrls:\n",
    "    fluxmx2_20.append(bdmflux(y*yr,Tx1,mx2,r_cut=0.01))\n",
    "    \n",
    "fluxmx3_20=[]\n",
    "for y in yrls:\n",
    "    fluxmx3_20.append(bdmflux(y*yr,Tx1,mx3,r_cut=0.01))\n",
    "\n",
    "fluxmx4_20=[]\n",
    "for y in yrls:\n",
    "    fluxmx4_20.append(bdmflux(y*yr,Tx1,mx4,r_cut=0.01))\n"
   ]
  },
  {
   "cell_type": "code",
   "execution_count": 9,
   "id": "24d353dc",
   "metadata": {},
   "outputs": [
    {
     "data": {
      "image/png": "[encoded data removed]",
      "text/plain": [
       "<Figure size 432x288 with 1 Axes>"
      ]
     },
     "metadata": {
      "needs_background": "light"
     },
     "output_type": "display_data"
    }
   ],
   "source": [
    "\n",
    "\n",
    "plt.plot(yrls,fluxmx1_20,label='$m_\\chi=$'+str(mx1)+' MeV')\n",
    "plt.plot(yrls,fluxmx2_20,label='$m_\\chi=$' +str(mx2)+' MeV')\n",
    "plt.plot(yrls,fluxmx3_20,label='$m_\\chi=$' +str(mx3)+' MeV')\n",
    "plt.plot(yrls,fluxmx4_20,label='$m_\\chi=$' +str(mx4)+' MeV')\n",
    "plt.xscale('log')\n",
    "plt.yscale('log')\n",
    "plt.xlabel('yr')\n",
    "plt.ylabel(r'$d\\Phi_{B\\chi}/dT_\\chi~[{\\rm MeV^{-1}\\,cm^{-2}\\,s^{-1}}]$')\n",
    "plt.title(r'$T_\\chi =$'+str(Tx1)+' MeV')\n",
    "plt.legend(loc='best')\n",
    "plt.ylim(1e-21,1e-9)\n",
    "#plt.savefig('time_dependent_flux_20MeV_2.pdf',facecolor='white',bbox_inches='tight')\n",
    "plt.show()\n",
    "\n"
   ]
  },
  {
   "cell_type": "markdown",
   "id": "43d749c9",
   "metadata": {},
   "source": [
    "\n",
    "\n",
    "We can make an approximation that $dn/d\\alpha=\\delta(\\alpha)$, this is generally true for $m_\\chi \\ll E_\\nu$. By the identity $\\delta(\\alpha(\\theta))=\\delta(\\theta)/|\\alpha^\\prime(0)|$ we have $$ \\alpha^\\prime(\\theta)=\\frac{R}{r}\\frac{\\cos\\theta}{\\sqrt{1-\\frac{R^2}{r^2}\\sin^2\\theta}}\\to \\alpha^\\prime(0)=\\frac{R}{r} $$ and $$ g(\\alpha)=\\frac{dn}{d\\Omega}=\\frac{1}{2\\pi \\sin\\alpha}\\frac{dn}{d\\alpha}=\\frac{\\delta(\\alpha)}{2\\pi \\sin\\alpha}. $$ Note that in the above derivation we used the law of sine $\\sin\\alpha = R\\sin\\theta/r$.\n",
    "\n",
    "Thus, the BDM flux integration becomes $$\\begin{align*} \\frac{d\\Phi^{N}(T_{\\chi},t)}{dT_{\\chi}} &amp; =2\\pi v_{\\chi}\\tau c\\sigma_{\\chi\\nu}\\int n_{\\chi}(r)\\frac{dn_{\\nu}}{dE_{\\nu}}g(\\alpha,E_{\\nu})\\frac{dE_{\\nu}}{dT_{\\chi}}\\sin\\theta d\\theta\\\\ &amp; =v_{\\chi}\\tau c\\sigma_{\\chi\\nu}\\int n_{\\chi}(r)\\frac{dn_{\\nu}}{dE_{\\nu}}\\frac{r^{2}}{R^{2}}\\delta(\\theta)\\frac{dE_{\\nu}}{dT_{\\chi}}d\\theta\\\\ &amp; =\\left.\\frac{r^{2}}{R^{2}}v_{\\chi}\\tau c\\sigma_{\\chi\\nu}n_{\\chi}(r)\\frac{dn_{\\nu}}{dE_{\\nu}}\\frac{dE_{\\nu}(\\alpha=0)}{dT_{\\chi}}\\right|_{\\frac{r}{c}+\\frac{\\ell}{v_{\\chi}}=t}. \\end{align*}$$ Since this is single-direction approximation, it has $\\ell = R-r$. Thus, $$ r = \\frac{R-v_\\chi t}{1-v_\\chi/c} $$ In addition, $$ E_\\nu(\\theta=0) = \\frac{1}{2}(T_\\chi+\\sqrt{T_\\chi(2m_\\chi+T_\\chi)}) $$ and $$ \\frac{dE_\\nu}{dT_\\chi}(\\theta=0) = \\frac{2m_\\chi+3T_\\chi+2\\sqrt{T_\\chi(2m_\\chi+T_\\chi)}}{4\\sqrt{T_\\chi(2m_\\chi+T_\\chi)}} $$\n"
   ]
  },
  {
   "cell_type": "code",
   "execution_count": 10,
   "id": "e90e7fd8",
   "metadata": {},
   "outputs": [],
   "source": [
    "def bdmflux_single(t,Tx,mx,sigxv=1e-45,tau=10,rho=184,rs=24.42,Lv=Lv,R=8.5):\n",
    "    \"\"\"\n",
    "    Upscattered DM emissivity, note the returned result is divided by sigxv and light velocity\n",
    "    \n",
    "    Input\n",
    "    ------\n",
    "    Tx: DM kinetic energy, MeV\n",
    "    mx: DM mass, MeV\n",
    "    alpha: the scattering angle in lab frame\n",
    "    vx: the DM dimensionless velocity in terms of Tx and mx\n",
    "    r: the distance from the scattering point to GC, kpc\n",
    "    rho: DM halo characteristic density, default 184 MeV/cm^3\n",
    "    rs: DM halo characteristic length, default 24.42 kpc\n",
    "    tau: the duration of SN explosion, default 10 s\n",
    "    Lv: neutrino luminosity during the SN explosion, default 1e52 erg/s\n",
    "        note that the total luminosity released by a single SN explosion\n",
    "        should be Lv times the duration of that explosion, where the unit\n",
    "        per second will be eliminated from this procedure\n",
    "    \n",
    "    Output\n",
    "    ------\n",
    "    BDM emissivity: in the unit of per cm^3 per second\n",
    "    \"\"\"  \n",
    "    vdm = vx(Tx,mx)\n",
    "    tv = R*kpc2cm/c\n",
    "    r = (R - vdm*c*(t+tv)/kpc2cm)/(1-vdm)\n",
    "    if r >= 0:\n",
    "        Enu = (Tx+np.sqrt(Tx*(2*mx + Tx)))/2\n",
    "        dEdT = (2*mx+3*Tx+2*np.sqrt(Tx*(2*mx+Tx)))/4/np.sqrt(Tx*(2*mx+Tx))\n",
    "        jx = vdm*c*tau*c*sigxv*nx(r,mx,rho,rs)*dnvdEv(r,Enu,Lv)*dEdT*r**2/R**2\n",
    "        jx /= 1-vdm\n",
    "    else: jx = 0    \n",
    "    return jx"
   ]
  },
  {
   "cell_type": "code",
   "execution_count": 11,
   "id": "497ab5f7",
   "metadata": {},
   "outputs": [],
   "source": [
    "# All in MeV\n",
    "mx1 = 0.001\n",
    "mx2 = 0.01\n",
    "mx3 = 0.1\n",
    "mx4 = 1\n",
    "Tx = 20\n",
    "\n",
    "# years\n",
    "#yrls=np.logspace(-6,3,1000)\n",
    "\n",
    "fluxmx1_single=[]\n",
    "for y in yrls:\n",
    "    fluxmx1_single.append(bdmflux_single(y*yr,Tx,mx1))\n",
    "\n",
    "fluxmx2_single=[]\n",
    "for y in yrls:\n",
    "    fluxmx2_single.append(bdmflux_single(y*yr,Tx,mx2))\n",
    "    \n",
    "fluxmx3_single=[]\n",
    "for y in yrls:\n",
    "    fluxmx3_single.append(bdmflux_single(y*yr,Tx,mx3))\n",
    "\n",
    "fluxmx4_single=[]\n",
    "for y in yrls:\n",
    "    fluxmx4_single.append(bdmflux_single(y*yr,Tx,mx4))"
   ]
  },
  {
   "cell_type": "code",
   "execution_count": 12,
   "id": "8b4f4408",
   "metadata": {},
   "outputs": [
    {
     "data": {
      "image/png": "[encoded data removed]",
      "text/plain": [
       "<Figure size 432x288 with 1 Axes>"
      ]
     },
     "metadata": {
      "needs_background": "light"
     },
     "output_type": "display_data"
    }
   ],
   "source": [
    "\n",
    "\n",
    "plt.plot(yrls,fluxmx1_single,label='$m_\\chi=$' +str(mx1) +' MeV')\n",
    "plt.plot(yrls,fluxmx2_single,label='$m_\\chi=$' +str(mx2) +' MeV')\n",
    "plt.plot(yrls,fluxmx3_single,label='$m_\\chi=$' +str(mx3) +' MeV')\n",
    "plt.plot(yrls,fluxmx4_single,label='$m_\\chi=$' +str(mx4) +' MeV')\n",
    "plt.xscale('log')\n",
    "plt.yscale('log')\n",
    "plt.xlabel('yr')\n",
    "plt.ylabel(r'$d\\Phi^N/dT_\\chi$')\n",
    "plt.title(r'$T_\\chi =$'+str(Tx)+' MeV')\n",
    "plt.legend(loc='best')\n",
    "plt.show()\n",
    "\n"
   ]
  },
  {
   "cell_type": "code",
   "execution_count": 13,
   "id": "00cd6423",
   "metadata": {},
   "outputs": [
    {
     "data": {
      "image/png": "[encoded data removed]",
      "text/plain": [
       "<Figure size 432x288 with 1 Axes>"
      ]
     },
     "metadata": {
      "needs_background": "light"
     },
     "output_type": "display_data"
    }
   ],
   "source": [
    "# comparison: single and multiple -directions \n",
    "plt.plot(yrls,fluxmx1_20,color='royalblue',label='$m_\\chi=$' +str(mx1) +' MeV')\n",
    "plt.plot(yrls,fluxmx1_single,'--',color='royalblue',label='$m_\\chi=$' +str(mx1) +' MeV, single')\n",
    "plt.plot(yrls,fluxmx3_20,color='red',label='$m_\\chi=$' +str(mx3) +' MeV')\n",
    "plt.plot(yrls,fluxmx3_single,'--',color='red',label='$m_\\chi=$' +str(mx3) +' MeV, single')\n",
    "plt.xscale('log')\n",
    "plt.yscale('log')\n",
    "plt.legend(loc='best')\n",
    "plt.ylim(1e-19,1e-7)\n",
    "plt.xlabel('yr')\n",
    "plt.ylabel(r'$d\\Phi^N/dT_\\chi$')\n",
    "plt.title(r'$T_\\chi =$'+str(Tx)+' MeV')\n",
    "plt.savefig('single_multiple.pdf')"
   ]
  },
  {
   "cell_type": "markdown",
   "id": "5ca2e76a",
   "metadata": {},
   "source": [
    "Although bdmflux profiles look quite different for multi-direction and single-direction, their accumulated bdm number is actually very close to each other."
   ]
  },
  {
   "cell_type": "code",
   "execution_count": 14,
   "id": "fab5a9e2",
   "metadata": {},
   "outputs": [
    {
     "name": "stderr",
     "output_type": "stream",
     "text": [
      "/tmp/ipykernel_4800/4149479579.py:24: RuntimeWarning: invalid value encountered in double_scalars\n",
      "  alpha = np.arccos((R**2-r**2-l**2)/(2*r*l))\n",
      "/tmp/ipykernel_4800/1503229900.py:22: RuntimeWarning: overflow encountered in exp\n",
      "  return (1/18.9686)*(1/Tv**3)*(Ev**2/(np.exp(Ev/Tv - 3)+1))\n",
      "/tmp/ipykernel_4800/4149479579.py:24: RuntimeWarning: invalid value encountered in arccos\n",
      "  alpha = np.arccos((R**2-r**2-l**2)/(2*r*l))\n",
      "/tmp/ipykernel_4800/4149479579.py:24: RuntimeWarning: divide by zero encountered in double_scalars\n",
      "  alpha = np.arccos((R**2-r**2-l**2)/(2*r*l))\n",
      "/tmp/ipykernel_4800/4221747973.py:140: RuntimeWarning: divide by zero encountered in double_scalars\n",
      "  if Tx < 2*mx/np.tan(alpha)**2 and Enu >= 0:\n"
     ]
    },
    {
     "data": {
      "image/png": "[encoded data removed]",
      "text/plain": [
       "<Figure size 432x288 with 1 Axes>"
      ]
     },
     "metadata": {
      "needs_background": "light"
     },
     "output_type": "display_data"
    }
   ],
   "source": [
    "Tx = 5 # MeV\n",
    "\n",
    "def Accumulated_bdmnumber(Tx,mx,tau=10,sigxv=1e-45,rho=184,rs=24.42,Lv=Lv,R=8.5,r_cut=0.001):\n",
    "    def f(t):\n",
    "        return bdmflux(t,Tx,mx,tau,sigxv,rho,rs,Lv,R,r_cut)\n",
    "    vdm = vx(Tx,mx)\n",
    "    tv = R*kpc2cm/c\n",
    "    t_crit =  tv*(1/vdm-1)\n",
    "    tmax = np.min([t_crit*10**(1-np.log10(mx)),30*yr])\n",
    "    return integrate.quad(f,0,tmax)[0]\n",
    "\n",
    "def Accumulated_bdmnumber_single(Tx,mx,sigxv=1e-45,tau=10,rho=184,rs=24.42,Lv=Lv,R=8.5,r_cut=0.001):\n",
    "    vdm = vx(Tx,mx)\n",
    "    tv = R*kpc2cm/c\n",
    "    t_crit =  tv*(1/vdm-1)\n",
    "    tmax = np.min([t_crit*0.99999,30*yr])\n",
    "    def f(t):\n",
    "        if t>=t_crit:\n",
    "            return 0.\n",
    "        return bdmflux_single(t,Tx,mx)\n",
    "    return integrate.quad(f,0,tmax)[0]\n",
    "\n",
    "Accumulated_BDMflux = []\n",
    "Accumulated_BDMflux_single = []\n",
    "\n",
    "mx=np.logspace(-4,0,20)\n",
    "\n",
    "for i in range(len(mx)):\n",
    "    Accumulated_BDMflux.append(Accumulated_bdmnumber(Tx,mx[i]))\n",
    "    Accumulated_BDMflux_single.append(Accumulated_bdmnumber_single(Tx,mx[i]))\n",
    "    \n",
    "plt.plot(mx,Accumulated_BDMflux,color='royalblue',label='$multiple-direction$')\n",
    "plt.plot(mx,Accumulated_BDMflux_single,color='red',label='$single-direction$')\n",
    "plt.xscale('log')\n",
    "plt.yscale('log')\n",
    "plt.legend(loc='best')\n",
    "plt.title(r'$T_\\chi =$'+str(Tx)+' MeV')\n",
    "#plt.ylim(1e-19,1e-7)\n",
    "plt.xlabel('mx(MeV)')\n",
    "plt.ylabel(r'$Accumulated BDM Number$')\n",
    "plt.show()"
   ]
  },
  {
   "cell_type": "code",
   "execution_count": 15,
   "id": "ff48fccf",
   "metadata": {},
   "outputs": [
    {
     "data": {
      "image/png": "[encoded data removed]",
      "text/plain": [
       "<Figure size 432x288 with 1 Axes>"
      ]
     },
     "metadata": {
      "needs_background": "light"
     },
     "output_type": "display_data"
    }
   ],
   "source": [
    "ratio = np.array(Accumulated_BDMflux)/np.array(Accumulated_BDMflux_single)\n",
    "plt.plot(mx,ratio,color='royalblue',label='$multiple/single ratio$')\n",
    "plt.xscale('log')\n",
    "#plt.yscale('log')\n",
    "plt.legend(loc='best')\n",
    "#Eplt.title(r'$T_\\chi =$'+str(Tx)+' MeV')\n",
    "#plt.ylim(1e-19,1e-7)\n",
    "plt.xlabel('mx(MeV)')\n",
    "plt.ylabel('ratio')\n",
    "plt.show()"
   ]
  },
  {
   "cell_type": "code",
   "execution_count": null,
   "id": "fa38d5e6",
   "metadata": {},
   "outputs": [],
   "source": [
    "def Total_BDM(mx,tau=10,sigxv=1e-45,rho=184,rs=24.42,Lv=Lv,R=8.5,r_cut=0.001):\n",
    "    def f(tx):\n",
    "        return Accumulated_bdmnumber(tx,mx)\n",
    "    return integrate.quad(f,0.1,100)[0]\n",
    "\n",
    "def Total_BDM_single(mx,tau=10,sigxv=1e-45,rho=184,rs=24.42,Lv=Lv,R=8.5,r_cut=0.001):\n",
    "    def f(tx):\n",
    "        return Accumulated_bdmnumber_single(tx,mx)\n",
    "    return integrate.quad(f,0.1,100)[0]\n",
    "\n",
    "print(Total_BDM(1e-3))\n",
    "print(Total_BDM_single(1e-3))"
   ]
  },
  {
   "cell_type": "code",
   "execution_count": 16,
   "id": "f4d003ce",
   "metadata": {},
   "outputs": [
    {
     "name": "stderr",
     "output_type": "stream",
     "text": [
      "/tmp/ipykernel_4800/4149479579.py:24: RuntimeWarning: invalid value encountered in arccos\n",
      "  alpha = np.arccos((R**2-r**2-l**2)/(2*r*l))\n",
      "/tmp/ipykernel_4800/1503229900.py:22: RuntimeWarning: overflow encountered in exp\n",
      "  return (1/18.9686)*(1/Tv**3)*(Ev**2/(np.exp(Ev/Tv - 3)+1))\n",
      "/tmp/ipykernel_4800/4221747973.py:140: RuntimeWarning: divide by zero encountered in double_scalars\n",
      "  if Tx < 2*mx/np.tan(alpha)**2 and Enu >= 0:\n",
      "/tmp/ipykernel_4800/1347830951.py:10: IntegrationWarning: The maximum number of subdivisions (50) has been achieved.\n",
      "  If increasing the limit yields no improvement it is advised to analyze \n",
      "  the integrand in order to determine the difficulties.  If the position of a \n",
      "  local difficulty can be determined (singularity, discontinuity) one will \n",
      "  probably gain from splitting up the interval and calling the integrator \n",
      "  on the subranges.  Perhaps a special-purpose integrator should be used.\n",
      "  return integrate.quad(f,0,tmax)[0]\n"
     ]
    },
    {
     "name": "stdout",
     "output_type": "stream",
     "text": [
      "0\n",
      "1\n",
      "2\n"
     ]
    },
    {
     "name": "stderr",
     "output_type": "stream",
     "text": [
      "/tmp/ipykernel_4800/4149479579.py:24: RuntimeWarning: invalid value encountered in double_scalars\n",
      "  alpha = np.arccos((R**2-r**2-l**2)/(2*r*l))\n"
     ]
    },
    {
     "name": "stdout",
     "output_type": "stream",
     "text": [
      "3\n"
     ]
    },
    {
     "name": "stderr",
     "output_type": "stream",
     "text": [
      "/tmp/ipykernel_4800/4149479579.py:24: RuntimeWarning: divide by zero encountered in double_scalars\n",
      "  alpha = np.arccos((R**2-r**2-l**2)/(2*r*l))\n"
     ]
    },
    {
     "name": "stdout",
     "output_type": "stream",
     "text": [
      "4\n",
      "5\n",
      "6\n",
      "7\n",
      "8\n",
      "9\n",
      "10\n",
      "11\n",
      "12\n",
      "13\n",
      "14\n",
      "15\n",
      "16\n",
      "17\n",
      "18\n",
      "19\n",
      "20\n",
      "21\n",
      "22\n",
      "23\n",
      "24\n",
      "25\n",
      "26\n",
      "27\n",
      "28\n",
      "29\n",
      "30\n",
      "31\n",
      "32\n",
      "33\n",
      "34\n",
      "35\n",
      "36\n",
      "37\n",
      "38\n",
      "39\n",
      "40\n",
      "41\n",
      "42\n",
      "43\n",
      "44\n",
      "45\n",
      "46\n",
      "47\n",
      "48\n",
      "49\n"
     ]
    },
    {
     "data": {
      "image/png": "[encoded data removed]",
      "text/plain": [
       "<Figure size 432x288 with 1 Axes>"
      ]
     },
     "metadata": {
      "needs_background": "light"
     },
     "output_type": "display_data"
    }
   ],
   "source": [
    "Accumulated_BDMflux = []\n",
    "Accumulated_BDMflux_single = []\n",
    "\n",
    "Tx=np.linspace(1,60,50)\n",
    "mx = 1e-3\n",
    "\n",
    "for i in range(len(Tx)):\n",
    "    Accumulated_BDMflux.append(Accumulated_bdmnumber(Tx[i],mx))\n",
    "    Accumulated_BDMflux_single.append(Accumulated_bdmnumber_single(Tx[i],mx))\n",
    "    print(i)\n",
    "plt.plot(Tx,Accumulated_BDMflux,color='royalblue',label='$multiple-direction$')\n",
    "plt.plot(Tx,Accumulated_BDMflux_single,color='red',label='$single-direction$')\n",
    "#plt.xscale('log')\n",
    "#plt.yscale('log')\n",
    "plt.legend(loc='best')\n",
    "plt.title(r'$m_\\chi =$'+str(mx)+' MeV')\n",
    "#plt.ylim(1e-19,1e-7)\n",
    "plt.xlabel('Tx(MeV)')\n",
    "plt.ylabel(r'$Accumulated BDM Number$')\n",
    "plt.show()"
   ]
  },
  {
   "cell_type": "code",
   "execution_count": 17,
   "id": "d7f2b8b8",
   "metadata": {},
   "outputs": [
    {
     "name": "stdout",
     "output_type": "stream",
     "text": [
      "0.00010738052331982116\n",
      "0.0001379759241292064\n"
     ]
    }
   ],
   "source": [
    "sum1 = np.sum(Accumulated_BDMflux)\n",
    "sum2 = np.sum(Accumulated_BDMflux_single)\n",
    "print(sum1)\n",
    "print(sum2)"
   ]
  },
  {
   "cell_type": "code",
   "execution_count": 34,
   "id": "c986080a",
   "metadata": {},
   "outputs": [
    {
     "name": "stderr",
     "output_type": "stream",
     "text": [
      "/tmp/ipykernel_3941/4149479579.py:24: RuntimeWarning: invalid value encountered in arccos\n",
      "  alpha = np.arccos((R**2-r**2-l**2)/(2*r*l))\n",
      "/tmp/ipykernel_3941/4221747973.py:140: RuntimeWarning: divide by zero encountered in double_scalars\n",
      "  if Tx < 2*mx/np.tan(alpha)**2 and Enu >= 0:\n"
     ]
    },
    {
     "name": "stdout",
     "output_type": "stream",
     "text": [
      "0\n"
     ]
    },
    {
     "name": "stderr",
     "output_type": "stream",
     "text": [
      "/tmp/ipykernel_3941/1503229900.py:22: RuntimeWarning: overflow encountered in exp\n",
      "  return (1/18.9686)*(1/Tv**3)*(Ev**2/(np.exp(Ev/Tv - 3)+1))\n"
     ]
    },
    {
     "name": "stdout",
     "output_type": "stream",
     "text": [
      "1\n",
      "2\n",
      "3\n",
      "4\n",
      "5\n",
      "6\n",
      "7\n",
      "8\n",
      "9\n",
      "10\n",
      "11\n",
      "12\n",
      "13\n",
      "14\n",
      "15\n",
      "16\n",
      "17\n",
      "18\n",
      "19\n",
      "20\n",
      "21\n",
      "22\n",
      "23\n",
      "24\n",
      "25\n",
      "26\n",
      "27\n",
      "28\n",
      "29\n",
      "30\n",
      "31\n",
      "32\n",
      "33\n",
      "34\n",
      "35\n",
      "36\n",
      "37\n",
      "38\n",
      "39\n",
      "40\n",
      "41\n",
      "42\n"
     ]
    },
    {
     "name": "stderr",
     "output_type": "stream",
     "text": [
      "/tmp/ipykernel_3941/4149479579.py:24: RuntimeWarning: divide by zero encountered in double_scalars\n",
      "  alpha = np.arccos((R**2-r**2-l**2)/(2*r*l))\n"
     ]
    },
    {
     "name": "stdout",
     "output_type": "stream",
     "text": [
      "43\n",
      "44\n",
      "45\n",
      "46\n",
      "47\n",
      "48\n",
      "49\n"
     ]
    },
    {
     "data": {
      "image/png": "[encoded data removed]",
      "text/plain": [
       "<Figure size 432x288 with 1 Axes>"
      ]
     },
     "metadata": {
      "needs_background": "light"
     },
     "output_type": "display_data"
    }
   ],
   "source": [
    "Accumulated_BDMflux = []\n",
    "Accumulated_BDMflux_single = []\n",
    "\n",
    "Tx=np.linspace(1,60,50)\n",
    "mx = 1e-2\n",
    "\n",
    "for i in range(len(Tx)):\n",
    "    Accumulated_BDMflux.append(Accumulated_bdmnumber(Tx[i],mx))\n",
    "    Accumulated_BDMflux_single.append(Accumulated_bdmnumber_single(Tx[i],mx))\n",
    "    print(i)\n",
    "plt.plot(Tx,Accumulated_BDMflux,color='royalblue',label='$multiple-direction$')\n",
    "plt.plot(Tx,Accumulated_BDMflux_single,color='red',label='$single-direction$')\n",
    "#plt.xscale('log')\n",
    "#plt.yscale('log')\n",
    "plt.legend(loc='best')\n",
    "plt.title(r'$m_\\chi =$'+str(mx)+' MeV')\n",
    "#plt.ylim(1e-19,1e-7)\n",
    "plt.xlabel('Tx(MeV)')\n",
    "plt.ylabel(r'$Accumulated BDM Number$')\n",
    "plt.show()"
   ]
  },
  {
   "cell_type": "code",
   "execution_count": 35,
   "id": "6619cc32",
   "metadata": {},
   "outputs": [
    {
     "name": "stdout",
     "output_type": "stream",
     "text": [
      "1.0055118544102189e-05\n",
      "1.3795730977661697e-05\n"
     ]
    }
   ],
   "source": [
    "sum1 = np.sum(Accumulated_BDMflux)\n",
    "sum2 = np.sum(Accumulated_BDMflux_single)\n",
    "print(sum1)\n",
    "print(sum2)"
   ]
  },
  {
   "cell_type": "code",
   "execution_count": 16,
   "id": "ed733441",
   "metadata": {},
   "outputs": [
    {
     "ename": "ValueError",
     "evalue": "x and y must have same first dimension, but have shapes (1,) and (0,)",
     "output_type": "error",
     "traceback": [
      "\u001b[0;31m---------------------------------------------------------------------------\u001b[0m",
      "\u001b[0;31mValueError\u001b[0m                                Traceback (most recent call last)",
      "\u001b[0;32m/tmp/ipykernel_3256/652673087.py\u001b[0m in \u001b[0;36m<module>\u001b[0;34m\u001b[0m\n\u001b[0;32m----> 1\u001b[0;31m \u001b[0mplt\u001b[0m\u001b[0;34m.\u001b[0m\u001b[0mplot\u001b[0m\u001b[0;34m(\u001b[0m\u001b[0mTx\u001b[0m\u001b[0;34m,\u001b[0m\u001b[0mAccumulated_BDMflux\u001b[0m\u001b[0;34m,\u001b[0m\u001b[0mcolor\u001b[0m\u001b[0;34m=\u001b[0m\u001b[0;34m'royalblue'\u001b[0m\u001b[0;34m,\u001b[0m\u001b[0mlabel\u001b[0m\u001b[0;34m=\u001b[0m\u001b[0;34m'$multiple-direction$'\u001b[0m\u001b[0;34m)\u001b[0m\u001b[0;34m\u001b[0m\u001b[0;34m\u001b[0m\u001b[0m\n\u001b[0m\u001b[1;32m      2\u001b[0m \u001b[0mplt\u001b[0m\u001b[0;34m.\u001b[0m\u001b[0mplot\u001b[0m\u001b[0;34m(\u001b[0m\u001b[0mTx\u001b[0m\u001b[0;34m,\u001b[0m\u001b[0mAccumulated_BDMflux_single\u001b[0m\u001b[0;34m,\u001b[0m\u001b[0mcolor\u001b[0m\u001b[0;34m=\u001b[0m\u001b[0;34m'red'\u001b[0m\u001b[0;34m,\u001b[0m\u001b[0mlabel\u001b[0m\u001b[0;34m=\u001b[0m\u001b[0;34m'$single-direction$'\u001b[0m\u001b[0;34m)\u001b[0m\u001b[0;34m\u001b[0m\u001b[0;34m\u001b[0m\u001b[0m\n\u001b[1;32m      3\u001b[0m \u001b[0;31m#plt.xscale('log')\u001b[0m\u001b[0;34m\u001b[0m\u001b[0;34m\u001b[0m\u001b[0;34m\u001b[0m\u001b[0m\n\u001b[1;32m      4\u001b[0m \u001b[0mplt\u001b[0m\u001b[0;34m.\u001b[0m\u001b[0myscale\u001b[0m\u001b[0;34m(\u001b[0m\u001b[0;34m'log'\u001b[0m\u001b[0;34m)\u001b[0m\u001b[0;34m\u001b[0m\u001b[0;34m\u001b[0m\u001b[0m\n\u001b[1;32m      5\u001b[0m \u001b[0mplt\u001b[0m\u001b[0;34m.\u001b[0m\u001b[0mlegend\u001b[0m\u001b[0;34m(\u001b[0m\u001b[0mloc\u001b[0m\u001b[0;34m=\u001b[0m\u001b[0;34m'best'\u001b[0m\u001b[0;34m)\u001b[0m\u001b[0;34m\u001b[0m\u001b[0;34m\u001b[0m\u001b[0m\n",
      "\u001b[0;32m~/.local/lib/python3.8/site-packages/matplotlib/pyplot.py\u001b[0m in \u001b[0;36mplot\u001b[0;34m(scalex, scaley, data, *args, **kwargs)\u001b[0m\n\u001b[1;32m   3017\u001b[0m \u001b[0;34m@\u001b[0m\u001b[0m_copy_docstring_and_deprecators\u001b[0m\u001b[0;34m(\u001b[0m\u001b[0mAxes\u001b[0m\u001b[0;34m.\u001b[0m\u001b[0mplot\u001b[0m\u001b[0;34m)\u001b[0m\u001b[0;34m\u001b[0m\u001b[0;34m\u001b[0m\u001b[0m\n\u001b[1;32m   3018\u001b[0m \u001b[0;32mdef\u001b[0m \u001b[0mplot\u001b[0m\u001b[0;34m(\u001b[0m\u001b[0;34m*\u001b[0m\u001b[0margs\u001b[0m\u001b[0;34m,\u001b[0m \u001b[0mscalex\u001b[0m\u001b[0;34m=\u001b[0m\u001b[0;32mTrue\u001b[0m\u001b[0;34m,\u001b[0m \u001b[0mscaley\u001b[0m\u001b[0;34m=\u001b[0m\u001b[0;32mTrue\u001b[0m\u001b[0;34m,\u001b[0m \u001b[0mdata\u001b[0m\u001b[0;34m=\u001b[0m\u001b[0;32mNone\u001b[0m\u001b[0;34m,\u001b[0m \u001b[0;34m**\u001b[0m\u001b[0mkwargs\u001b[0m\u001b[0;34m)\u001b[0m\u001b[0;34m:\u001b[0m\u001b[0;34m\u001b[0m\u001b[0;34m\u001b[0m\u001b[0m\n\u001b[0;32m-> 3019\u001b[0;31m     return gca().plot(\n\u001b[0m\u001b[1;32m   3020\u001b[0m         \u001b[0;34m*\u001b[0m\u001b[0margs\u001b[0m\u001b[0;34m,\u001b[0m \u001b[0mscalex\u001b[0m\u001b[0;34m=\u001b[0m\u001b[0mscalex\u001b[0m\u001b[0;34m,\u001b[0m \u001b[0mscaley\u001b[0m\u001b[0;34m=\u001b[0m\u001b[0mscaley\u001b[0m\u001b[0;34m,\u001b[0m\u001b[0;34m\u001b[0m\u001b[0;34m\u001b[0m\u001b[0m\n\u001b[1;32m   3021\u001b[0m         **({\"data\": data} if data is not None else {}), **kwargs)\n",
      "\u001b[0;32m~/.local/lib/python3.8/site-packages/matplotlib/axes/_axes.py\u001b[0m in \u001b[0;36mplot\u001b[0;34m(self, scalex, scaley, data, *args, **kwargs)\u001b[0m\n\u001b[1;32m   1603\u001b[0m         \"\"\"\n\u001b[1;32m   1604\u001b[0m         \u001b[0mkwargs\u001b[0m \u001b[0;34m=\u001b[0m \u001b[0mcbook\u001b[0m\u001b[0;34m.\u001b[0m\u001b[0mnormalize_kwargs\u001b[0m\u001b[0;34m(\u001b[0m\u001b[0mkwargs\u001b[0m\u001b[0;34m,\u001b[0m \u001b[0mmlines\u001b[0m\u001b[0;34m.\u001b[0m\u001b[0mLine2D\u001b[0m\u001b[0;34m)\u001b[0m\u001b[0;34m\u001b[0m\u001b[0;34m\u001b[0m\u001b[0m\n\u001b[0;32m-> 1605\u001b[0;31m         \u001b[0mlines\u001b[0m \u001b[0;34m=\u001b[0m \u001b[0;34m[\u001b[0m\u001b[0;34m*\u001b[0m\u001b[0mself\u001b[0m\u001b[0;34m.\u001b[0m\u001b[0m_get_lines\u001b[0m\u001b[0;34m(\u001b[0m\u001b[0;34m*\u001b[0m\u001b[0margs\u001b[0m\u001b[0;34m,\u001b[0m \u001b[0mdata\u001b[0m\u001b[0;34m=\u001b[0m\u001b[0mdata\u001b[0m\u001b[0;34m,\u001b[0m \u001b[0;34m**\u001b[0m\u001b[0mkwargs\u001b[0m\u001b[0;34m)\u001b[0m\u001b[0;34m]\u001b[0m\u001b[0;34m\u001b[0m\u001b[0;34m\u001b[0m\u001b[0m\n\u001b[0m\u001b[1;32m   1606\u001b[0m         \u001b[0;32mfor\u001b[0m \u001b[0mline\u001b[0m \u001b[0;32min\u001b[0m \u001b[0mlines\u001b[0m\u001b[0;34m:\u001b[0m\u001b[0;34m\u001b[0m\u001b[0;34m\u001b[0m\u001b[0m\n\u001b[1;32m   1607\u001b[0m             \u001b[0mself\u001b[0m\u001b[0;34m.\u001b[0m\u001b[0madd_line\u001b[0m\u001b[0;34m(\u001b[0m\u001b[0mline\u001b[0m\u001b[0;34m)\u001b[0m\u001b[0;34m\u001b[0m\u001b[0;34m\u001b[0m\u001b[0m\n",
      "\u001b[0;32m~/.local/lib/python3.8/site-packages/matplotlib/axes/_base.py\u001b[0m in \u001b[0;36m__call__\u001b[0;34m(self, data, *args, **kwargs)\u001b[0m\n\u001b[1;32m    313\u001b[0m                 \u001b[0mthis\u001b[0m \u001b[0;34m+=\u001b[0m \u001b[0margs\u001b[0m\u001b[0;34m[\u001b[0m\u001b[0;36m0\u001b[0m\u001b[0;34m]\u001b[0m\u001b[0;34m,\u001b[0m\u001b[0;34m\u001b[0m\u001b[0;34m\u001b[0m\u001b[0m\n\u001b[1;32m    314\u001b[0m                 \u001b[0margs\u001b[0m \u001b[0;34m=\u001b[0m \u001b[0margs\u001b[0m\u001b[0;34m[\u001b[0m\u001b[0;36m1\u001b[0m\u001b[0;34m:\u001b[0m\u001b[0;34m]\u001b[0m\u001b[0;34m\u001b[0m\u001b[0;34m\u001b[0m\u001b[0m\n\u001b[0;32m--> 315\u001b[0;31m             \u001b[0;32myield\u001b[0m \u001b[0;32mfrom\u001b[0m \u001b[0mself\u001b[0m\u001b[0;34m.\u001b[0m\u001b[0m_plot_args\u001b[0m\u001b[0;34m(\u001b[0m\u001b[0mthis\u001b[0m\u001b[0;34m,\u001b[0m \u001b[0mkwargs\u001b[0m\u001b[0;34m)\u001b[0m\u001b[0;34m\u001b[0m\u001b[0;34m\u001b[0m\u001b[0m\n\u001b[0m\u001b[1;32m    316\u001b[0m \u001b[0;34m\u001b[0m\u001b[0m\n\u001b[1;32m    317\u001b[0m     \u001b[0;32mdef\u001b[0m \u001b[0mget_next_color\u001b[0m\u001b[0;34m(\u001b[0m\u001b[0mself\u001b[0m\u001b[0;34m)\u001b[0m\u001b[0;34m:\u001b[0m\u001b[0;34m\u001b[0m\u001b[0;34m\u001b[0m\u001b[0m\n",
      "\u001b[0;32m~/.local/lib/python3.8/site-packages/matplotlib/axes/_base.py\u001b[0m in \u001b[0;36m_plot_args\u001b[0;34m(self, tup, kwargs, return_kwargs)\u001b[0m\n\u001b[1;32m    499\u001b[0m \u001b[0;34m\u001b[0m\u001b[0m\n\u001b[1;32m    500\u001b[0m         \u001b[0;32mif\u001b[0m \u001b[0mx\u001b[0m\u001b[0;34m.\u001b[0m\u001b[0mshape\u001b[0m\u001b[0;34m[\u001b[0m\u001b[0;36m0\u001b[0m\u001b[0;34m]\u001b[0m \u001b[0;34m!=\u001b[0m \u001b[0my\u001b[0m\u001b[0;34m.\u001b[0m\u001b[0mshape\u001b[0m\u001b[0;34m[\u001b[0m\u001b[0;36m0\u001b[0m\u001b[0;34m]\u001b[0m\u001b[0;34m:\u001b[0m\u001b[0;34m\u001b[0m\u001b[0;34m\u001b[0m\u001b[0m\n\u001b[0;32m--> 501\u001b[0;31m             raise ValueError(f\"x and y must have same first dimension, but \"\n\u001b[0m\u001b[1;32m    502\u001b[0m                              f\"have shapes {x.shape} and {y.shape}\")\n\u001b[1;32m    503\u001b[0m         \u001b[0;32mif\u001b[0m \u001b[0mx\u001b[0m\u001b[0;34m.\u001b[0m\u001b[0mndim\u001b[0m \u001b[0;34m>\u001b[0m \u001b[0;36m2\u001b[0m \u001b[0;32mor\u001b[0m \u001b[0my\u001b[0m\u001b[0;34m.\u001b[0m\u001b[0mndim\u001b[0m \u001b[0;34m>\u001b[0m \u001b[0;36m2\u001b[0m\u001b[0;34m:\u001b[0m\u001b[0;34m\u001b[0m\u001b[0;34m\u001b[0m\u001b[0m\n",
      "\u001b[0;31mValueError\u001b[0m: x and y must have same first dimension, but have shapes (1,) and (0,)"
     ]
    },
    {
     "data": {
      "image/png": "[encoded data removed]",
      "text/plain": [
       "<Figure size 432x288 with 1 Axes>"
      ]
     },
     "metadata": {
      "needs_background": "light"
     },
     "output_type": "display_data"
    }
   ],
   "source": [
    "plt.plot(Tx,Accumulated_BDMflux,color='royalblue',label='$multiple-direction$')\n",
    "plt.plot(Tx,Accumulated_BDMflux_single,color='red',label='$single-direction$')\n",
    "#plt.xscale('log')\n",
    "plt.yscale('log')\n",
    "plt.legend(loc='best')\n",
    "plt.title(r'$m_\\chi =$'+str(mx)+' MeV')\n",
    "#plt.ylim(1e-19,1e-7)\n",
    "plt.xlabel('Tx(MeV)')\n",
    "plt.ylabel(r'$Accumulated BDM Number$')\n",
    "plt.show()"
   ]
  },
  {
   "cell_type": "code",
   "execution_count": null,
   "id": "0f3a28f2",
   "metadata": {},
   "outputs": [],
   "source": []
  }
 ],
 "metadata": {
  "kernelspec": {
   "display_name": "Python 3 (ipykernel)",
   "language": "python",
   "name": "python3"
  },
  "language_info": {
   "codemirror_mode": {
    "name": "ipython",
    "version": 3
   },
   "file_extension": ".py",
   "mimetype": "text/x-python",
   "name": "python",
   "nbconvert_exporter": "python",
   "pygments_lexer": "ipython3",
   "version": "3.8.10"
  }
 },
 "nbformat": 4,
 "nbformat_minor": 5
}
